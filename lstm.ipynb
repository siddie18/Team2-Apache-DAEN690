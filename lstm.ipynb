{
 "cells": [
  {
   "cell_type": "markdown",
   "source": [
    "## LSTM Sliding Window Technique to predict rotorcraft phase\n",
    "\n",
    "#### Installation\n",
    "1) Create conda environment with python 3.9\n",
    "2) Install following packages\n",
    "    conda install -c conda-forge pandas\n",
    "    conda install -c conda-forge numpy\n",
    "    conda install -c conda-forge scikit-learn\n",
    "    conda install -c conda-forge jupyter\n",
    "    conda install pytorch torchvision torchaudio pytorch-cuda=12.1 -c pytorch -c nvidia\n",
    "3) Install GPU drivers for better speed\n",
    "\n",
    "#### Notes\n",
    "The code was run on a GPU equipped machine\n",
    "With GPU capability, training takes only a few minutes. With CPU, this could take hours\n",
    "\n",
    "#### About LSTM\n",
    "Long Short-Term Memory (LSTM) is a type of recurrent neural network (RNN) designed for handling sequential data.\n",
    "The rotorcraft data is sequential in nature and LSTM can identify patterns in this type of data well."
   ],
   "metadata": {
    "collapsed": false
   }
  },
  {
   "cell_type": "code",
   "execution_count": 1,
   "outputs": [],
   "source": [
    "import utils"
   ],
   "metadata": {
    "collapsed": false,
    "ExecuteTime": {
     "end_time": "2023-11-07T04:52:47.761892600Z",
     "start_time": "2023-11-07T04:52:45.870678400Z"
    }
   }
  },
  {
   "cell_type": "markdown",
   "source": [
    "#### Load Training Data\n",
    "Loads only these columns - 'Vert. Speed', 'Groundspeed', 'Altitude(AGL)', 'Date', 'System UTC Time'"
   ],
   "metadata": {
    "collapsed": false
   }
  },
  {
   "cell_type": "code",
   "execution_count": 2,
   "outputs": [
    {
     "name": "stdout",
     "output_type": "stream",
     "text": [
      "reading file data/train_data\\SimData_2022.07.28_10.07.30.csv\n",
      "reading file data/train_data\\SimData_2022.07.28_10.11.13.csv\n",
      "reading file data/train_data\\SimData_2022.07.28_10.59.59.csv\n",
      "reading file data/train_data\\SimData_2022.07.28_11.47.45.csv\n",
      "reading file data/train_data\\SimData_2022.07.28_12.16.14.csv\n",
      "reading file data/train_data\\SimData_2022.07.28_13.45.28.csv\n",
      "reading file data/train_data\\SimData_2022.07.28_14.02.12.csv\n",
      "reading file data/train_data\\SimData_2022.07.28_14.19.29.csv\n",
      "reading file data/train_data\\SimData_2022.07.28_14.44.18.csv\n",
      "reading file data/train_data\\SimData_2022.07.28_15.13.02.csv\n",
      "reading file data/train_data\\SimData_2022.07.28_15.57.11.csv\n",
      "reading file data/train_data\\SimData_2022.07.28_16.45.29.csv\n",
      "reading file data/train_data\\SimData_2022.07.28_16.51.43.csv\n",
      "reading file data/train_data\\SimData_2022.07.28_16.59.08.csv\n",
      "reading file data/train_data\\SimData_2022.10.20_12.43.14.csv\n",
      "reading file data/train_data\\SimData_2022.10.20_13.25.49.csv\n",
      "reading file data/train_data\\SimData_2022.10.20_14.12.52.csv\n",
      "reading file data/train_data\\SimData_2022.10.20_14.38.21.csv\n",
      "reading file data/train_data\\SimData_2022.10.20_16.07.20.csv\n",
      "reading file data/train_data\\SimData_2022.10.20_17.19.15.csv\n",
      "reading file data/train_data\\SimData_2023.01.26_09.18.03.csv\n",
      "reading file data/train_data\\SimData_2023.01.26_10.12.36.csv\n",
      "reading file data/train_data\\SimData_2023.01.26_11.09.26.csv\n",
      "reading file data/train_data\\SimData_2023.01.26_11.10.13.csv\n",
      "reading file data/train_data\\SimData_2023.01.26_11.10.42.csv\n",
      "reading file data/train_data\\SimData_2023.01.26_11.50.31.csv\n",
      "reading file data/train_data\\SimData_2023.01.26_12.04.17.csv\n",
      "reading file data/train_data\\SimData_2023.01.26_13.42.29.csv\n",
      "reading file data/train_data\\SimData_2023.01.26_14.04.30.csv\n",
      "reading file data/train_data\\SimData_2023.01.26_14.35.36.csv\n",
      "reading file data/train_data\\SimData_2023.01.26_15.49.25.csv\n",
      "reading file data/train_data\\SimData_2023.01.26_16.05.57.csv\n",
      "reading file data/train_data\\SimData_2023.02.16_09.13.11.csv\n",
      "reading file data/train_data\\SimData_2023.02.16_09.37.37.csv\n",
      "reading file data/train_data\\SimData_2023.02.16_10.13.55.csv\n",
      "reading file data/train_data\\SimData_2023.02.16_10.34.02.csv\n",
      "reading file data/train_data\\SimData_2023.02.16_11.01.03.csv\n",
      "reading file data/train_data\\SimData_2023.02.16_11.07.31.csv\n",
      "reading file data/train_data\\SimData_2023.02.16_13.29.41.csv\n",
      "reading file data/train_data\\SimData_2023.02.16_13.37.19.csv\n",
      "reading file data/train_data\\SimData_2023.02.16_13.51.10.csv\n",
      "reading file data/train_data\\SimData_2023.02.16_13.55.42.csv\n",
      "reading file data/train_data\\SimData_2023.02.16_14.00.36.csv\n",
      "reading file data/train_data\\SimData_2023.02.16_14.05.41.csv\n",
      "reading file data/train_data\\SimData_2023.02.16_14.12.50.csv\n",
      "reading file data/train_data\\SimData_2023.02.16_14.17.26.csv\n",
      "reading file data/train_data\\SimData_2023.06.01_09.07.29.csv\n",
      "reading file data/train_data\\SimData_2023.06.01_10.41.44.csv\n",
      "reading file data/train_data\\SimData_2023.06.01_11.19.44.csv\n",
      "reading file data/train_data\\SimData_2023.06.01_13.06.40.csv\n",
      "reading file data/train_data\\SimData_2023.06.01_13.21.58.csv\n"
     ]
    },
    {
     "data": {
      "text/plain": "   Vert. Speed Groundspeed Altitude(AGL)        Date System UTC Time\n1       -0.001       0.041          0.06  07/28/2022    14:07:52.445\n2        0.004       0.038          0.06  07/28/2022    14:07:52.467\n3        0.008       0.032          0.06  07/28/2022    14:07:52.485\n4        0.011       0.019          0.06  07/28/2022    14:07:52.523\n5        0.013       0.010          0.06  07/28/2022    14:07:52.546\n6        0.015       0.004          0.06  07/28/2022    14:07:52.569\n7        0.016       0.008          0.06  07/28/2022    14:07:52.593\n8        0.018       0.012          0.06  07/28/2022    14:07:52.616\n9        0.019       0.014          0.06  07/28/2022    14:07:52.639\n10       0.021       0.013          0.06  07/28/2022    14:07:52.663",
      "text/html": "<div>\n<style scoped>\n    .dataframe tbody tr th:only-of-type {\n        vertical-align: middle;\n    }\n\n    .dataframe tbody tr th {\n        vertical-align: top;\n    }\n\n    .dataframe thead th {\n        text-align: right;\n    }\n</style>\n<table border=\"1\" class=\"dataframe\">\n  <thead>\n    <tr style=\"text-align: right;\">\n      <th></th>\n      <th>Vert. Speed</th>\n      <th>Groundspeed</th>\n      <th>Altitude(AGL)</th>\n      <th>Date</th>\n      <th>System UTC Time</th>\n    </tr>\n  </thead>\n  <tbody>\n    <tr>\n      <th>1</th>\n      <td>-0.001</td>\n      <td>0.041</td>\n      <td>0.06</td>\n      <td>07/28/2022</td>\n      <td>14:07:52.445</td>\n    </tr>\n    <tr>\n      <th>2</th>\n      <td>0.004</td>\n      <td>0.038</td>\n      <td>0.06</td>\n      <td>07/28/2022</td>\n      <td>14:07:52.467</td>\n    </tr>\n    <tr>\n      <th>3</th>\n      <td>0.008</td>\n      <td>0.032</td>\n      <td>0.06</td>\n      <td>07/28/2022</td>\n      <td>14:07:52.485</td>\n    </tr>\n    <tr>\n      <th>4</th>\n      <td>0.011</td>\n      <td>0.019</td>\n      <td>0.06</td>\n      <td>07/28/2022</td>\n      <td>14:07:52.523</td>\n    </tr>\n    <tr>\n      <th>5</th>\n      <td>0.013</td>\n      <td>0.010</td>\n      <td>0.06</td>\n      <td>07/28/2022</td>\n      <td>14:07:52.546</td>\n    </tr>\n    <tr>\n      <th>6</th>\n      <td>0.015</td>\n      <td>0.004</td>\n      <td>0.06</td>\n      <td>07/28/2022</td>\n      <td>14:07:52.569</td>\n    </tr>\n    <tr>\n      <th>7</th>\n      <td>0.016</td>\n      <td>0.008</td>\n      <td>0.06</td>\n      <td>07/28/2022</td>\n      <td>14:07:52.593</td>\n    </tr>\n    <tr>\n      <th>8</th>\n      <td>0.018</td>\n      <td>0.012</td>\n      <td>0.06</td>\n      <td>07/28/2022</td>\n      <td>14:07:52.616</td>\n    </tr>\n    <tr>\n      <th>9</th>\n      <td>0.019</td>\n      <td>0.014</td>\n      <td>0.06</td>\n      <td>07/28/2022</td>\n      <td>14:07:52.639</td>\n    </tr>\n    <tr>\n      <th>10</th>\n      <td>0.021</td>\n      <td>0.013</td>\n      <td>0.06</td>\n      <td>07/28/2022</td>\n      <td>14:07:52.663</td>\n    </tr>\n  </tbody>\n</table>\n</div>"
     },
     "execution_count": 2,
     "metadata": {},
     "output_type": "execute_result"
    }
   ],
   "source": [
    "train_csv_directory = 'data/train_data'\n",
    "selected_df = utils.load_data_from_dir(train_csv_directory)\n",
    "selected_df.head(10)"
   ],
   "metadata": {
    "collapsed": false,
    "ExecuteTime": {
     "end_time": "2023-11-07T04:53:56.340047100Z",
     "start_time": "2023-11-07T04:52:47.763891500Z"
    }
   }
  },
  {
   "cell_type": "code",
   "execution_count": 3,
   "outputs": [
    {
     "name": "stdout",
     "output_type": "stream",
     "text": [
      "column data types\n"
     ]
    },
    {
     "data": {
      "text/plain": "Vert. Speed        object\nGroundspeed        object\nAltitude(AGL)      object\nDate               object\nSystem UTC Time    object\ndtype: object"
     },
     "execution_count": 3,
     "metadata": {},
     "output_type": "execute_result"
    }
   ],
   "source": [
    "print('column data types')\n",
    "selected_df.dtypes"
   ],
   "metadata": {
    "collapsed": false,
    "ExecuteTime": {
     "end_time": "2023-11-07T04:53:56.385073800Z",
     "start_time": "2023-11-07T04:53:56.341052Z"
    }
   }
  },
  {
   "cell_type": "markdown",
   "source": [
    "#### Formatting involves\n",
    "a) Combine Date and Time column and change type to datetime\n",
    "b) Convert columns to float - 'Vert. Speed', 'Groundspeed', 'Altitude(AGL)'\n",
    "c) Sort by datetime so LSTM sequences are in order of phase occurrence\n"
   ],
   "metadata": {
    "collapsed": false
   }
  },
  {
   "cell_type": "code",
   "execution_count": 4,
   "outputs": [
    {
     "data": {
      "text/plain": "   Vert. Speed  Groundspeed  Altitude(AGL)                DateTime\n0       -0.001        0.041           0.06 2022-07-28 14:07:52.445\n1        0.004        0.038           0.06 2022-07-28 14:07:52.467\n2        0.008        0.032           0.06 2022-07-28 14:07:52.485\n3        0.011        0.019           0.06 2022-07-28 14:07:52.523\n4        0.013        0.010           0.06 2022-07-28 14:07:52.546\n5        0.015        0.004           0.06 2022-07-28 14:07:52.569\n6        0.016        0.008           0.06 2022-07-28 14:07:52.593\n7        0.018        0.012           0.06 2022-07-28 14:07:52.616\n8        0.019        0.014           0.06 2022-07-28 14:07:52.639\n9        0.021        0.013           0.06 2022-07-28 14:07:52.663",
      "text/html": "<div>\n<style scoped>\n    .dataframe tbody tr th:only-of-type {\n        vertical-align: middle;\n    }\n\n    .dataframe tbody tr th {\n        vertical-align: top;\n    }\n\n    .dataframe thead th {\n        text-align: right;\n    }\n</style>\n<table border=\"1\" class=\"dataframe\">\n  <thead>\n    <tr style=\"text-align: right;\">\n      <th></th>\n      <th>Vert. Speed</th>\n      <th>Groundspeed</th>\n      <th>Altitude(AGL)</th>\n      <th>DateTime</th>\n    </tr>\n  </thead>\n  <tbody>\n    <tr>\n      <th>0</th>\n      <td>-0.001</td>\n      <td>0.041</td>\n      <td>0.06</td>\n      <td>2022-07-28 14:07:52.445</td>\n    </tr>\n    <tr>\n      <th>1</th>\n      <td>0.004</td>\n      <td>0.038</td>\n      <td>0.06</td>\n      <td>2022-07-28 14:07:52.467</td>\n    </tr>\n    <tr>\n      <th>2</th>\n      <td>0.008</td>\n      <td>0.032</td>\n      <td>0.06</td>\n      <td>2022-07-28 14:07:52.485</td>\n    </tr>\n    <tr>\n      <th>3</th>\n      <td>0.011</td>\n      <td>0.019</td>\n      <td>0.06</td>\n      <td>2022-07-28 14:07:52.523</td>\n    </tr>\n    <tr>\n      <th>4</th>\n      <td>0.013</td>\n      <td>0.010</td>\n      <td>0.06</td>\n      <td>2022-07-28 14:07:52.546</td>\n    </tr>\n    <tr>\n      <th>5</th>\n      <td>0.015</td>\n      <td>0.004</td>\n      <td>0.06</td>\n      <td>2022-07-28 14:07:52.569</td>\n    </tr>\n    <tr>\n      <th>6</th>\n      <td>0.016</td>\n      <td>0.008</td>\n      <td>0.06</td>\n      <td>2022-07-28 14:07:52.593</td>\n    </tr>\n    <tr>\n      <th>7</th>\n      <td>0.018</td>\n      <td>0.012</td>\n      <td>0.06</td>\n      <td>2022-07-28 14:07:52.616</td>\n    </tr>\n    <tr>\n      <th>8</th>\n      <td>0.019</td>\n      <td>0.014</td>\n      <td>0.06</td>\n      <td>2022-07-28 14:07:52.639</td>\n    </tr>\n    <tr>\n      <th>9</th>\n      <td>0.021</td>\n      <td>0.013</td>\n      <td>0.06</td>\n      <td>2022-07-28 14:07:52.663</td>\n    </tr>\n  </tbody>\n</table>\n</div>"
     },
     "execution_count": 4,
     "metadata": {},
     "output_type": "execute_result"
    }
   ],
   "source": [
    "formatted_df = utils.format_data(selected_df)\n",
    "formatted_df.head(10)"
   ],
   "metadata": {
    "collapsed": false,
    "ExecuteTime": {
     "end_time": "2023-11-07T04:54:00.918438100Z",
     "start_time": "2023-11-07T04:53:56.357053Z"
    }
   }
  },
  {
   "cell_type": "code",
   "execution_count": 5,
   "outputs": [
    {
     "name": "stdout",
     "output_type": "stream",
     "text": [
      "column type after formatting\n"
     ]
    },
    {
     "data": {
      "text/plain": "Vert. Speed             float64\nGroundspeed             float64\nAltitude(AGL)           float64\nDateTime         datetime64[ns]\ndtype: object"
     },
     "execution_count": 5,
     "metadata": {},
     "output_type": "execute_result"
    }
   ],
   "source": [
    "print('column type after formatting')\n",
    "formatted_df.dtypes"
   ],
   "metadata": {
    "collapsed": false,
    "ExecuteTime": {
     "end_time": "2023-11-07T04:54:00.949056700Z",
     "start_time": "2023-11-07T04:54:00.920762400Z"
    }
   }
  },
  {
   "cell_type": "markdown",
   "source": [
    "#### Define physics model to tag phase of each row"
   ],
   "metadata": {
    "collapsed": false
   }
  },
  {
   "cell_type": "code",
   "execution_count": 6,
   "outputs": [],
   "source": [
    "#Physics model\n",
    "def is_close_to_zero(value, tolerance=1e-6):\n",
    "    return abs(value) < tolerance\n",
    "\n",
    "# Create a function to identify phases\n",
    "def identify_phase(Vert_Speed, Groundspeed, Altitude_AGL):\n",
    "    if is_close_to_zero(Vert_Speed) and Groundspeed < 0.6 and 0 <= Altitude_AGL < 2:\n",
    "        return \"Standing\"\n",
    "    elif is_close_to_zero(Vert_Speed) and 0.6 <= Groundspeed < 20 and 0 <= Altitude_AGL < 2:\n",
    "        return \"Surface Taxi\"\n",
    "    elif is_close_to_zero(Vert_Speed) and 0.6 <= Groundspeed < 30 and 2 <= Altitude_AGL < 25:\n",
    "        return \"Hover Taxi\"\n",
    "    elif is_close_to_zero(Vert_Speed) and 0.6 <= Groundspeed < 50 and 25 <= Altitude_AGL < 100:\n",
    "        return \"Air Taxi\"\n",
    "    elif -90 <= Vert_Speed <= 90 and Groundspeed <= 0.6 and Altitude_AGL < 2:\n",
    "        return \"Hover In Ground Effect\"\n",
    "    elif -90 <= Vert_Speed <= 90 and Groundspeed <= 0.6 and Altitude_AGL >= 100:\n",
    "        return \"Hover\"\n",
    "    elif Vert_Speed > 90 and Groundspeed <= 0.6 and Altitude_AGL < 100:\n",
    "        return \"Hover Lift\"\n",
    "    elif Vert_Speed < -90 and Groundspeed <= 0.6 and Altitude_AGL < 100:\n",
    "        return \"Hover Descent\"\n",
    "    elif Vert_Speed > 90 and Altitude_AGL >= 100:\n",
    "        return \"Climb\"\n",
    "    elif -90 <= Vert_Speed <= 90 and Groundspeed > 0.6 and Altitude_AGL >= 100:\n",
    "        return \"Cruise\"\n",
    "    elif Vert_Speed < -90 and Altitude_AGL >= 100:\n",
    "        return \"Descent\"\n",
    "    else:\n",
    "        return \"LandingOrTakeOff\"\n"
   ],
   "metadata": {
    "collapsed": false,
    "ExecuteTime": {
     "end_time": "2023-11-07T04:54:00.979073800Z",
     "start_time": "2023-11-07T04:54:00.938051300Z"
    }
   }
  },
  {
   "cell_type": "markdown",
   "source": [
    "#### Add phase column using physics definition"
   ],
   "metadata": {
    "collapsed": false
   }
  },
  {
   "cell_type": "code",
   "execution_count": 7,
   "outputs": [
    {
     "data": {
      "text/plain": "   Vert. Speed  Groundspeed  Altitude(AGL)                DateTime  \\\n0       -0.001        0.041           0.06 2022-07-28 14:07:52.445   \n1        0.004        0.038           0.06 2022-07-28 14:07:52.467   \n2        0.008        0.032           0.06 2022-07-28 14:07:52.485   \n3        0.011        0.019           0.06 2022-07-28 14:07:52.523   \n4        0.013        0.010           0.06 2022-07-28 14:07:52.546   \n5        0.015        0.004           0.06 2022-07-28 14:07:52.569   \n6        0.016        0.008           0.06 2022-07-28 14:07:52.593   \n7        0.018        0.012           0.06 2022-07-28 14:07:52.616   \n8        0.019        0.014           0.06 2022-07-28 14:07:52.639   \n9        0.021        0.013           0.06 2022-07-28 14:07:52.663   \n\n                    Phase  \n0  Hover In Ground Effect  \n1  Hover In Ground Effect  \n2  Hover In Ground Effect  \n3  Hover In Ground Effect  \n4  Hover In Ground Effect  \n5  Hover In Ground Effect  \n6  Hover In Ground Effect  \n7  Hover In Ground Effect  \n8  Hover In Ground Effect  \n9  Hover In Ground Effect  ",
      "text/html": "<div>\n<style scoped>\n    .dataframe tbody tr th:only-of-type {\n        vertical-align: middle;\n    }\n\n    .dataframe tbody tr th {\n        vertical-align: top;\n    }\n\n    .dataframe thead th {\n        text-align: right;\n    }\n</style>\n<table border=\"1\" class=\"dataframe\">\n  <thead>\n    <tr style=\"text-align: right;\">\n      <th></th>\n      <th>Vert. Speed</th>\n      <th>Groundspeed</th>\n      <th>Altitude(AGL)</th>\n      <th>DateTime</th>\n      <th>Phase</th>\n    </tr>\n  </thead>\n  <tbody>\n    <tr>\n      <th>0</th>\n      <td>-0.001</td>\n      <td>0.041</td>\n      <td>0.06</td>\n      <td>2022-07-28 14:07:52.445</td>\n      <td>Hover In Ground Effect</td>\n    </tr>\n    <tr>\n      <th>1</th>\n      <td>0.004</td>\n      <td>0.038</td>\n      <td>0.06</td>\n      <td>2022-07-28 14:07:52.467</td>\n      <td>Hover In Ground Effect</td>\n    </tr>\n    <tr>\n      <th>2</th>\n      <td>0.008</td>\n      <td>0.032</td>\n      <td>0.06</td>\n      <td>2022-07-28 14:07:52.485</td>\n      <td>Hover In Ground Effect</td>\n    </tr>\n    <tr>\n      <th>3</th>\n      <td>0.011</td>\n      <td>0.019</td>\n      <td>0.06</td>\n      <td>2022-07-28 14:07:52.523</td>\n      <td>Hover In Ground Effect</td>\n    </tr>\n    <tr>\n      <th>4</th>\n      <td>0.013</td>\n      <td>0.010</td>\n      <td>0.06</td>\n      <td>2022-07-28 14:07:52.546</td>\n      <td>Hover In Ground Effect</td>\n    </tr>\n    <tr>\n      <th>5</th>\n      <td>0.015</td>\n      <td>0.004</td>\n      <td>0.06</td>\n      <td>2022-07-28 14:07:52.569</td>\n      <td>Hover In Ground Effect</td>\n    </tr>\n    <tr>\n      <th>6</th>\n      <td>0.016</td>\n      <td>0.008</td>\n      <td>0.06</td>\n      <td>2022-07-28 14:07:52.593</td>\n      <td>Hover In Ground Effect</td>\n    </tr>\n    <tr>\n      <th>7</th>\n      <td>0.018</td>\n      <td>0.012</td>\n      <td>0.06</td>\n      <td>2022-07-28 14:07:52.616</td>\n      <td>Hover In Ground Effect</td>\n    </tr>\n    <tr>\n      <th>8</th>\n      <td>0.019</td>\n      <td>0.014</td>\n      <td>0.06</td>\n      <td>2022-07-28 14:07:52.639</td>\n      <td>Hover In Ground Effect</td>\n    </tr>\n    <tr>\n      <th>9</th>\n      <td>0.021</td>\n      <td>0.013</td>\n      <td>0.06</td>\n      <td>2022-07-28 14:07:52.663</td>\n      <td>Hover In Ground Effect</td>\n    </tr>\n  </tbody>\n</table>\n</div>"
     },
     "execution_count": 7,
     "metadata": {},
     "output_type": "execute_result"
    }
   ],
   "source": [
    "# Apply the function to identify phases for each row\n",
    "formatted_df['Phase'] = formatted_df.apply(\n",
    "    lambda row: identify_phase(row['Vert. Speed'], row['Groundspeed'], row['Altitude(AGL)']), axis=1)\n",
    "\n",
    "formatted_df.head(10)"
   ],
   "metadata": {
    "collapsed": false,
    "ExecuteTime": {
     "end_time": "2023-11-07T04:54:23.965660Z",
     "start_time": "2023-11-07T04:54:00.951056800Z"
    }
   }
  },
  {
   "cell_type": "code",
   "execution_count": 8,
   "outputs": [
    {
     "name": "stdout",
     "output_type": "stream",
     "text": [
      "number of training rows 3080267\n"
     ]
    },
    {
     "data": {
      "text/plain": "   Vert. Speed  Groundspeed  Altitude(AGL)                DateTime  \\\n0       -0.001        0.041           0.06 2022-07-28 14:07:52.445   \n1        0.004        0.038           0.06 2022-07-28 14:07:52.467   \n2        0.008        0.032           0.06 2022-07-28 14:07:52.485   \n3        0.011        0.019           0.06 2022-07-28 14:07:52.523   \n4        0.013        0.010           0.06 2022-07-28 14:07:52.546   \n5        0.015        0.004           0.06 2022-07-28 14:07:52.569   \n6        0.016        0.008           0.06 2022-07-28 14:07:52.593   \n7        0.018        0.012           0.06 2022-07-28 14:07:52.616   \n8        0.019        0.014           0.06 2022-07-28 14:07:52.639   \n9        0.021        0.013           0.06 2022-07-28 14:07:52.663   \n\n                    Phase  \n0  Hover In Ground Effect  \n1  Hover In Ground Effect  \n2  Hover In Ground Effect  \n3  Hover In Ground Effect  \n4  Hover In Ground Effect  \n5  Hover In Ground Effect  \n6  Hover In Ground Effect  \n7  Hover In Ground Effect  \n8  Hover In Ground Effect  \n9  Hover In Ground Effect  ",
      "text/html": "<div>\n<style scoped>\n    .dataframe tbody tr th:only-of-type {\n        vertical-align: middle;\n    }\n\n    .dataframe tbody tr th {\n        vertical-align: top;\n    }\n\n    .dataframe thead th {\n        text-align: right;\n    }\n</style>\n<table border=\"1\" class=\"dataframe\">\n  <thead>\n    <tr style=\"text-align: right;\">\n      <th></th>\n      <th>Vert. Speed</th>\n      <th>Groundspeed</th>\n      <th>Altitude(AGL)</th>\n      <th>DateTime</th>\n      <th>Phase</th>\n    </tr>\n  </thead>\n  <tbody>\n    <tr>\n      <th>0</th>\n      <td>-0.001</td>\n      <td>0.041</td>\n      <td>0.06</td>\n      <td>2022-07-28 14:07:52.445</td>\n      <td>Hover In Ground Effect</td>\n    </tr>\n    <tr>\n      <th>1</th>\n      <td>0.004</td>\n      <td>0.038</td>\n      <td>0.06</td>\n      <td>2022-07-28 14:07:52.467</td>\n      <td>Hover In Ground Effect</td>\n    </tr>\n    <tr>\n      <th>2</th>\n      <td>0.008</td>\n      <td>0.032</td>\n      <td>0.06</td>\n      <td>2022-07-28 14:07:52.485</td>\n      <td>Hover In Ground Effect</td>\n    </tr>\n    <tr>\n      <th>3</th>\n      <td>0.011</td>\n      <td>0.019</td>\n      <td>0.06</td>\n      <td>2022-07-28 14:07:52.523</td>\n      <td>Hover In Ground Effect</td>\n    </tr>\n    <tr>\n      <th>4</th>\n      <td>0.013</td>\n      <td>0.010</td>\n      <td>0.06</td>\n      <td>2022-07-28 14:07:52.546</td>\n      <td>Hover In Ground Effect</td>\n    </tr>\n    <tr>\n      <th>5</th>\n      <td>0.015</td>\n      <td>0.004</td>\n      <td>0.06</td>\n      <td>2022-07-28 14:07:52.569</td>\n      <td>Hover In Ground Effect</td>\n    </tr>\n    <tr>\n      <th>6</th>\n      <td>0.016</td>\n      <td>0.008</td>\n      <td>0.06</td>\n      <td>2022-07-28 14:07:52.593</td>\n      <td>Hover In Ground Effect</td>\n    </tr>\n    <tr>\n      <th>7</th>\n      <td>0.018</td>\n      <td>0.012</td>\n      <td>0.06</td>\n      <td>2022-07-28 14:07:52.616</td>\n      <td>Hover In Ground Effect</td>\n    </tr>\n    <tr>\n      <th>8</th>\n      <td>0.019</td>\n      <td>0.014</td>\n      <td>0.06</td>\n      <td>2022-07-28 14:07:52.639</td>\n      <td>Hover In Ground Effect</td>\n    </tr>\n    <tr>\n      <th>9</th>\n      <td>0.021</td>\n      <td>0.013</td>\n      <td>0.06</td>\n      <td>2022-07-28 14:07:52.663</td>\n      <td>Hover In Ground Effect</td>\n    </tr>\n  </tbody>\n</table>\n</div>"
     },
     "execution_count": 8,
     "metadata": {},
     "output_type": "execute_result"
    }
   ],
   "source": [
    "df = formatted_df\n",
    "print('number of training rows', len(df))\n",
    "df.head(10)"
   ],
   "metadata": {
    "collapsed": false,
    "ExecuteTime": {
     "end_time": "2023-11-07T04:54:23.980759200Z",
     "start_time": "2023-11-07T04:54:23.966615Z"
    }
   }
  },
  {
   "cell_type": "code",
   "execution_count": 9,
   "outputs": [
    {
     "name": "stdout",
     "output_type": "stream",
     "text": [
      "Phase\n",
      "Descent                   782030\n",
      "Climb                     675334\n",
      "Cruise                    652723\n",
      "LandingOrTakeOff          470354\n",
      "Hover In Ground Effect    359419\n",
      "Standing                  124083\n",
      "Hover                      14940\n",
      "Hover Descent                995\n",
      "Hover Lift                   383\n",
      "Surface Taxi                   4\n",
      "Air Taxi                       1\n",
      "Hover Taxi                     1\n",
      "Name: count, dtype: int64\n"
     ]
    }
   ],
   "source": [
    "print(df['Phase'].value_counts())"
   ],
   "metadata": {
    "collapsed": false,
    "ExecuteTime": {
     "end_time": "2023-11-07T04:54:24.105030100Z",
     "start_time": "2023-11-07T04:54:23.981762300Z"
    }
   }
  },
  {
   "cell_type": "markdown",
   "source": [
    "#### Create sequences using sliding window and convert to torch tensor"
   ],
   "metadata": {
    "collapsed": false
   }
  },
  {
   "cell_type": "code",
   "execution_count": 10,
   "outputs": [],
   "source": [
    "import numpy as np\n",
    "import torch\n",
    "from sklearn.preprocessing import LabelEncoder\n",
    "\n",
    "device = torch.device(\"cuda\" if torch.cuda.is_available() else \"cpu\")\n",
    "\n",
    "sequence_length = 5000\n",
    "step_size = 1000\n",
    "\n",
    "X, y = utils.create_sliding_window_sequences(df, sequence_length, step_size)\n",
    "encoder = LabelEncoder()\n",
    "y = encoder.fit_transform(np.array(y))\n",
    "\n",
    "X_torch, y_torch = utils.torch_input_output(X, y, device)"
   ],
   "metadata": {
    "collapsed": false,
    "ExecuteTime": {
     "end_time": "2023-11-07T04:54:26.343468700Z",
     "start_time": "2023-11-07T04:54:24.062991300Z"
    }
   }
  },
  {
   "cell_type": "code",
   "execution_count": 11,
   "outputs": [
    {
     "name": "stdout",
     "output_type": "stream",
     "text": [
      "phase labels in training data\n"
     ]
    },
    {
     "data": {
      "text/plain": "array(['Climb', 'Cruise', 'Descent', 'Hover', 'Hover Descent',\n       'Hover In Ground Effect', 'Hover Lift', 'LandingOrTakeOff',\n       'Standing'], dtype='<U22')"
     },
     "execution_count": 11,
     "metadata": {},
     "output_type": "execute_result"
    }
   ],
   "source": [
    "print('phase labels in training data')\n",
    "encoder.classes_"
   ],
   "metadata": {
    "collapsed": false,
    "ExecuteTime": {
     "end_time": "2023-11-07T04:54:26.357810700Z",
     "start_time": "2023-11-07T04:54:26.344470Z"
    }
   }
  },
  {
   "cell_type": "code",
   "execution_count": 12,
   "outputs": [],
   "source": [
    "from sklearn.model_selection import train_test_split\n",
    "\n",
    "# Split data into training and testing sets\n",
    "X_train, X_test, y_train, y_test = train_test_split(X_torch, y_torch, test_size=0.2, random_state=42)"
   ],
   "metadata": {
    "collapsed": false,
    "ExecuteTime": {
     "end_time": "2023-11-07T04:54:26.437466200Z",
     "start_time": "2023-11-07T04:54:26.359811300Z"
    }
   }
  },
  {
   "cell_type": "markdown",
   "source": [
    "#### Define LSTM Model Architecture"
   ],
   "metadata": {
    "collapsed": false
   }
  },
  {
   "cell_type": "code",
   "execution_count": 13,
   "outputs": [],
   "source": [
    "import torch.nn as nn\n",
    "\n",
    "# Define your LSTM model\n",
    "class LSTMModel(nn.Module):\n",
    "    def __init__(self, input_size, hidden_size, output_size):\n",
    "        super(LSTMModel, self).__init__()\n",
    "        self.lstm = nn.LSTM(input_size, hidden_size)\n",
    "        self.fc = nn.Linear(hidden_size, output_size)\n",
    "\n",
    "    def forward(self, x):\n",
    "        out, _ = self.lstm(x)\n",
    "        out = self.fc(out[:, -1, :])  # Take the output at the last time step\n",
    "        return out"
   ],
   "metadata": {
    "collapsed": false,
    "ExecuteTime": {
     "end_time": "2023-11-07T04:54:26.453027800Z",
     "start_time": "2023-11-07T04:54:26.439468600Z"
    }
   }
  },
  {
   "cell_type": "markdown",
   "source": [
    "#### Setup model with parameters"
   ],
   "metadata": {
    "collapsed": false
   }
  },
  {
   "cell_type": "code",
   "execution_count": 14,
   "outputs": [],
   "source": [
    "import torch.optim as optim\n",
    "from torch.utils.data import DataLoader, TensorDataset\n",
    "\n",
    "input_size = X_train.shape[2]\n",
    "hidden_size = 50\n",
    "output_size = len(encoder.classes_)\n",
    "learning_rate = 0.001\n",
    "\n",
    "model = LSTMModel(input_size, hidden_size, output_size).to(device)\n",
    "\n",
    "# Define loss function and optimizer\n",
    "criterion = nn.CrossEntropyLoss()\n",
    "optimizer = optim.Adam(model.parameters(), lr=learning_rate)\n",
    "\n",
    "# Convert data to DataLoader\n",
    "train_data = TensorDataset(X_train, y_train)\n",
    "train_loader = DataLoader(train_data, batch_size=32, shuffle=True)"
   ],
   "metadata": {
    "collapsed": false,
    "ExecuteTime": {
     "end_time": "2023-11-07T04:54:27.949411900Z",
     "start_time": "2023-11-07T04:54:26.455028500Z"
    }
   }
  },
  {
   "cell_type": "markdown",
   "source": [
    "#### Model Training"
   ],
   "metadata": {
    "collapsed": false
   }
  },
  {
   "cell_type": "code",
   "execution_count": 15,
   "outputs": [
    {
     "name": "stdout",
     "output_type": "stream",
     "text": [
      "Epoch [1/100] - Loss: 1.7186, Accuracy: 52.32%\n",
      "Epoch [2/100] - Loss: 0.9429, Accuracy: 84.96%\n",
      "Epoch [3/100] - Loss: 0.5824, Accuracy: 86.99%\n",
      "Epoch [4/100] - Loss: 0.4342, Accuracy: 88.50%\n",
      "Epoch [5/100] - Loss: 0.3725, Accuracy: 89.55%\n",
      "Epoch [6/100] - Loss: 0.3317, Accuracy: 90.45%\n",
      "Epoch [7/100] - Loss: 0.3024, Accuracy: 90.73%\n",
      "Epoch [8/100] - Loss: 0.2900, Accuracy: 90.93%\n",
      "Epoch [9/100] - Loss: 0.2770, Accuracy: 90.73%\n",
      "Epoch [10/100] - Loss: 0.2626, Accuracy: 91.46%\n",
      "Epoch [11/100] - Loss: 0.2500, Accuracy: 91.46%\n",
      "Epoch [12/100] - Loss: 0.2484, Accuracy: 91.38%\n",
      "Epoch [13/100] - Loss: 0.2417, Accuracy: 91.46%\n",
      "Epoch [14/100] - Loss: 0.2369, Accuracy: 91.59%\n",
      "Epoch [15/100] - Loss: 0.2334, Accuracy: 91.63%\n",
      "Epoch [16/100] - Loss: 0.2338, Accuracy: 91.59%\n",
      "Epoch [17/100] - Loss: 0.2329, Accuracy: 91.79%\n",
      "Epoch [18/100] - Loss: 0.2377, Accuracy: 91.75%\n",
      "Epoch [19/100] - Loss: 0.2144, Accuracy: 92.20%\n",
      "Epoch [20/100] - Loss: 0.2216, Accuracy: 91.50%\n",
      "Epoch [21/100] - Loss: 0.2117, Accuracy: 91.91%\n",
      "Epoch [22/100] - Loss: 0.2131, Accuracy: 91.18%\n",
      "Epoch [23/100] - Loss: 0.2072, Accuracy: 92.56%\n",
      "Epoch [24/100] - Loss: 0.2086, Accuracy: 91.87%\n",
      "Epoch [25/100] - Loss: 0.2086, Accuracy: 92.32%\n",
      "Epoch [26/100] - Loss: 0.2065, Accuracy: 92.36%\n",
      "Epoch [27/100] - Loss: 0.2046, Accuracy: 92.52%\n",
      "Epoch [28/100] - Loss: 0.1975, Accuracy: 92.36%\n",
      "Epoch [29/100] - Loss: 0.2002, Accuracy: 92.40%\n",
      "Epoch [30/100] - Loss: 0.1881, Accuracy: 92.68%\n",
      "Epoch [31/100] - Loss: 0.2024, Accuracy: 91.91%\n",
      "Epoch [32/100] - Loss: 0.2019, Accuracy: 91.71%\n",
      "Epoch [33/100] - Loss: 0.1887, Accuracy: 92.40%\n",
      "Epoch [34/100] - Loss: 0.1911, Accuracy: 92.44%\n",
      "Epoch [35/100] - Loss: 0.1972, Accuracy: 92.28%\n",
      "Epoch [36/100] - Loss: 0.1896, Accuracy: 92.60%\n",
      "Epoch [37/100] - Loss: 0.1855, Accuracy: 92.56%\n",
      "Epoch [38/100] - Loss: 0.1830, Accuracy: 92.85%\n",
      "Epoch [39/100] - Loss: 0.1912, Accuracy: 92.56%\n",
      "Epoch [40/100] - Loss: 0.1838, Accuracy: 92.80%\n",
      "Epoch [41/100] - Loss: 0.1757, Accuracy: 93.05%\n",
      "Epoch [42/100] - Loss: 0.1808, Accuracy: 92.48%\n",
      "Epoch [43/100] - Loss: 0.1759, Accuracy: 92.85%\n",
      "Epoch [44/100] - Loss: 0.1820, Accuracy: 92.85%\n",
      "Epoch [45/100] - Loss: 0.1646, Accuracy: 93.29%\n",
      "Epoch [46/100] - Loss: 0.1744, Accuracy: 92.56%\n",
      "Epoch [47/100] - Loss: 0.1745, Accuracy: 93.17%\n",
      "Epoch [48/100] - Loss: 0.1798, Accuracy: 92.64%\n",
      "Epoch [49/100] - Loss: 0.1703, Accuracy: 92.89%\n",
      "Epoch [50/100] - Loss: 0.1724, Accuracy: 92.89%\n",
      "Epoch [51/100] - Loss: 0.1789, Accuracy: 92.85%\n",
      "Epoch [52/100] - Loss: 0.1833, Accuracy: 92.76%\n",
      "Epoch [53/100] - Loss: 0.1772, Accuracy: 92.80%\n",
      "Epoch [54/100] - Loss: 0.1643, Accuracy: 93.50%\n",
      "Epoch [55/100] - Loss: 0.1610, Accuracy: 93.33%\n",
      "Epoch [56/100] - Loss: 0.1635, Accuracy: 92.97%\n",
      "Epoch [57/100] - Loss: 0.1672, Accuracy: 92.89%\n",
      "Epoch [58/100] - Loss: 0.1586, Accuracy: 93.33%\n",
      "Epoch [59/100] - Loss: 0.1664, Accuracy: 92.80%\n",
      "Epoch [60/100] - Loss: 0.1672, Accuracy: 93.05%\n",
      "Epoch [61/100] - Loss: 0.1634, Accuracy: 92.89%\n",
      "Epoch [62/100] - Loss: 0.1623, Accuracy: 93.25%\n",
      "Epoch [63/100] - Loss: 0.1605, Accuracy: 93.01%\n",
      "Epoch [64/100] - Loss: 0.1552, Accuracy: 93.58%\n",
      "Epoch [65/100] - Loss: 0.1591, Accuracy: 93.41%\n",
      "Epoch [66/100] - Loss: 0.1662, Accuracy: 93.05%\n",
      "Epoch [67/100] - Loss: 0.1586, Accuracy: 93.17%\n",
      "Epoch [68/100] - Loss: 0.1535, Accuracy: 93.66%\n",
      "Epoch [69/100] - Loss: 0.1597, Accuracy: 93.50%\n",
      "Epoch [70/100] - Loss: 0.1667, Accuracy: 92.93%\n",
      "Epoch [71/100] - Loss: 0.1575, Accuracy: 93.33%\n",
      "Epoch [72/100] - Loss: 0.1637, Accuracy: 93.29%\n",
      "Epoch [73/100] - Loss: 0.1605, Accuracy: 93.58%\n",
      "Epoch [74/100] - Loss: 0.1566, Accuracy: 93.21%\n",
      "Epoch [75/100] - Loss: 0.1562, Accuracy: 93.66%\n",
      "Epoch [76/100] - Loss: 0.1538, Accuracy: 93.66%\n",
      "Epoch [77/100] - Loss: 0.1605, Accuracy: 93.17%\n",
      "Epoch [78/100] - Loss: 0.1549, Accuracy: 93.66%\n",
      "Epoch [79/100] - Loss: 0.1601, Accuracy: 93.33%\n",
      "Epoch [80/100] - Loss: 0.1544, Accuracy: 93.70%\n",
      "Epoch [81/100] - Loss: 0.1589, Accuracy: 93.17%\n",
      "Epoch [82/100] - Loss: 0.1584, Accuracy: 93.05%\n",
      "Epoch [83/100] - Loss: 0.1561, Accuracy: 93.29%\n",
      "Epoch [84/100] - Loss: 0.1598, Accuracy: 93.21%\n",
      "Epoch [85/100] - Loss: 0.1495, Accuracy: 93.90%\n",
      "Epoch [86/100] - Loss: 0.1521, Accuracy: 93.37%\n",
      "Epoch [87/100] - Loss: 0.1514, Accuracy: 93.33%\n",
      "Epoch [88/100] - Loss: 0.1511, Accuracy: 93.46%\n",
      "Epoch [89/100] - Loss: 0.1559, Accuracy: 93.54%\n",
      "Epoch [90/100] - Loss: 0.1400, Accuracy: 94.15%\n",
      "Epoch [91/100] - Loss: 0.1551, Accuracy: 93.50%\n",
      "Epoch [92/100] - Loss: 0.1478, Accuracy: 93.86%\n",
      "Epoch [93/100] - Loss: 0.1444, Accuracy: 93.82%\n",
      "Epoch [94/100] - Loss: 0.1491, Accuracy: 93.33%\n",
      "Epoch [95/100] - Loss: 0.1478, Accuracy: 93.86%\n",
      "Epoch [96/100] - Loss: 0.1555, Accuracy: 93.41%\n",
      "Epoch [97/100] - Loss: 0.1464, Accuracy: 93.94%\n",
      "Epoch [98/100] - Loss: 0.1539, Accuracy: 93.13%\n",
      "Epoch [99/100] - Loss: 0.1461, Accuracy: 93.50%\n",
      "Epoch [100/100] - Loss: 0.1566, Accuracy: 93.17%\n"
     ]
    }
   ],
   "source": [
    "# Training loop\n",
    "num_epochs = 100\n",
    "for epoch in range(num_epochs):\n",
    "    total_loss = 0\n",
    "    correct_predictions = 0\n",
    "    total_samples = 0\n",
    "\n",
    "    for inputs, labels in train_loader:\n",
    "        labels = labels.long()\n",
    "        optimizer.zero_grad()\n",
    "        outputs = model(inputs)\n",
    "        loss = criterion(outputs, labels)\n",
    "        loss.backward()\n",
    "        optimizer.step()\n",
    "\n",
    "        total_loss += loss.item()\n",
    "        _, predicted = torch.max(outputs, 1)\n",
    "        correct_predictions += (predicted == labels).sum().item()\n",
    "        total_samples += labels.size(0)\n",
    "\n",
    "    epoch_loss = total_loss / len(train_loader)\n",
    "    epoch_accuracy = correct_predictions / total_samples\n",
    "\n",
    "    print(f'Epoch [{epoch + 1}/{num_epochs}] - Loss: {epoch_loss:.4f}, Accuracy: {epoch_accuracy:.2%}')"
   ],
   "metadata": {
    "collapsed": false,
    "ExecuteTime": {
     "end_time": "2023-11-07T04:55:06.940021700Z",
     "start_time": "2023-11-07T04:54:27.952804500Z"
    }
   }
  },
  {
   "cell_type": "markdown",
   "source": [
    "#### Evaluate Model"
   ],
   "metadata": {
    "collapsed": false
   }
  },
  {
   "cell_type": "code",
   "execution_count": 16,
   "outputs": [
    {
     "name": "stdout",
     "output_type": "stream",
     "text": [
      "Test accuracy: 93.34%\n",
      "                        precision    recall  f1-score   support\n",
      "\n",
      "                 Climb       0.97      0.98      0.97       134\n",
      "                Cruise       0.93      0.98      0.95       137\n",
      "               Descent       0.99      1.00      0.99       149\n",
      "                 Hover       0.00      0.00      0.00         4\n",
      "Hover In Ground Effect       0.74      1.00      0.85        70\n",
      "      LandingOrTakeOff       1.00      0.93      0.96        98\n",
      "              Standing       0.00      0.00      0.00        24\n",
      "\n",
      "              accuracy                           0.93       616\n",
      "             macro avg       0.66      0.70      0.68       616\n",
      "          weighted avg       0.90      0.93      0.91       616\n",
      "\n"
     ]
    },
    {
     "name": "stderr",
     "output_type": "stream",
     "text": [
      "D:\\yaraf\\softwares\\miniconda3\\envs\\daen690-win\\lib\\site-packages\\sklearn\\metrics\\_classification.py:1469: UndefinedMetricWarning: Precision and F-score are ill-defined and being set to 0.0 in labels with no predicted samples. Use `zero_division` parameter to control this behavior.\n",
      "  _warn_prf(average, modifier, msg_start, len(result))\n",
      "D:\\yaraf\\softwares\\miniconda3\\envs\\daen690-win\\lib\\site-packages\\sklearn\\metrics\\_classification.py:1469: UndefinedMetricWarning: Precision and F-score are ill-defined and being set to 0.0 in labels with no predicted samples. Use `zero_division` parameter to control this behavior.\n",
      "  _warn_prf(average, modifier, msg_start, len(result))\n",
      "D:\\yaraf\\softwares\\miniconda3\\envs\\daen690-win\\lib\\site-packages\\sklearn\\metrics\\_classification.py:1469: UndefinedMetricWarning: Precision and F-score are ill-defined and being set to 0.0 in labels with no predicted samples. Use `zero_division` parameter to control this behavior.\n",
      "  _warn_prf(average, modifier, msg_start, len(result))\n"
     ]
    }
   ],
   "source": [
    "from sklearn.metrics import classification_report\n",
    "\n",
    "# Evaluate the model\n",
    "# Convert data to DataLoader for test set\n",
    "test_data = TensorDataset(X_test, y_test)\n",
    "test_loader = DataLoader(test_data, batch_size=32, shuffle=False)\n",
    "\n",
    "model.eval()\n",
    "\n",
    "predicted_labels, actual_labels = utils.model_predict(test_loader, model, encoder)\n",
    "# Calculate and print the classification report\n",
    "report = classification_report(actual_labels, predicted_labels)\n",
    "print(report)\n"
   ],
   "metadata": {
    "collapsed": false,
    "ExecuteTime": {
     "end_time": "2023-11-07T04:55:07.001048700Z",
     "start_time": "2023-11-07T04:55:06.941019100Z"
    }
   }
  },
  {
   "cell_type": "code",
   "execution_count": 17,
   "outputs": [],
   "source": [
    "torch.save(model.state_dict(), 'lstm.model')"
   ],
   "metadata": {
    "collapsed": false,
    "ExecuteTime": {
     "end_time": "2023-11-07T04:55:07.046074100Z",
     "start_time": "2023-11-07T04:55:07.002048100Z"
    }
   }
  },
  {
   "cell_type": "markdown",
   "source": [
    "#### Test with second data set"
   ],
   "metadata": {
    "collapsed": false
   }
  },
  {
   "cell_type": "code",
   "execution_count": 18,
   "outputs": [
    {
     "name": "stdout",
     "output_type": "stream",
     "text": [
      "reading file data/test_data\\SimData_2022.03.31_09.14.40.csv\n",
      "reading file data/test_data\\SimData_2022.03.31_09.38.42.csv\n",
      "reading file data/test_data\\SimData_2022.03.31_10.57.22.csv\n",
      "reading file data/test_data\\SimData_2022.03.31_12.57.00.csv\n",
      "reading file data/test_data\\SimData_2022.03.31_13.47.24.csv\n",
      "reading file data/test_data\\SimData_2022.03.31_15.21.35.csv\n",
      "reading file data/test_data\\SimData_2022.03.31_16.51.42.csv\n",
      "reading file data/test_data\\SimData_2023.01.12_09.00.50.csv\n",
      "reading file data/test_data\\SimData_2023.01.12_09.28.10.csv\n",
      "reading file data/test_data\\SimData_2023.01.12_10.41.08.csv\n",
      "reading file data/test_data\\SimData_2023.01.12_10.45.38.csv\n",
      "reading file data/test_data\\SimData_2023.01.12_12.36.17.csv\n",
      "reading file data/test_data\\SimData_2023.01.12_12.36.37.csv\n",
      "reading file data/test_data\\SimData_2023.01.12_12.37.48.csv\n",
      "reading file data/test_data\\SimData_2023.01.12_12.43.44.csv\n",
      "reading file data/test_data\\SimData_2023.01.12_12.48.49.csv\n",
      "reading file data/test_data\\SimData_2023.01.12_14.13.00.csv\n",
      "reading file data/test_data\\SimData_2023.01.12_14.25.14.csv\n",
      "reading file data/test_data\\SimData_2023.01.12_14.47.00.csv\n",
      "reading file data/test_data\\SimData_2023.01.12_15.24.58.csv\n",
      "reading file data/test_data\\SimData_2023.01.12_15.53.14.csv\n",
      "reading file data/test_data\\SimData_2023.02.02_09.48.27.csv\n",
      "reading file data/test_data\\SimData_2023.02.02_10.44.37.csv\n",
      "reading file data/test_data\\SimData_2023.02.02_10.51.22.csv\n",
      "reading file data/test_data\\SimData_2023.02.02_10.57.00.csv\n",
      "reading file data/test_data\\SimData_2023.02.02_10.57.51.csv\n",
      "reading file data/test_data\\SimData_2023.02.02_11.01.54.csv\n",
      "reading file data/test_data\\SimData_2023.02.02_11.51.50.csv\n",
      "reading file data/test_data\\SimData_2023.02.02_12.05.37.csv\n",
      "reading file data/test_data\\SimData_2023.02.02_14.17.34.csv\n",
      "reading file data/test_data\\SimData_2023.02.02_15.33.23.csv\n",
      "reading file data/test_data\\SimData_2023.02.23_09.24.48.csv\n",
      "reading file data/test_data\\SimData_2023.02.23_09.38.14.csv\n",
      "reading file data/test_data\\SimData_2023.02.23_09.42.34.csv\n",
      "reading file data/test_data\\SimData_2023.02.23_09.45.03.csv\n",
      "reading file data/test_data\\SimData_2023.02.23_09.48.33.csv\n",
      "reading file data/test_data\\SimData_2023.02.23_09.56.15.csv\n",
      "reading file data/test_data\\SimData_2023.02.23_10.00.49.csv\n",
      "reading file data/test_data\\SimData_2023.02.23_10.08.22.csv\n",
      "reading file data/test_data\\SimData_2023.02.23_10.18.35.csv\n",
      "reading file data/test_data\\SimData_2023.02.23_10.24.53.csv\n",
      "reading file data/test_data\\SimData_2023.02.23_10.30.34.csv\n",
      "reading file data/test_data\\SimData_2023.02.23_10.38.09.csv\n",
      "reading file data/test_data\\SimData_2023.02.23_10.42.37.csv\n",
      "reading file data/test_data\\SimData_2023.02.23_10.48.33.csv\n",
      "reading file data/test_data\\SimData_2023.02.23_10.53.25.csv\n",
      "reading file data/test_data\\SimData_2023.02.23_11.07.05.csv\n",
      "reading file data/test_data\\SimData_2023.02.23_11.19.15.csv\n",
      "reading file data/test_data\\SimData_2023.02.23_11.38.44.csv\n",
      "reading file data/test_data\\SimData_2023.02.23_11.46.40.csv\n",
      "reading file data/test_data\\SimData_2023.02.23_11.49.21.csv\n",
      "reading file data/test_data\\SimData_2023.02.23_11.51.38.csv\n",
      "reading file data/test_data\\SimData_2023.02.23_11.54.00.csv\n",
      "reading file data/test_data\\SimData_2023.02.23_11.56.39.csv\n",
      "reading file data/test_data\\SimData_2023.02.23_13.18.29.csv\n",
      "reading file data/test_data\\SimData_2023.02.23_13.39.26.csv\n",
      "reading file data/test_data\\SimData_2023.02.23_14.37.09.csv\n",
      "reading file data/test_data\\SimData_2023.02.23_15.31.18.csv\n",
      "reading file data/test_data\\SimData_2023.02.23_15.53.06.csv\n",
      "reading file data/test_data\\SimData_2023.02.23_15.53.13.csv\n",
      "reading file data/test_data\\SimData_2023.02.23_15.56.05.csv\n",
      "reading file data/test_data\\SimData_2023.02.23_15.56.11.csv\n",
      "reading file data/test_data\\SimData_2023.02.23_15.58.34.csv\n",
      "reading file data/test_data\\SimData_2023.02.23_16.01.21.csv\n",
      "reading file data/test_data\\SimData_2023.02.23_16.03.39.csv\n",
      "reading file data/test_data\\SimData_2023.02.23_16.06.38.csv\n",
      "reading file data/test_data\\SimData_2023.02.23_16.15.44.csv\n",
      "reading file data/test_data\\SimData_2023.05.11_09.23.32.csv\n",
      "reading file data/test_data\\SimData_2023.05.11_09.29.18.csv\n",
      "reading file data/test_data\\SimData_2023.05.11_09.44.24.csv\n",
      "reading file data/test_data\\SimData_2023.05.11_11.12.13.csv\n"
     ]
    }
   ],
   "source": [
    "import utils\n",
    "\n",
    "test_csv_directory = 'data/test_data'\n",
    "test_df = utils.load_data_from_dir(test_csv_directory)"
   ],
   "metadata": {
    "collapsed": false,
    "ExecuteTime": {
     "end_time": "2023-11-07T04:56:10.137299Z",
     "start_time": "2023-11-07T04:55:07.018053Z"
    }
   }
  },
  {
   "cell_type": "code",
   "execution_count": 19,
   "outputs": [
    {
     "name": "stdout",
     "output_type": "stream",
     "text": [
      "number of test data rows 2838392\n"
     ]
    },
    {
     "data": {
      "text/plain": "   Vert. Speed  Groundspeed  Altitude(AGL)                DateTime  Phase\n0     1774.112       90.055        1079.71 2022-03-31 13:14:40.712  Climb\n1     1773.997       90.063        1080.13 2022-03-31 13:14:40.732  Climb\n2     1773.840       90.075        1080.70 2022-03-31 13:14:40.750  Climb\n3     1773.695       90.086        1081.24 2022-03-31 13:14:40.768  Climb\n4     1773.561       90.096        1081.76 2022-03-31 13:14:40.785  Climb\n5     1773.433       90.106        1082.26 2022-03-31 13:14:40.801  Climb\n6     1773.311       90.116        1082.74 2022-03-31 13:14:40.819  Climb\n7     1773.079       90.135        1083.71 2022-03-31 13:14:40.849  Climb\n8     1772.976       90.144        1084.15 2022-03-31 13:14:40.868  Climb\n9     1772.750       90.165        1085.17 2022-03-31 13:14:40.899  Climb",
      "text/html": "<div>\n<style scoped>\n    .dataframe tbody tr th:only-of-type {\n        vertical-align: middle;\n    }\n\n    .dataframe tbody tr th {\n        vertical-align: top;\n    }\n\n    .dataframe thead th {\n        text-align: right;\n    }\n</style>\n<table border=\"1\" class=\"dataframe\">\n  <thead>\n    <tr style=\"text-align: right;\">\n      <th></th>\n      <th>Vert. Speed</th>\n      <th>Groundspeed</th>\n      <th>Altitude(AGL)</th>\n      <th>DateTime</th>\n      <th>Phase</th>\n    </tr>\n  </thead>\n  <tbody>\n    <tr>\n      <th>0</th>\n      <td>1774.112</td>\n      <td>90.055</td>\n      <td>1079.71</td>\n      <td>2022-03-31 13:14:40.712</td>\n      <td>Climb</td>\n    </tr>\n    <tr>\n      <th>1</th>\n      <td>1773.997</td>\n      <td>90.063</td>\n      <td>1080.13</td>\n      <td>2022-03-31 13:14:40.732</td>\n      <td>Climb</td>\n    </tr>\n    <tr>\n      <th>2</th>\n      <td>1773.840</td>\n      <td>90.075</td>\n      <td>1080.70</td>\n      <td>2022-03-31 13:14:40.750</td>\n      <td>Climb</td>\n    </tr>\n    <tr>\n      <th>3</th>\n      <td>1773.695</td>\n      <td>90.086</td>\n      <td>1081.24</td>\n      <td>2022-03-31 13:14:40.768</td>\n      <td>Climb</td>\n    </tr>\n    <tr>\n      <th>4</th>\n      <td>1773.561</td>\n      <td>90.096</td>\n      <td>1081.76</td>\n      <td>2022-03-31 13:14:40.785</td>\n      <td>Climb</td>\n    </tr>\n    <tr>\n      <th>5</th>\n      <td>1773.433</td>\n      <td>90.106</td>\n      <td>1082.26</td>\n      <td>2022-03-31 13:14:40.801</td>\n      <td>Climb</td>\n    </tr>\n    <tr>\n      <th>6</th>\n      <td>1773.311</td>\n      <td>90.116</td>\n      <td>1082.74</td>\n      <td>2022-03-31 13:14:40.819</td>\n      <td>Climb</td>\n    </tr>\n    <tr>\n      <th>7</th>\n      <td>1773.079</td>\n      <td>90.135</td>\n      <td>1083.71</td>\n      <td>2022-03-31 13:14:40.849</td>\n      <td>Climb</td>\n    </tr>\n    <tr>\n      <th>8</th>\n      <td>1772.976</td>\n      <td>90.144</td>\n      <td>1084.15</td>\n      <td>2022-03-31 13:14:40.868</td>\n      <td>Climb</td>\n    </tr>\n    <tr>\n      <th>9</th>\n      <td>1772.750</td>\n      <td>90.165</td>\n      <td>1085.17</td>\n      <td>2022-03-31 13:14:40.899</td>\n      <td>Climb</td>\n    </tr>\n  </tbody>\n</table>\n</div>"
     },
     "execution_count": 19,
     "metadata": {},
     "output_type": "execute_result"
    }
   ],
   "source": [
    "test_formatted_df = utils.format_data(test_df)\n",
    "test_formatted_df['Phase'] = test_formatted_df.apply(lambda row: identify_phase(row['Vert. Speed'], row['Groundspeed'], row['Altitude(AGL)']), axis=1)\n",
    "print('number of test data rows', len(test_formatted_df))\n",
    "test_formatted_df.head(10)"
   ],
   "metadata": {
    "collapsed": false,
    "ExecuteTime": {
     "end_time": "2023-11-07T04:56:36.140643700Z",
     "start_time": "2023-11-07T04:56:10.139299Z"
    }
   }
  },
  {
   "cell_type": "markdown",
   "source": [],
   "metadata": {
    "collapsed": false
   }
  },
  {
   "cell_type": "markdown",
   "source": [
    "#### Create sequences from test data"
   ],
   "metadata": {
    "collapsed": false
   }
  },
  {
   "cell_type": "code",
   "execution_count": 20,
   "outputs": [],
   "source": [
    "X_test2, y_test2 = utils.create_sliding_window_sequences(test_formatted_df, sequence_length, step_size)"
   ],
   "metadata": {
    "collapsed": false,
    "ExecuteTime": {
     "end_time": "2023-11-07T04:56:36.356892100Z",
     "start_time": "2023-11-07T04:56:36.141643500Z"
    }
   }
  },
  {
   "cell_type": "code",
   "execution_count": 21,
   "outputs": [],
   "source": [
    "import numpy as np\n",
    "# use same encoder. created a new encoder by accident and that caused issues vey difficult to debug\n",
    "# cuda library will complain with GPU on with no direct association of underlying label mismatch\n",
    "y_test2 = encoder.transform(np.array(y_test2))\n",
    "X_test2_torch, y_test2_torch = utils.torch_input_output(X_test2, y_test2, device)"
   ],
   "metadata": {
    "collapsed": false,
    "ExecuteTime": {
     "end_time": "2023-11-07T04:56:36.542138200Z",
     "start_time": "2023-11-07T04:56:36.357891700Z"
    }
   }
  },
  {
   "cell_type": "code",
   "execution_count": 22,
   "outputs": [
    {
     "name": "stdout",
     "output_type": "stream",
     "text": [
      "Test accuracy: 89.73%\n",
      "                        precision    recall  f1-score   support\n",
      "\n",
      "                 Climb       0.97      0.98      0.98       640\n",
      "                Cruise       0.95      0.94      0.95       560\n",
      "               Descent       0.98      0.99      0.98       763\n",
      "                 Hover       0.00      0.00      0.00        13\n",
      "Hover In Ground Effect       0.60      0.99      0.74       325\n",
      "      LandingOrTakeOff       0.98      0.98      0.98       315\n",
      "              Standing       0.00      0.00      0.00       218\n",
      "\n",
      "              accuracy                           0.90      2834\n",
      "             macro avg       0.64      0.70      0.66      2834\n",
      "          weighted avg       0.85      0.90      0.87      2834\n",
      "\n"
     ]
    },
    {
     "name": "stderr",
     "output_type": "stream",
     "text": [
      "D:\\yaraf\\softwares\\miniconda3\\envs\\daen690-win\\lib\\site-packages\\sklearn\\metrics\\_classification.py:1469: UndefinedMetricWarning: Precision and F-score are ill-defined and being set to 0.0 in labels with no predicted samples. Use `zero_division` parameter to control this behavior.\n",
      "  _warn_prf(average, modifier, msg_start, len(result))\n",
      "D:\\yaraf\\softwares\\miniconda3\\envs\\daen690-win\\lib\\site-packages\\sklearn\\metrics\\_classification.py:1469: UndefinedMetricWarning: Precision and F-score are ill-defined and being set to 0.0 in labels with no predicted samples. Use `zero_division` parameter to control this behavior.\n",
      "  _warn_prf(average, modifier, msg_start, len(result))\n",
      "D:\\yaraf\\softwares\\miniconda3\\envs\\daen690-win\\lib\\site-packages\\sklearn\\metrics\\_classification.py:1469: UndefinedMetricWarning: Precision and F-score are ill-defined and being set to 0.0 in labels with no predicted samples. Use `zero_division` parameter to control this behavior.\n",
      "  _warn_prf(average, modifier, msg_start, len(result))\n"
     ]
    }
   ],
   "source": [
    "from torch.utils.data import DataLoader, TensorDataset\n",
    "from sklearn.metrics import classification_report\n",
    "\n",
    "test_data2 = TensorDataset(X_test2_torch, y_test2_torch)\n",
    "test_loader2 = DataLoader(test_data2, batch_size=32, shuffle=False)\n",
    "\n",
    "model.eval()\n",
    "\n",
    "predicted_labels2, actual_labels2 = utils.model_predict(test_loader2, model, encoder)\n",
    "# Calculate and print the classification report\n",
    "report2 = classification_report(actual_labels2, predicted_labels2)\n",
    "print(report2)"
   ],
   "metadata": {
    "collapsed": false,
    "ExecuteTime": {
     "end_time": "2023-11-07T04:56:36.947939Z",
     "start_time": "2023-11-07T04:56:36.545139100Z"
    }
   }
  },
  {
   "cell_type": "markdown",
   "source": [],
   "metadata": {
    "collapsed": false
   }
  }
 ],
 "metadata": {
  "kernelspec": {
   "display_name": "Python 3",
   "language": "python",
   "name": "python3"
  },
  "language_info": {
   "codemirror_mode": {
    "name": "ipython",
    "version": 2
   },
   "file_extension": ".py",
   "mimetype": "text/x-python",
   "name": "python",
   "nbconvert_exporter": "python",
   "pygments_lexer": "ipython2",
   "version": "2.7.6"
  }
 },
 "nbformat": 4,
 "nbformat_minor": 0
}
