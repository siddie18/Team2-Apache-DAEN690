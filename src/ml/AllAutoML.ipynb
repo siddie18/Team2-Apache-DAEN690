{
 "nbformat": 4,
 "nbformat_minor": 0,
 "metadata": {
  "colab": {
   "provenance": []
  },
  "kernelspec": {
   "name": "python3",
   "display_name": "Python 3"
  },
  "language_info": {
   "name": "python"
  }
 },
 "cells": [
  {
   "cell_type": "code",
   "source": [
    "from flaml import AutoML\n",
    "import pandas as pd\n",
    "from sklearn.model_selection import train_test_split\n",
    "from sklearn.metrics import accuracy_score"
   ],
   "metadata": {
    "id": "dw9OIK5Kv760"
   },
   "execution_count": null,
   "outputs": []
  },
  {
   "cell_type": "code",
   "source": [
    "file_path = 'all.csv'"
   ],
   "metadata": {
    "id": "xNKlHDvowgRu"
   },
   "execution_count": null,
   "outputs": []
  },
  {
   "cell_type": "code",
   "source": [
    "# Load your dataset\n",
    "# Assuming your data is in a CSV file called 'dataset.csv'\n",
    "data = pd.read_csv(file_path)\n",
    "\n",
    "# Extract features (Vert. Speed, Groundspeed, Altitude(AGL)) and target variable (Phase)\n",
    "X = data[['Vert. Speed', 'Groundspeed', 'Altitude(AGL)']]\n",
    "y = data['Phase']\n",
    "\n",
    "\n",
    "# Split the data into training and testing sets\n",
    "X_train, X_test, y_train, y_test = train_test_split(X, y, test_size=0.2, random_state=42)\n",
    "\n",
    "\n",
    "\n",
    "# Initialize the AutoML model\n",
    "automl = AutoML()\n",
    "\n",
    "# Specify the task as 'classification' and let FLAML search for the best model and hyperparameters\n",
    "automl_settings = {\n",
    "    \"time_budget\": 120,  # Time budget in seconds for FLAML to search for the best model\n",
    "    \"metric\": 'accuracy',  # Metric to optimize for, in this case, accuracy\n",
    "    \"task\": 'classification',  # Type of task, 'classification' for classification tasks\n",
    "}\n",
    "automl.fit(X_train, y_train, **automl_settings)\n",
    "\n",
    "# Make predictions on the test set\n",
    "y_pred = automl.predict(X_test)\n",
    "\n",
    "# Calculate accuracy\n",
    "accuracy = accuracy_score(y_test, y_pred)\n",
    "print(f'Accuracy: {accuracy:.2f}')\n",
    "\n",
    "# Get the best model found by FLAML\n",
    "best_model = automl.model\n",
    "print(best_model)\n"
   ],
   "metadata": {
    "colab": {
     "base_uri": "https://localhost:8080/"
    },
    "id": "U7bF_Rq3wi8R",
    "outputId": "5c8cd573-91f9-4c7b-bd96-d6c42c0a8a04"
   },
   "execution_count": null,
   "outputs": [
    {
     "output_type": "stream",
     "name": "stdout",
     "text": [
      "[flaml.automl.logger: 10-17 01:28:54] {1679} INFO - task = classification\n",
      "[flaml.automl.logger: 10-17 01:28:55] {1690} INFO - Evaluation method: holdout\n"
     ]
    },
    {
     "output_type": "stream",
     "name": "stderr",
     "text": [
      "INFO:flaml.automl.task.generic_task:class 0 augmented from 1 to 20\n",
      "INFO:flaml.automl.task.generic_task:class 10 augmented from 3 to 21\n"
     ]
    },
    {
     "output_type": "stream",
     "name": "stdout",
     "text": [
      "[flaml.automl.logger: 10-17 01:28:58] {1788} INFO - Minimizing error metric: 1-accuracy\n",
      "[flaml.automl.logger: 10-17 01:28:58] {1900} INFO - List of ML learners in AutoML Run: ['lgbm', 'rf', 'xgboost', 'extra_tree', 'xgb_limitdepth', 'lrl1']\n",
      "[flaml.automl.logger: 10-17 01:28:58] {2218} INFO - iteration 0, current learner lgbm\n",
      "[flaml.automl.logger: 10-17 01:28:58] {2344} INFO - Estimated sufficient time budget=1026432s. Estimated necessary time budget=23659s.\n",
      "[flaml.automl.logger: 10-17 01:28:58] {2391} INFO -  at 6.1s,\testimator lgbm's best error=0.1253,\tbest estimator lgbm's best error=0.1253\n",
      "[flaml.automl.logger: 10-17 01:28:58] {2218} INFO - iteration 1, current learner lgbm\n",
      "[flaml.automl.logger: 10-17 01:28:59] {2391} INFO -  at 6.6s,\testimator lgbm's best error=0.1253,\tbest estimator lgbm's best error=0.1253\n",
      "[flaml.automl.logger: 10-17 01:28:59] {2218} INFO - iteration 2, current learner lgbm\n",
      "[flaml.automl.logger: 10-17 01:28:59] {2391} INFO -  at 7.1s,\testimator lgbm's best error=0.0121,\tbest estimator lgbm's best error=0.0121\n",
      "[flaml.automl.logger: 10-17 01:28:59] {2218} INFO - iteration 3, current learner xgboost\n",
      "[flaml.automl.logger: 10-17 01:29:00] {2391} INFO -  at 7.5s,\testimator xgboost's best error=0.0102,\tbest estimator xgboost's best error=0.0102\n",
      "[flaml.automl.logger: 10-17 01:29:00] {2218} INFO - iteration 4, current learner lgbm\n",
      "[flaml.automl.logger: 10-17 01:29:00] {2391} INFO -  at 7.9s,\testimator lgbm's best error=0.0121,\tbest estimator xgboost's best error=0.0102\n",
      "[flaml.automl.logger: 10-17 01:29:00] {2218} INFO - iteration 5, current learner lgbm\n",
      "[flaml.automl.logger: 10-17 01:29:01] {2391} INFO -  at 8.6s,\testimator lgbm's best error=0.0121,\tbest estimator xgboost's best error=0.0102\n",
      "[flaml.automl.logger: 10-17 01:29:01] {2218} INFO - iteration 6, current learner lgbm\n",
      "[flaml.automl.logger: 10-17 01:29:01] {2391} INFO -  at 9.2s,\testimator lgbm's best error=0.0121,\tbest estimator xgboost's best error=0.0102\n",
      "[flaml.automl.logger: 10-17 01:29:01] {2218} INFO - iteration 7, current learner lgbm\n",
      "[flaml.automl.logger: 10-17 01:29:02] {2391} INFO -  at 9.4s,\testimator lgbm's best error=0.0118,\tbest estimator xgboost's best error=0.0102\n",
      "[flaml.automl.logger: 10-17 01:29:02] {2218} INFO - iteration 8, current learner xgboost\n",
      "[flaml.automl.logger: 10-17 01:29:02] {2391} INFO -  at 9.5s,\testimator xgboost's best error=0.0102,\tbest estimator xgboost's best error=0.0102\n",
      "[flaml.automl.logger: 10-17 01:29:02] {2218} INFO - iteration 9, current learner xgboost\n",
      "[flaml.automl.logger: 10-17 01:29:02] {2391} INFO -  at 9.7s,\testimator xgboost's best error=0.0101,\tbest estimator xgboost's best error=0.0101\n",
      "[flaml.automl.logger: 10-17 01:29:02] {2218} INFO - iteration 10, current learner xgboost\n",
      "[flaml.automl.logger: 10-17 01:29:02] {2391} INFO -  at 9.8s,\testimator xgboost's best error=0.0098,\tbest estimator xgboost's best error=0.0098\n",
      "[flaml.automl.logger: 10-17 01:29:02] {2218} INFO - iteration 11, current learner xgboost\n",
      "[flaml.automl.logger: 10-17 01:29:02] {2391} INFO -  at 10.0s,\testimator xgboost's best error=0.0082,\tbest estimator xgboost's best error=0.0082\n",
      "[flaml.automl.logger: 10-17 01:29:02] {2218} INFO - iteration 12, current learner xgboost\n",
      "[flaml.automl.logger: 10-17 01:29:02] {2391} INFO -  at 10.2s,\testimator xgboost's best error=0.0082,\tbest estimator xgboost's best error=0.0082\n",
      "[flaml.automl.logger: 10-17 01:29:02] {2218} INFO - iteration 13, current learner xgboost\n",
      "[flaml.automl.logger: 10-17 01:29:03] {2391} INFO -  at 10.6s,\testimator xgboost's best error=0.0061,\tbest estimator xgboost's best error=0.0061\n",
      "[flaml.automl.logger: 10-17 01:29:03] {2218} INFO - iteration 14, current learner xgboost\n",
      "[flaml.automl.logger: 10-17 01:29:04] {2391} INFO -  at 11.3s,\testimator xgboost's best error=0.0061,\tbest estimator xgboost's best error=0.0061\n",
      "[flaml.automl.logger: 10-17 01:29:04] {2218} INFO - iteration 15, current learner xgboost\n",
      "[flaml.automl.logger: 10-17 01:29:04] {2391} INFO -  at 11.5s,\testimator xgboost's best error=0.0061,\tbest estimator xgboost's best error=0.0061\n",
      "[flaml.automl.logger: 10-17 01:29:04] {2218} INFO - iteration 16, current learner xgboost\n",
      "[flaml.automl.logger: 10-17 01:29:04] {2391} INFO -  at 11.8s,\testimator xgboost's best error=0.0061,\tbest estimator xgboost's best error=0.0061\n",
      "[flaml.automl.logger: 10-17 01:29:04] {2218} INFO - iteration 17, current learner xgboost\n",
      "[flaml.automl.logger: 10-17 01:29:04] {2391} INFO -  at 12.0s,\testimator xgboost's best error=0.0061,\tbest estimator xgboost's best error=0.0061\n",
      "[flaml.automl.logger: 10-17 01:29:04] {2218} INFO - iteration 18, current learner xgboost\n",
      "[flaml.automl.logger: 10-17 01:29:04] {2391} INFO -  at 12.2s,\testimator xgboost's best error=0.0061,\tbest estimator xgboost's best error=0.0061\n",
      "[flaml.automl.logger: 10-17 01:29:04] {2218} INFO - iteration 19, current learner xgboost\n",
      "[flaml.automl.logger: 10-17 01:29:05] {2391} INFO -  at 12.6s,\testimator xgboost's best error=0.0061,\tbest estimator xgboost's best error=0.0061\n",
      "[flaml.automl.logger: 10-17 01:29:05] {2218} INFO - iteration 20, current learner xgboost\n",
      "[flaml.automl.logger: 10-17 01:29:05] {2391} INFO -  at 13.0s,\testimator xgboost's best error=0.0035,\tbest estimator xgboost's best error=0.0035\n",
      "[flaml.automl.logger: 10-17 01:29:05] {2218} INFO - iteration 21, current learner extra_tree\n",
      "[flaml.automl.logger: 10-17 01:29:05] {2391} INFO -  at 13.2s,\testimator extra_tree's best error=0.6319,\tbest estimator xgboost's best error=0.0035\n",
      "[flaml.automl.logger: 10-17 01:29:05] {2218} INFO - iteration 22, current learner extra_tree\n",
      "[flaml.automl.logger: 10-17 01:29:06] {2391} INFO -  at 13.3s,\testimator extra_tree's best error=0.3827,\tbest estimator xgboost's best error=0.0035\n",
      "[flaml.automl.logger: 10-17 01:29:06] {2218} INFO - iteration 23, current learner extra_tree\n",
      "[flaml.automl.logger: 10-17 01:29:06] {2391} INFO -  at 13.4s,\testimator extra_tree's best error=0.3827,\tbest estimator xgboost's best error=0.0035\n",
      "[flaml.automl.logger: 10-17 01:29:06] {2218} INFO - iteration 24, current learner extra_tree\n",
      "[flaml.automl.logger: 10-17 01:29:06] {2391} INFO -  at 13.7s,\testimator extra_tree's best error=0.2593,\tbest estimator xgboost's best error=0.0035\n",
      "[flaml.automl.logger: 10-17 01:29:06] {2218} INFO - iteration 25, current learner rf\n",
      "[flaml.automl.logger: 10-17 01:29:06] {2391} INFO -  at 13.8s,\testimator rf's best error=0.0565,\tbest estimator xgboost's best error=0.0035\n",
      "[flaml.automl.logger: 10-17 01:29:06] {2218} INFO - iteration 26, current learner rf\n",
      "[flaml.automl.logger: 10-17 01:29:06] {2391} INFO -  at 14.0s,\testimator rf's best error=0.0025,\tbest estimator rf's best error=0.0025\n",
      "[flaml.automl.logger: 10-17 01:29:06] {2218} INFO - iteration 27, current learner rf\n",
      "[flaml.automl.logger: 10-17 01:29:06] {2391} INFO -  at 14.2s,\testimator rf's best error=0.0025,\tbest estimator rf's best error=0.0025\n",
      "[flaml.automl.logger: 10-17 01:29:06] {2218} INFO - iteration 28, current learner xgboost\n",
      "[flaml.automl.logger: 10-17 01:29:07] {2391} INFO -  at 14.5s,\testimator xgboost's best error=0.0035,\tbest estimator rf's best error=0.0025\n",
      "[flaml.automl.logger: 10-17 01:29:07] {2218} INFO - iteration 29, current learner xgboost\n",
      "[flaml.automl.logger: 10-17 01:29:08] {2391} INFO -  at 15.4s,\testimator xgboost's best error=0.0035,\tbest estimator rf's best error=0.0025\n",
      "[flaml.automl.logger: 10-17 01:29:08] {2218} INFO - iteration 30, current learner rf\n",
      "[flaml.automl.logger: 10-17 01:29:08] {2391} INFO -  at 15.6s,\testimator rf's best error=0.0025,\tbest estimator rf's best error=0.0025\n",
      "[flaml.automl.logger: 10-17 01:29:08] {2218} INFO - iteration 31, current learner rf\n",
      "[flaml.automl.logger: 10-17 01:29:08] {2391} INFO -  at 15.8s,\testimator rf's best error=0.0010,\tbest estimator rf's best error=0.0010\n",
      "[flaml.automl.logger: 10-17 01:29:08] {2218} INFO - iteration 32, current learner rf\n",
      "[flaml.automl.logger: 10-17 01:29:08] {2391} INFO -  at 16.2s,\testimator rf's best error=0.0010,\tbest estimator rf's best error=0.0010\n",
      "[flaml.automl.logger: 10-17 01:29:08] {2218} INFO - iteration 33, current learner extra_tree\n",
      "[flaml.automl.logger: 10-17 01:29:09] {2391} INFO -  at 16.3s,\testimator extra_tree's best error=0.2593,\tbest estimator rf's best error=0.0010\n",
      "[flaml.automl.logger: 10-17 01:29:09] {2218} INFO - iteration 34, current learner rf\n",
      "[flaml.automl.logger: 10-17 01:29:09] {2391} INFO -  at 16.5s,\testimator rf's best error=0.0009,\tbest estimator rf's best error=0.0009\n",
      "[flaml.automl.logger: 10-17 01:29:09] {2218} INFO - iteration 35, current learner rf\n",
      "[flaml.automl.logger: 10-17 01:29:09] {2391} INFO -  at 16.9s,\testimator rf's best error=0.0006,\tbest estimator rf's best error=0.0006\n",
      "[flaml.automl.logger: 10-17 01:29:09] {2218} INFO - iteration 36, current learner extra_tree\n",
      "[flaml.automl.logger: 10-17 01:29:10] {2391} INFO -  at 17.3s,\testimator extra_tree's best error=0.2593,\tbest estimator rf's best error=0.0006\n",
      "[flaml.automl.logger: 10-17 01:29:10] {2218} INFO - iteration 37, current learner rf\n",
      "[flaml.automl.logger: 10-17 01:29:10] {2391} INFO -  at 17.4s,\testimator rf's best error=0.0006,\tbest estimator rf's best error=0.0006\n",
      "[flaml.automl.logger: 10-17 01:29:10] {2218} INFO - iteration 38, current learner rf\n",
      "[flaml.automl.logger: 10-17 01:29:10] {2391} INFO -  at 17.9s,\testimator rf's best error=0.0006,\tbest estimator rf's best error=0.0006\n",
      "[flaml.automl.logger: 10-17 01:29:10] {2218} INFO - iteration 39, current learner rf\n",
      "[flaml.automl.logger: 10-17 01:29:11] {2391} INFO -  at 18.3s,\testimator rf's best error=0.0006,\tbest estimator rf's best error=0.0006\n",
      "[flaml.automl.logger: 10-17 01:29:11] {2218} INFO - iteration 40, current learner rf\n",
      "[flaml.automl.logger: 10-17 01:29:11] {2391} INFO -  at 18.5s,\testimator rf's best error=0.0006,\tbest estimator rf's best error=0.0006\n",
      "[flaml.automl.logger: 10-17 01:29:11] {2218} INFO - iteration 41, current learner extra_tree\n",
      "[flaml.automl.logger: 10-17 01:29:11] {2391} INFO -  at 18.7s,\testimator extra_tree's best error=0.2593,\tbest estimator rf's best error=0.0006\n",
      "[flaml.automl.logger: 10-17 01:29:11] {2218} INFO - iteration 42, current learner rf\n",
      "[flaml.automl.logger: 10-17 01:29:12] {2391} INFO -  at 19.4s,\testimator rf's best error=0.0006,\tbest estimator rf's best error=0.0006\n",
      "[flaml.automl.logger: 10-17 01:29:12] {2218} INFO - iteration 43, current learner extra_tree\n",
      "[flaml.automl.logger: 10-17 01:29:12] {2391} INFO -  at 20.2s,\testimator extra_tree's best error=0.2170,\tbest estimator rf's best error=0.0006\n",
      "[flaml.automl.logger: 10-17 01:29:12] {2218} INFO - iteration 44, current learner extra_tree\n",
      "[flaml.automl.logger: 10-17 01:29:13] {2391} INFO -  at 20.5s,\testimator extra_tree's best error=0.2170,\tbest estimator rf's best error=0.0006\n",
      "[flaml.automl.logger: 10-17 01:29:13] {2218} INFO - iteration 45, current learner xgboost\n",
      "[flaml.automl.logger: 10-17 01:29:14] {2391} INFO -  at 22.0s,\testimator xgboost's best error=0.0035,\tbest estimator rf's best error=0.0006\n",
      "[flaml.automl.logger: 10-17 01:29:14] {2218} INFO - iteration 46, current learner rf\n",
      "[flaml.automl.logger: 10-17 01:29:15] {2391} INFO -  at 22.4s,\testimator rf's best error=0.0006,\tbest estimator rf's best error=0.0006\n",
      "[flaml.automl.logger: 10-17 01:29:15] {2218} INFO - iteration 47, current learner xgboost\n",
      "[flaml.automl.logger: 10-17 01:29:16] {2391} INFO -  at 23.8s,\testimator xgboost's best error=0.0035,\tbest estimator rf's best error=0.0006\n",
      "[flaml.automl.logger: 10-17 01:29:16] {2218} INFO - iteration 48, current learner rf\n",
      "[flaml.automl.logger: 10-17 01:29:17] {2391} INFO -  at 24.4s,\testimator rf's best error=0.0006,\tbest estimator rf's best error=0.0006\n",
      "[flaml.automl.logger: 10-17 01:29:17] {2218} INFO - iteration 49, current learner rf\n",
      "[flaml.automl.logger: 10-17 01:29:17] {2391} INFO -  at 24.9s,\testimator rf's best error=0.0006,\tbest estimator rf's best error=0.0006\n",
      "[flaml.automl.logger: 10-17 01:29:17] {2218} INFO - iteration 50, current learner xgboost\n",
      "[flaml.automl.logger: 10-17 01:29:18] {2391} INFO -  at 25.6s,\testimator xgboost's best error=0.0035,\tbest estimator rf's best error=0.0006\n",
      "[flaml.automl.logger: 10-17 01:29:18] {2218} INFO - iteration 51, current learner rf\n",
      "[flaml.automl.logger: 10-17 01:29:18] {2391} INFO -  at 26.2s,\testimator rf's best error=0.0006,\tbest estimator rf's best error=0.0006\n",
      "[flaml.automl.logger: 10-17 01:29:18] {2218} INFO - iteration 52, current learner rf\n",
      "[flaml.automl.logger: 10-17 01:29:19] {2391} INFO -  at 26.6s,\testimator rf's best error=0.0006,\tbest estimator rf's best error=0.0006\n",
      "[flaml.automl.logger: 10-17 01:29:19] {2218} INFO - iteration 53, current learner rf\n",
      "[flaml.automl.logger: 10-17 01:29:19] {2391} INFO -  at 27.0s,\testimator rf's best error=0.0006,\tbest estimator rf's best error=0.0006\n",
      "[flaml.automl.logger: 10-17 01:29:19] {2218} INFO - iteration 54, current learner rf\n",
      "[flaml.automl.logger: 10-17 01:29:20] {2391} INFO -  at 28.1s,\testimator rf's best error=0.0002,\tbest estimator rf's best error=0.0002\n",
      "[flaml.automl.logger: 10-17 01:29:20] {2218} INFO - iteration 55, current learner rf\n",
      "[flaml.automl.logger: 10-17 01:29:22] {2391} INFO -  at 29.4s,\testimator rf's best error=0.0002,\tbest estimator rf's best error=0.0002\n",
      "[flaml.automl.logger: 10-17 01:29:22] {2218} INFO - iteration 56, current learner rf\n",
      "[flaml.automl.logger: 10-17 01:29:23] {2391} INFO -  at 30.6s,\testimator rf's best error=0.0002,\tbest estimator rf's best error=0.0002\n",
      "[flaml.automl.logger: 10-17 01:29:23] {2218} INFO - iteration 57, current learner rf\n",
      "[flaml.automl.logger: 10-17 01:29:24] {2391} INFO -  at 32.0s,\testimator rf's best error=0.0002,\tbest estimator rf's best error=0.0002\n",
      "[flaml.automl.logger: 10-17 01:29:24] {2218} INFO - iteration 58, current learner rf\n",
      "[flaml.automl.logger: 10-17 01:29:26] {2391} INFO -  at 33.3s,\testimator rf's best error=0.0002,\tbest estimator rf's best error=0.0002\n",
      "[flaml.automl.logger: 10-17 01:29:26] {2218} INFO - iteration 59, current learner rf\n",
      "[flaml.automl.logger: 10-17 01:29:30] {2391} INFO -  at 37.3s,\testimator rf's best error=0.0001,\tbest estimator rf's best error=0.0001\n",
      "[flaml.automl.logger: 10-17 01:29:30] {2218} INFO - iteration 60, current learner xgboost\n",
      "[flaml.automl.logger: 10-17 01:29:32] {2391} INFO -  at 39.6s,\testimator xgboost's best error=0.0035,\tbest estimator rf's best error=0.0001\n",
      "[flaml.automl.logger: 10-17 01:29:32] {2218} INFO - iteration 61, current learner rf\n",
      "[flaml.automl.logger: 10-17 01:29:36] {2391} INFO -  at 43.8s,\testimator rf's best error=0.0001,\tbest estimator rf's best error=0.0001\n",
      "[flaml.automl.logger: 10-17 01:29:36] {2218} INFO - iteration 62, current learner xgboost\n",
      "[flaml.automl.logger: 10-17 01:29:37] {2391} INFO -  at 44.4s,\testimator xgboost's best error=0.0035,\tbest estimator rf's best error=0.0001\n",
      "[flaml.automl.logger: 10-17 01:29:37] {2218} INFO - iteration 63, current learner xgboost\n",
      "[flaml.automl.logger: 10-17 01:29:39] {2391} INFO -  at 46.9s,\testimator xgboost's best error=0.0035,\tbest estimator rf's best error=0.0001\n",
      "[flaml.automl.logger: 10-17 01:29:39] {2218} INFO - iteration 64, current learner rf\n",
      "[flaml.automl.logger: 10-17 01:29:44] {2391} INFO -  at 51.5s,\testimator rf's best error=0.0001,\tbest estimator rf's best error=0.0001\n",
      "[flaml.automl.logger: 10-17 01:29:44] {2218} INFO - iteration 65, current learner rf\n",
      "[flaml.automl.logger: 10-17 01:29:46] {2391} INFO -  at 54.2s,\testimator rf's best error=0.0001,\tbest estimator rf's best error=0.0001\n",
      "[flaml.automl.logger: 10-17 01:29:46] {2218} INFO - iteration 66, current learner extra_tree\n",
      "[flaml.automl.logger: 10-17 01:29:47] {2391} INFO -  at 54.6s,\testimator extra_tree's best error=0.2170,\tbest estimator rf's best error=0.0001\n",
      "[flaml.automl.logger: 10-17 01:29:47] {2218} INFO - iteration 67, current learner rf\n",
      "[flaml.automl.logger: 10-17 01:29:50] {2391} INFO -  at 57.7s,\testimator rf's best error=0.0001,\tbest estimator rf's best error=0.0001\n",
      "[flaml.automl.logger: 10-17 01:29:50] {2218} INFO - iteration 68, current learner rf\n",
      "[flaml.automl.logger: 10-17 01:29:53] {2391} INFO -  at 60.7s,\testimator rf's best error=0.0001,\tbest estimator rf's best error=0.0001\n",
      "[flaml.automl.logger: 10-17 01:29:53] {2218} INFO - iteration 69, current learner xgboost\n",
      "[flaml.automl.logger: 10-17 01:30:05] {2391} INFO -  at 72.5s,\testimator xgboost's best error=0.0035,\tbest estimator rf's best error=0.0001\n",
      "[flaml.automl.logger: 10-17 01:30:05] {2218} INFO - iteration 70, current learner extra_tree\n",
      "[flaml.automl.logger: 10-17 01:30:05] {2391} INFO -  at 73.0s,\testimator extra_tree's best error=0.1261,\tbest estimator rf's best error=0.0001\n",
      "[flaml.automl.logger: 10-17 01:30:05] {2218} INFO - iteration 71, current learner extra_tree\n",
      "[flaml.automl.logger: 10-17 01:30:06] {2391} INFO -  at 73.3s,\testimator extra_tree's best error=0.1261,\tbest estimator rf's best error=0.0001\n",
      "[flaml.automl.logger: 10-17 01:30:06] {2218} INFO - iteration 72, current learner extra_tree\n",
      "[flaml.automl.logger: 10-17 01:30:06] {2391} INFO -  at 73.9s,\testimator extra_tree's best error=0.1179,\tbest estimator rf's best error=0.0001\n",
      "[flaml.automl.logger: 10-17 01:30:06] {2218} INFO - iteration 73, current learner xgboost\n",
      "[flaml.automl.logger: 10-17 01:30:18] {2391} INFO -  at 85.9s,\testimator xgboost's best error=0.0035,\tbest estimator rf's best error=0.0001\n",
      "[flaml.automl.logger: 10-17 01:30:18] {2218} INFO - iteration 74, current learner extra_tree\n",
      "[flaml.automl.logger: 10-17 01:30:18] {2391} INFO -  at 86.2s,\testimator extra_tree's best error=0.1179,\tbest estimator rf's best error=0.0001\n",
      "[flaml.automl.logger: 10-17 01:30:18] {2218} INFO - iteration 75, current learner rf\n",
      "[flaml.automl.logger: 10-17 01:30:55] {2391} INFO -  at 123.1s,\testimator rf's best error=0.0000,\tbest estimator rf's best error=0.0000\n",
      "[flaml.automl.logger: 10-17 01:31:27] {2627} INFO - retrain rf for 31.9s\n",
      "[flaml.automl.logger: 10-17 01:31:27] {2630} INFO - retrained model: RandomForestClassifier(max_features=0.8669421700832803, max_leaf_nodes=76,\n",
      "                       n_estimators=9, n_jobs=-1, random_state=12032022)\n",
      "[flaml.automl.logger: 10-17 01:31:27] {1930} INFO - fit succeeded\n",
      "[flaml.automl.logger: 10-17 01:31:27] {1931} INFO - Time taken to find the best model: 123.13788104057312\n",
      "Accuracy: 1.00\n",
      "<flaml.automl.model.RandomForestEstimator object at 0x7985d018a530>\n"
     ]
    }
   ]
  },
  {
   "cell_type": "markdown",
   "source": [],
   "metadata": {
    "id": "82UL3aOh220Z"
   }
  },
  {
   "cell_type": "markdown",
   "source": [],
   "metadata": {
    "id": "Z2TqHXfER1OM"
   }
  },
  {
   "cell_type": "code",
   "source": [
    "best_model_metric = automl.best_config\n",
    "print(\"Metrics of the Best Model:\")\n",
    "print(best_model_metric)\n",
    "print(automl.best_result)\n",
    "print(best_model)\n"
   ],
   "metadata": {
    "colab": {
     "base_uri": "https://localhost:8080/"
    },
    "id": "0GJPrXELxr-B",
    "outputId": "be40875b-5e36-4db8-ba07-33c2cfaa925c"
   },
   "execution_count": null,
   "outputs": [
    {
     "output_type": "stream",
     "name": "stdout",
     "text": [
      "Metrics of the Best Model:\n",
      "{'n_estimators': 9, 'max_features': 0.8669421700832803, 'max_leaves': 76, 'criterion': 'gini'}\n",
      "{'pred_time': 8.363733523977182e-07, 'wall_clock_time': 123.13788104057312, 'metric_for_logging': {'pred_time': 8.363733523977182e-07}, 'val_loss': 2.5106955630960215e-05, 'training_iteration': 1, 'config': {'n_estimators': 9, 'max_features': 0.8669421700832803, 'max_leaves': 76, 'criterion': 'gini', 'FLAML_sample_size': 1792241}, 'config/n_estimators': 19, 'config/max_features': 0.8669421700832803, 'config/max_leaves': 76, 'config/criterion': 'gini', 'config/FLAML_sample_size': 1792241, 'experiment_tag': 'exp', 'time_total_s': 36.95431160926819}\n",
      "<flaml.automl.model.RandomForestEstimator object at 0x7985d018a530>\n"
     ]
    }
   ]
  },
  {
   "cell_type": "code",
   "source": [
    "best_model = automl.model\n",
    "print(best_model)"
   ],
   "metadata": {
    "id": "b4DhP-0WykfS",
    "colab": {
     "base_uri": "https://localhost:8080/"
    },
    "outputId": "e99cb68b-5079-454a-f89a-fb87282e0f25"
   },
   "execution_count": null,
   "outputs": [
    {
     "output_type": "stream",
     "name": "stdout",
     "text": [
      "<flaml.automl.model.RandomForestEstimator object at 0x7985d018a530>\n"
     ]
    }
   ]
  },
  {
   "cell_type": "code",
   "source": [
    "from sklearn.metrics import confusion_matrix,accuracy_score, precision_score, f1_score, classification_report\n",
    "print(classification_report(y_test, y_pred))"
   ],
   "metadata": {
    "colab": {
     "base_uri": "https://localhost:8080/"
    },
    "id": "c3GVrM8QToUz",
    "outputId": "6b6e0b30-b95a-40ef-bf69-51b4b191b8be"
   },
   "execution_count": null,
   "outputs": [
    {
     "output_type": "stream",
     "name": "stderr",
     "text": [
      "/usr/local/lib/python3.10/dist-packages/sklearn/metrics/_classification.py:1344: UndefinedMetricWarning: Precision and F-score are ill-defined and being set to 0.0 in labels with no predicted samples. Use `zero_division` parameter to control this behavior.\n",
      "  _warn_prf(average, modifier, msg_start, len(result))\n",
      "/usr/local/lib/python3.10/dist-packages/sklearn/metrics/_classification.py:1344: UndefinedMetricWarning: Precision and F-score are ill-defined and being set to 0.0 in labels with no predicted samples. Use `zero_division` parameter to control this behavior.\n",
      "  _warn_prf(average, modifier, msg_start, len(result))\n"
     ]
    },
    {
     "output_type": "stream",
     "name": "stdout",
     "text": [
      "                        precision    recall  f1-score   support\n",
      "\n",
      "                 Climb       1.00      1.00      1.00    112766\n",
      "                Cruise       1.00      1.00      1.00    101194\n",
      "               Descent       1.00      1.00      1.00    131771\n",
      "                 Hover       1.00      1.00      1.00      2961\n",
      "         Hover Descent       1.00      1.00      1.00       174\n",
      "Hover In Ground Effect       1.00      1.00      1.00     54796\n",
      "            Hover Lift       1.00      1.00      1.00        80\n",
      "            Hover Taxi       0.00      0.00      0.00         1\n",
      "      LandingOrTakeOff       1.00      1.00      1.00     73654\n",
      "              Standing       1.00      1.00      1.00     20439\n",
      "\n",
      "              accuracy                           1.00    497836\n",
      "             macro avg       0.90      0.90      0.90    497836\n",
      "          weighted avg       1.00      1.00      1.00    497836\n",
      "\n"
     ]
    },
    {
     "output_type": "stream",
     "name": "stderr",
     "text": [
      "/usr/local/lib/python3.10/dist-packages/sklearn/metrics/_classification.py:1344: UndefinedMetricWarning: Precision and F-score are ill-defined and being set to 0.0 in labels with no predicted samples. Use `zero_division` parameter to control this behavior.\n",
      "  _warn_prf(average, modifier, msg_start, len(result))\n"
     ]
    }
   ]
  },
  {
   "cell_type": "code",
   "source": [
    "from sklearn.metrics import confusion_matrix,accuracy_score, precision_score, f1_score\n",
    "conf_matrix = confusion_matrix(y_test, y_pred)\n",
    "print(\"Confusion Matrix:\")\n",
    "print(conf_matrix)"
   ],
   "metadata": {
    "colab": {
     "base_uri": "https://localhost:8080/"
    },
    "id": "d3sB0Obnym9n",
    "outputId": "4e4da04e-02a9-48c8-faac-b78f4c4e4c3d"
   },
   "execution_count": null,
   "outputs": [
    {
     "output_type": "stream",
     "name": "stdout",
     "text": [
      "Confusion Matrix:\n",
      "[[112766      0      0      0      0      0      0      0      0      0]\n",
      " [     0 101194      0      0      0      0      0      0      0      0]\n",
      " [     0      0 131771      0      0      0      0      0      0      0]\n",
      " [     0      0      0   2961      0      0      0      0      0      0]\n",
      " [     0      0      0      0    174      0      0      0      0      0]\n",
      " [     0      0      0      0      0  54796      0      0      0      0]\n",
      " [     0      0      0      0      0      0     80      0      0      0]\n",
      " [     0      0      0      0      0      0      0      0      1      0]\n",
      " [     0      0      0      0      0      0      0      0  73654      0]\n",
      " [     0      0      0      0      0      1      0      0      0  20438]]\n"
     ]
    }
   ]
  },
  {
   "cell_type": "code",
   "source": [
    "# Calculate accuracy\n",
    "accuracy = accuracy_score(y_test, y_pred)\n",
    "print(f'Accuracy: {accuracy:.2f}')\n",
    "\n",
    "# Calculate precision\n",
    "precision = precision_score(y_test, y_pred, average='weighted')\n",
    "print(f'Precision: {precision:.2f}')\n",
    "\n",
    "# Calculate F1 score\n",
    "f1 = f1_score(y_test, y_pred, average='weighted')\n",
    "print(f'F1 Score: {f1:.2f}')"
   ],
   "metadata": {
    "colab": {
     "base_uri": "https://localhost:8080/"
    },
    "id": "NrDtW4EyzKd8",
    "outputId": "eb73f3b6-dc88-4059-fd50-9c5188be5618"
   },
   "execution_count": null,
   "outputs": [
    {
     "output_type": "stream",
     "name": "stdout",
     "text": [
      "Accuracy: 1.00\n"
     ]
    },
    {
     "output_type": "stream",
     "name": "stderr",
     "text": [
      "/usr/local/lib/python3.10/dist-packages/sklearn/metrics/_classification.py:1344: UndefinedMetricWarning: Precision is ill-defined and being set to 0.0 in labels with no predicted samples. Use `zero_division` parameter to control this behavior.\n",
      "  _warn_prf(average, modifier, msg_start, len(result))\n"
     ]
    },
    {
     "output_type": "stream",
     "name": "stdout",
     "text": [
      "Precision: 1.00\n",
      "F1 Score: 1.00\n"
     ]
    }
   ]
  }
 ]
}
