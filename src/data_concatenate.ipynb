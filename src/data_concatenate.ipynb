{
 "cells": [
  {
   "cell_type": "code",
   "execution_count": 5,
   "metadata": {
    "collapsed": true
   },
   "outputs": [
    {
     "name": "stdout",
     "output_type": "stream",
     "text": [
      "Working on file: SimData_2023.01.26_11.10.42.csv\n",
      "Working on file: SimData_2023.01.26_12.04.17.csv\n",
      "Working on file: SimData_2023.01.26_14.35.36.csv\n",
      "Working on file: SimData_2023.01.26_10.12.36.csv\n",
      "Working on file: SimData_2023.01.26_15.49.25.csv\n",
      "Working on file: SimData_2023.01.26_13.42.29.csv\n",
      "Working on file: SimData_2023.01.26_14.04.30.csv\n",
      "Working on file: SimData_2023.01.26_11.50.31.csv\n",
      "Working on file: SimData_2023.01.26_16.05.57.csv\n",
      "Working on file: SimData_2023.01.26_11.09.26.csv\n",
      "Working on file: SimData_2023.01.26_11.10.13.csv\n",
      "Working on file: SimData_2023.01.26_09.18.03.csv\n",
      "CSV files successfully concatenated. Result saved to: /Users/amahfouz/Downloads/csv_data/2023_01_26/2023_01_26_all.csv\n"
     ]
    }
   ],
   "source": [
    "import os\n",
    "\n",
    "# Specify the directory where your CSV files are located\n",
    "directory = '/Users/amahfouz/Downloads/csv_data/2023_01_26'\n",
    "\n",
    "# Get a list of all CSV files in the directory\n",
    "csv_files = [file for file in os.listdir(directory) if file.endswith('.csv')]\n",
    "\n",
    "# Check if there are any CSV files in the directory\n",
    "if len(csv_files) == 0:\n",
    "    print(\"No CSV files found in the specified directory.\")\n",
    "else:\n",
    "    # Read the header from the first CSV file\n",
    "    first_file_path = os.path.join(directory, csv_files[0])\n",
    "    with open(first_file_path, 'r') as first_file:\n",
    "        header = first_file.readline()\n",
    "\n",
    "    # Concatenate all CSV files while skipping the header row\n",
    "    concatenated_data = header\n",
    "    for file in csv_files:\n",
    "        print(\"Working on file:\", file)\n",
    "        file_path = os.path.join(directory, file)\n",
    "        # Read each CSV file excluding the header row\n",
    "        with open(file_path, 'r') as current_file:\n",
    "            lines = current_file.readlines()[3:-1]\n",
    "            concatenated_data += ''.join(lines)\n",
    "\n",
    "    # Write the concatenated data to a new CSV file\n",
    "    output_file_path = '/Users/amahfouz/Downloads/csv_data/2023_01_26/2023_01_26_all.csv'\n",
    "    with open(output_file_path, 'w') as output_file:\n",
    "        output_file.write(concatenated_data)\n",
    "\n",
    "    print(f\"CSV files successfully concatenated. Result saved to: {output_file_path}\")\n"
   ]
  },
  {
   "cell_type": "code",
   "execution_count": null,
   "outputs": [],
   "source": [],
   "metadata": {
    "collapsed": false
   }
  }
 ],
 "metadata": {
  "kernelspec": {
   "display_name": "Python 3",
   "language": "python",
   "name": "python3"
  },
  "language_info": {
   "codemirror_mode": {
    "name": "ipython",
    "version": 2
   },
   "file_extension": ".py",
   "mimetype": "text/x-python",
   "name": "python",
   "nbconvert_exporter": "python",
   "pygments_lexer": "ipython2",
   "version": "2.7.6"
  }
 },
 "nbformat": 4,
 "nbformat_minor": 0
}
