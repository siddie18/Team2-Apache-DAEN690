{
 "cells": [
  {
   "cell_type": "markdown",
   "source": [
    "## LSTM Sliding Window Technique to predict rotorcraft phase\n",
    "\n",
    "#### Installation\n",
    "1) Create conda environment with python 3.9\n",
    "2) Install following packages\n",
    "    conda install -c conda-forge pandas\n",
    "    conda install -c conda-forge numpy\n",
    "    conda install -c conda-forge scikit-learn\n",
    "    conda install -c conda-forge jupyter\n",
    "    conda install -c conda-forge matplotlib\n",
    "    conda install -c conda-forge seaborn\n",
    "    conda install pytorch torchvision torchaudio pytorch-cuda=12.1 -c pytorch -c nvidia\n",
    "3) Install GPU drivers for better speed\n",
    "\n",
    "#### Notes\n",
    "The code was run on a GPU equipped machine\n",
    "With GPU capability, training takes only a few minutes. With CPU, this could take hours\n",
    "\n",
    "#### About LSTM\n",
    "Long Short-Term Memory (LSTM) is a type of recurrent neural network (RNN) designed for handling sequential data.\n",
    "The rotorcraft data is sequential in nature and LSTM can identify patterns in this type of data well."
   ],
   "metadata": {
    "collapsed": false
   }
  },
  {
   "cell_type": "code",
   "execution_count": 81,
   "outputs": [],
   "source": [
    "import utils"
   ],
   "metadata": {
    "collapsed": false,
    "ExecuteTime": {
     "end_time": "2023-11-12T17:30:38.019630600Z",
     "start_time": "2023-11-12T17:30:37.942989600Z"
    }
   }
  },
  {
   "cell_type": "markdown",
   "source": [
    "#### Load Training Data\n",
    "Loads only these columns - 'Vert. Speed', 'Groundspeed', 'Altitude(AGL)', 'Date', 'System UTC Time'"
   ],
   "metadata": {
    "collapsed": false
   }
  },
  {
   "cell_type": "code",
   "execution_count": 82,
   "outputs": [
    {
     "name": "stdout",
     "output_type": "stream",
     "text": [
      "reading file data/train_data\\SimData_2022.07.28_10.07.30.csv\n",
      "reading file data/train_data\\SimData_2022.07.28_10.11.13.csv\n",
      "reading file data/train_data\\SimData_2022.07.28_10.59.59.csv\n",
      "reading file data/train_data\\SimData_2022.07.28_11.47.45.csv\n",
      "reading file data/train_data\\SimData_2022.07.28_12.16.14.csv\n",
      "reading file data/train_data\\SimData_2022.07.28_13.45.28.csv\n",
      "reading file data/train_data\\SimData_2022.07.28_14.02.12.csv\n",
      "reading file data/train_data\\SimData_2022.07.28_14.19.29.csv\n",
      "reading file data/train_data\\SimData_2022.07.28_14.44.18.csv\n",
      "reading file data/train_data\\SimData_2022.07.28_15.13.02.csv\n",
      "reading file data/train_data\\SimData_2022.07.28_15.57.11.csv\n",
      "reading file data/train_data\\SimData_2022.07.28_16.45.29.csv\n",
      "reading file data/train_data\\SimData_2022.07.28_16.51.43.csv\n",
      "reading file data/train_data\\SimData_2022.07.28_16.59.08.csv\n",
      "reading file data/train_data\\SimData_2022.10.20_12.43.14.csv\n",
      "reading file data/train_data\\SimData_2022.10.20_13.25.49.csv\n",
      "reading file data/train_data\\SimData_2022.10.20_14.12.52.csv\n",
      "reading file data/train_data\\SimData_2022.10.20_14.38.21.csv\n",
      "reading file data/train_data\\SimData_2022.10.20_16.07.20.csv\n",
      "reading file data/train_data\\SimData_2022.10.20_17.19.15.csv\n",
      "reading file data/train_data\\SimData_2023.01.26_09.18.03.csv\n",
      "reading file data/train_data\\SimData_2023.01.26_10.12.36.csv\n",
      "reading file data/train_data\\SimData_2023.01.26_11.09.26.csv\n",
      "reading file data/train_data\\SimData_2023.01.26_11.10.13.csv\n",
      "reading file data/train_data\\SimData_2023.01.26_11.10.42.csv\n",
      "reading file data/train_data\\SimData_2023.01.26_11.50.31.csv\n",
      "reading file data/train_data\\SimData_2023.01.26_12.04.17.csv\n",
      "reading file data/train_data\\SimData_2023.01.26_13.42.29.csv\n",
      "reading file data/train_data\\SimData_2023.01.26_14.04.30.csv\n",
      "reading file data/train_data\\SimData_2023.01.26_14.35.36.csv\n",
      "reading file data/train_data\\SimData_2023.01.26_15.49.25.csv\n",
      "reading file data/train_data\\SimData_2023.01.26_16.05.57.csv\n",
      "reading file data/train_data\\SimData_2023.02.16_09.13.11.csv\n",
      "reading file data/train_data\\SimData_2023.02.16_09.37.37.csv\n",
      "reading file data/train_data\\SimData_2023.02.16_10.13.55.csv\n",
      "reading file data/train_data\\SimData_2023.02.16_10.34.02.csv\n",
      "reading file data/train_data\\SimData_2023.02.16_11.01.03.csv\n",
      "reading file data/train_data\\SimData_2023.02.16_11.07.31.csv\n",
      "reading file data/train_data\\SimData_2023.02.16_13.29.41.csv\n",
      "reading file data/train_data\\SimData_2023.02.16_13.37.19.csv\n",
      "reading file data/train_data\\SimData_2023.02.16_13.51.10.csv\n",
      "reading file data/train_data\\SimData_2023.02.16_13.55.42.csv\n",
      "reading file data/train_data\\SimData_2023.02.16_14.00.36.csv\n",
      "reading file data/train_data\\SimData_2023.02.16_14.05.41.csv\n",
      "reading file data/train_data\\SimData_2023.02.16_14.12.50.csv\n",
      "reading file data/train_data\\SimData_2023.02.16_14.17.26.csv\n",
      "reading file data/train_data\\SimData_2023.06.01_09.07.29.csv\n",
      "reading file data/train_data\\SimData_2023.06.01_10.41.44.csv\n",
      "reading file data/train_data\\SimData_2023.06.01_11.19.44.csv\n",
      "reading file data/train_data\\SimData_2023.06.01_13.06.40.csv\n",
      "reading file data/train_data\\SimData_2023.06.01_13.21.58.csv\n"
     ]
    },
    {
     "data": {
      "text/plain": "   Vert. Speed Groundspeed Altitude(AGL)        Date System UTC Time\n1       -0.001       0.041          0.06  07/28/2022    14:07:52.445\n2        0.004       0.038          0.06  07/28/2022    14:07:52.467\n3        0.008       0.032          0.06  07/28/2022    14:07:52.485\n4        0.011       0.019          0.06  07/28/2022    14:07:52.523\n5        0.013       0.010          0.06  07/28/2022    14:07:52.546\n6        0.015       0.004          0.06  07/28/2022    14:07:52.569\n7        0.016       0.008          0.06  07/28/2022    14:07:52.593\n8        0.018       0.012          0.06  07/28/2022    14:07:52.616\n9        0.019       0.014          0.06  07/28/2022    14:07:52.639\n10       0.021       0.013          0.06  07/28/2022    14:07:52.663",
      "text/html": "<div>\n<style scoped>\n    .dataframe tbody tr th:only-of-type {\n        vertical-align: middle;\n    }\n\n    .dataframe tbody tr th {\n        vertical-align: top;\n    }\n\n    .dataframe thead th {\n        text-align: right;\n    }\n</style>\n<table border=\"1\" class=\"dataframe\">\n  <thead>\n    <tr style=\"text-align: right;\">\n      <th></th>\n      <th>Vert. Speed</th>\n      <th>Groundspeed</th>\n      <th>Altitude(AGL)</th>\n      <th>Date</th>\n      <th>System UTC Time</th>\n    </tr>\n  </thead>\n  <tbody>\n    <tr>\n      <th>1</th>\n      <td>-0.001</td>\n      <td>0.041</td>\n      <td>0.06</td>\n      <td>07/28/2022</td>\n      <td>14:07:52.445</td>\n    </tr>\n    <tr>\n      <th>2</th>\n      <td>0.004</td>\n      <td>0.038</td>\n      <td>0.06</td>\n      <td>07/28/2022</td>\n      <td>14:07:52.467</td>\n    </tr>\n    <tr>\n      <th>3</th>\n      <td>0.008</td>\n      <td>0.032</td>\n      <td>0.06</td>\n      <td>07/28/2022</td>\n      <td>14:07:52.485</td>\n    </tr>\n    <tr>\n      <th>4</th>\n      <td>0.011</td>\n      <td>0.019</td>\n      <td>0.06</td>\n      <td>07/28/2022</td>\n      <td>14:07:52.523</td>\n    </tr>\n    <tr>\n      <th>5</th>\n      <td>0.013</td>\n      <td>0.010</td>\n      <td>0.06</td>\n      <td>07/28/2022</td>\n      <td>14:07:52.546</td>\n    </tr>\n    <tr>\n      <th>6</th>\n      <td>0.015</td>\n      <td>0.004</td>\n      <td>0.06</td>\n      <td>07/28/2022</td>\n      <td>14:07:52.569</td>\n    </tr>\n    <tr>\n      <th>7</th>\n      <td>0.016</td>\n      <td>0.008</td>\n      <td>0.06</td>\n      <td>07/28/2022</td>\n      <td>14:07:52.593</td>\n    </tr>\n    <tr>\n      <th>8</th>\n      <td>0.018</td>\n      <td>0.012</td>\n      <td>0.06</td>\n      <td>07/28/2022</td>\n      <td>14:07:52.616</td>\n    </tr>\n    <tr>\n      <th>9</th>\n      <td>0.019</td>\n      <td>0.014</td>\n      <td>0.06</td>\n      <td>07/28/2022</td>\n      <td>14:07:52.639</td>\n    </tr>\n    <tr>\n      <th>10</th>\n      <td>0.021</td>\n      <td>0.013</td>\n      <td>0.06</td>\n      <td>07/28/2022</td>\n      <td>14:07:52.663</td>\n    </tr>\n  </tbody>\n</table>\n</div>"
     },
     "execution_count": 82,
     "metadata": {},
     "output_type": "execute_result"
    }
   ],
   "source": [
    "train_csv_directory = 'data/train_data'\n",
    "selected_df = utils.load_data_from_dir(train_csv_directory)\n",
    "selected_df.head(10)"
   ],
   "metadata": {
    "collapsed": false,
    "ExecuteTime": {
     "end_time": "2023-11-12T17:31:44.438001Z",
     "start_time": "2023-11-12T17:30:37.960006500Z"
    }
   }
  },
  {
   "cell_type": "code",
   "execution_count": 83,
   "outputs": [
    {
     "name": "stdout",
     "output_type": "stream",
     "text": [
      "column data types\n"
     ]
    },
    {
     "data": {
      "text/plain": "Vert. Speed        object\nGroundspeed        object\nAltitude(AGL)      object\nDate               object\nSystem UTC Time    object\ndtype: object"
     },
     "execution_count": 83,
     "metadata": {},
     "output_type": "execute_result"
    }
   ],
   "source": [
    "print('column data types')\n",
    "selected_df.dtypes"
   ],
   "metadata": {
    "collapsed": false,
    "ExecuteTime": {
     "end_time": "2023-11-12T17:31:44.452159400Z",
     "start_time": "2023-11-12T17:31:44.438797800Z"
    }
   }
  },
  {
   "cell_type": "markdown",
   "source": [
    "#### Formatting involves\n",
    "a) Combine Date and Time column and change type to datetime\n",
    "b) Convert columns to float - 'Vert. Speed', 'Groundspeed', 'Altitude(AGL)'\n",
    "c) Sort by datetime so LSTM sequences are in order of phase occurrence\n"
   ],
   "metadata": {
    "collapsed": false
   }
  },
  {
   "cell_type": "code",
   "execution_count": 84,
   "outputs": [
    {
     "data": {
      "text/plain": "   Vert. Speed  Groundspeed  Altitude(AGL)                DateTime\n0       -0.001        0.041           0.06 2022-07-28 14:07:52.445\n1        0.004        0.038           0.06 2022-07-28 14:07:52.467\n2        0.008        0.032           0.06 2022-07-28 14:07:52.485\n3        0.011        0.019           0.06 2022-07-28 14:07:52.523\n4        0.013        0.010           0.06 2022-07-28 14:07:52.546\n5        0.015        0.004           0.06 2022-07-28 14:07:52.569\n6        0.016        0.008           0.06 2022-07-28 14:07:52.593\n7        0.018        0.012           0.06 2022-07-28 14:07:52.616\n8        0.019        0.014           0.06 2022-07-28 14:07:52.639\n9        0.021        0.013           0.06 2022-07-28 14:07:52.663",
      "text/html": "<div>\n<style scoped>\n    .dataframe tbody tr th:only-of-type {\n        vertical-align: middle;\n    }\n\n    .dataframe tbody tr th {\n        vertical-align: top;\n    }\n\n    .dataframe thead th {\n        text-align: right;\n    }\n</style>\n<table border=\"1\" class=\"dataframe\">\n  <thead>\n    <tr style=\"text-align: right;\">\n      <th></th>\n      <th>Vert. Speed</th>\n      <th>Groundspeed</th>\n      <th>Altitude(AGL)</th>\n      <th>DateTime</th>\n    </tr>\n  </thead>\n  <tbody>\n    <tr>\n      <th>0</th>\n      <td>-0.001</td>\n      <td>0.041</td>\n      <td>0.06</td>\n      <td>2022-07-28 14:07:52.445</td>\n    </tr>\n    <tr>\n      <th>1</th>\n      <td>0.004</td>\n      <td>0.038</td>\n      <td>0.06</td>\n      <td>2022-07-28 14:07:52.467</td>\n    </tr>\n    <tr>\n      <th>2</th>\n      <td>0.008</td>\n      <td>0.032</td>\n      <td>0.06</td>\n      <td>2022-07-28 14:07:52.485</td>\n    </tr>\n    <tr>\n      <th>3</th>\n      <td>0.011</td>\n      <td>0.019</td>\n      <td>0.06</td>\n      <td>2022-07-28 14:07:52.523</td>\n    </tr>\n    <tr>\n      <th>4</th>\n      <td>0.013</td>\n      <td>0.010</td>\n      <td>0.06</td>\n      <td>2022-07-28 14:07:52.546</td>\n    </tr>\n    <tr>\n      <th>5</th>\n      <td>0.015</td>\n      <td>0.004</td>\n      <td>0.06</td>\n      <td>2022-07-28 14:07:52.569</td>\n    </tr>\n    <tr>\n      <th>6</th>\n      <td>0.016</td>\n      <td>0.008</td>\n      <td>0.06</td>\n      <td>2022-07-28 14:07:52.593</td>\n    </tr>\n    <tr>\n      <th>7</th>\n      <td>0.018</td>\n      <td>0.012</td>\n      <td>0.06</td>\n      <td>2022-07-28 14:07:52.616</td>\n    </tr>\n    <tr>\n      <th>8</th>\n      <td>0.019</td>\n      <td>0.014</td>\n      <td>0.06</td>\n      <td>2022-07-28 14:07:52.639</td>\n    </tr>\n    <tr>\n      <th>9</th>\n      <td>0.021</td>\n      <td>0.013</td>\n      <td>0.06</td>\n      <td>2022-07-28 14:07:52.663</td>\n    </tr>\n  </tbody>\n</table>\n</div>"
     },
     "execution_count": 84,
     "metadata": {},
     "output_type": "execute_result"
    }
   ],
   "source": [
    "formatted_df = utils.format_data(selected_df)\n",
    "formatted_df.head(10)"
   ],
   "metadata": {
    "collapsed": false,
    "ExecuteTime": {
     "end_time": "2023-11-12T17:31:49.025226200Z",
     "start_time": "2023-11-12T17:31:44.524214100Z"
    }
   }
  },
  {
   "cell_type": "code",
   "execution_count": 85,
   "outputs": [
    {
     "name": "stdout",
     "output_type": "stream",
     "text": [
      "column type after formatting\n"
     ]
    },
    {
     "data": {
      "text/plain": "Vert. Speed             float64\nGroundspeed             float64\nAltitude(AGL)           float64\nDateTime         datetime64[ns]\ndtype: object"
     },
     "execution_count": 85,
     "metadata": {},
     "output_type": "execute_result"
    }
   ],
   "source": [
    "print('column type after formatting')\n",
    "formatted_df.dtypes"
   ],
   "metadata": {
    "collapsed": false,
    "ExecuteTime": {
     "end_time": "2023-11-12T17:31:49.056293400Z",
     "start_time": "2023-11-12T17:31:49.027227600Z"
    }
   }
  },
  {
   "cell_type": "markdown",
   "source": [
    "#### Define physics model to tag phase of each row"
   ],
   "metadata": {
    "collapsed": false
   }
  },
  {
   "cell_type": "code",
   "execution_count": 86,
   "outputs": [],
   "source": [
    "#Physics model\n",
    "def is_close_to_zero(value, tolerance=1e-6):\n",
    "    return abs(value) < tolerance\n",
    "\n",
    "# Create a function to identify phases\n",
    "def identify_phase(Vert_Speed, Groundspeed, Altitude_AGL):\n",
    "    if is_close_to_zero(Vert_Speed) and Groundspeed < 0.6 and 0 <= Altitude_AGL < 2:\n",
    "        return \"Standing\"\n",
    "    elif is_close_to_zero(Vert_Speed) and 0.6 <= Groundspeed < 20 and 0 <= Altitude_AGL < 2:\n",
    "        return \"Surface Taxi\"\n",
    "    elif is_close_to_zero(Vert_Speed) and 0.6 <= Groundspeed < 30 and 2 <= Altitude_AGL < 25:\n",
    "        return \"Hover Taxi\"\n",
    "    elif is_close_to_zero(Vert_Speed) and 0.6 <= Groundspeed < 50 and 25 <= Altitude_AGL < 100:\n",
    "        return \"Air Taxi\"\n",
    "    elif -90 <= Vert_Speed <= 90 and Groundspeed <= 0.6 and Altitude_AGL < 2:\n",
    "        return \"Hover In Ground Effect\"\n",
    "    elif -90 <= Vert_Speed <= 90 and Groundspeed <= 0.6 and Altitude_AGL >= 100:\n",
    "        return \"Hover\"\n",
    "    elif Vert_Speed > 90 and Groundspeed <= 0.6 and Altitude_AGL < 100:\n",
    "        return \"Hover Lift\"\n",
    "    elif Vert_Speed < -90 and Groundspeed <= 0.6 and Altitude_AGL < 100:\n",
    "        return \"Hover Descent\"\n",
    "    elif Vert_Speed > 90 and Altitude_AGL >= 100:\n",
    "        return \"Climb\"\n",
    "    elif -90 <= Vert_Speed <= 90 and Groundspeed > 0.6 and Altitude_AGL >= 100:\n",
    "        return \"Cruise\"\n",
    "    elif Vert_Speed < -90 and Altitude_AGL >= 100:\n",
    "        return \"Descent\"\n",
    "    else:\n",
    "        return \"LandingOrTakeOff\"\n"
   ],
   "metadata": {
    "collapsed": false,
    "ExecuteTime": {
     "end_time": "2023-11-12T17:31:49.086988700Z",
     "start_time": "2023-11-12T17:31:49.044285400Z"
    }
   }
  },
  {
   "cell_type": "markdown",
   "source": [
    "#### Add phase column using physics definition"
   ],
   "metadata": {
    "collapsed": false
   }
  },
  {
   "cell_type": "code",
   "execution_count": 87,
   "outputs": [
    {
     "data": {
      "text/plain": "   Vert. Speed  Groundspeed  Altitude(AGL)                DateTime  \\\n0       -0.001        0.041           0.06 2022-07-28 14:07:52.445   \n1        0.004        0.038           0.06 2022-07-28 14:07:52.467   \n2        0.008        0.032           0.06 2022-07-28 14:07:52.485   \n3        0.011        0.019           0.06 2022-07-28 14:07:52.523   \n4        0.013        0.010           0.06 2022-07-28 14:07:52.546   \n5        0.015        0.004           0.06 2022-07-28 14:07:52.569   \n6        0.016        0.008           0.06 2022-07-28 14:07:52.593   \n7        0.018        0.012           0.06 2022-07-28 14:07:52.616   \n8        0.019        0.014           0.06 2022-07-28 14:07:52.639   \n9        0.021        0.013           0.06 2022-07-28 14:07:52.663   \n\n                    Phase  \n0  Hover In Ground Effect  \n1  Hover In Ground Effect  \n2  Hover In Ground Effect  \n3  Hover In Ground Effect  \n4  Hover In Ground Effect  \n5  Hover In Ground Effect  \n6  Hover In Ground Effect  \n7  Hover In Ground Effect  \n8  Hover In Ground Effect  \n9  Hover In Ground Effect  ",
      "text/html": "<div>\n<style scoped>\n    .dataframe tbody tr th:only-of-type {\n        vertical-align: middle;\n    }\n\n    .dataframe tbody tr th {\n        vertical-align: top;\n    }\n\n    .dataframe thead th {\n        text-align: right;\n    }\n</style>\n<table border=\"1\" class=\"dataframe\">\n  <thead>\n    <tr style=\"text-align: right;\">\n      <th></th>\n      <th>Vert. Speed</th>\n      <th>Groundspeed</th>\n      <th>Altitude(AGL)</th>\n      <th>DateTime</th>\n      <th>Phase</th>\n    </tr>\n  </thead>\n  <tbody>\n    <tr>\n      <th>0</th>\n      <td>-0.001</td>\n      <td>0.041</td>\n      <td>0.06</td>\n      <td>2022-07-28 14:07:52.445</td>\n      <td>Hover In Ground Effect</td>\n    </tr>\n    <tr>\n      <th>1</th>\n      <td>0.004</td>\n      <td>0.038</td>\n      <td>0.06</td>\n      <td>2022-07-28 14:07:52.467</td>\n      <td>Hover In Ground Effect</td>\n    </tr>\n    <tr>\n      <th>2</th>\n      <td>0.008</td>\n      <td>0.032</td>\n      <td>0.06</td>\n      <td>2022-07-28 14:07:52.485</td>\n      <td>Hover In Ground Effect</td>\n    </tr>\n    <tr>\n      <th>3</th>\n      <td>0.011</td>\n      <td>0.019</td>\n      <td>0.06</td>\n      <td>2022-07-28 14:07:52.523</td>\n      <td>Hover In Ground Effect</td>\n    </tr>\n    <tr>\n      <th>4</th>\n      <td>0.013</td>\n      <td>0.010</td>\n      <td>0.06</td>\n      <td>2022-07-28 14:07:52.546</td>\n      <td>Hover In Ground Effect</td>\n    </tr>\n    <tr>\n      <th>5</th>\n      <td>0.015</td>\n      <td>0.004</td>\n      <td>0.06</td>\n      <td>2022-07-28 14:07:52.569</td>\n      <td>Hover In Ground Effect</td>\n    </tr>\n    <tr>\n      <th>6</th>\n      <td>0.016</td>\n      <td>0.008</td>\n      <td>0.06</td>\n      <td>2022-07-28 14:07:52.593</td>\n      <td>Hover In Ground Effect</td>\n    </tr>\n    <tr>\n      <th>7</th>\n      <td>0.018</td>\n      <td>0.012</td>\n      <td>0.06</td>\n      <td>2022-07-28 14:07:52.616</td>\n      <td>Hover In Ground Effect</td>\n    </tr>\n    <tr>\n      <th>8</th>\n      <td>0.019</td>\n      <td>0.014</td>\n      <td>0.06</td>\n      <td>2022-07-28 14:07:52.639</td>\n      <td>Hover In Ground Effect</td>\n    </tr>\n    <tr>\n      <th>9</th>\n      <td>0.021</td>\n      <td>0.013</td>\n      <td>0.06</td>\n      <td>2022-07-28 14:07:52.663</td>\n      <td>Hover In Ground Effect</td>\n    </tr>\n  </tbody>\n</table>\n</div>"
     },
     "execution_count": 87,
     "metadata": {},
     "output_type": "execute_result"
    }
   ],
   "source": [
    "# Apply the function to identify phases for each row\n",
    "formatted_df['Phase'] = formatted_df.apply(\n",
    "    lambda row: identify_phase(row['Vert. Speed'], row['Groundspeed'], row['Altitude(AGL)']), axis=1)\n",
    "\n",
    "formatted_df.head(10)"
   ],
   "metadata": {
    "collapsed": false,
    "ExecuteTime": {
     "end_time": "2023-11-12T17:32:12.389426900Z",
     "start_time": "2023-11-12T17:31:49.058292500Z"
    }
   }
  },
  {
   "cell_type": "code",
   "execution_count": 88,
   "outputs": [
    {
     "name": "stdout",
     "output_type": "stream",
     "text": [
      "number of training rows 3080267\n"
     ]
    },
    {
     "data": {
      "text/plain": "   Vert. Speed  Groundspeed  Altitude(AGL)                DateTime  \\\n0       -0.001        0.041           0.06 2022-07-28 14:07:52.445   \n1        0.004        0.038           0.06 2022-07-28 14:07:52.467   \n2        0.008        0.032           0.06 2022-07-28 14:07:52.485   \n3        0.011        0.019           0.06 2022-07-28 14:07:52.523   \n4        0.013        0.010           0.06 2022-07-28 14:07:52.546   \n5        0.015        0.004           0.06 2022-07-28 14:07:52.569   \n6        0.016        0.008           0.06 2022-07-28 14:07:52.593   \n7        0.018        0.012           0.06 2022-07-28 14:07:52.616   \n8        0.019        0.014           0.06 2022-07-28 14:07:52.639   \n9        0.021        0.013           0.06 2022-07-28 14:07:52.663   \n\n                    Phase  \n0  Hover In Ground Effect  \n1  Hover In Ground Effect  \n2  Hover In Ground Effect  \n3  Hover In Ground Effect  \n4  Hover In Ground Effect  \n5  Hover In Ground Effect  \n6  Hover In Ground Effect  \n7  Hover In Ground Effect  \n8  Hover In Ground Effect  \n9  Hover In Ground Effect  ",
      "text/html": "<div>\n<style scoped>\n    .dataframe tbody tr th:only-of-type {\n        vertical-align: middle;\n    }\n\n    .dataframe tbody tr th {\n        vertical-align: top;\n    }\n\n    .dataframe thead th {\n        text-align: right;\n    }\n</style>\n<table border=\"1\" class=\"dataframe\">\n  <thead>\n    <tr style=\"text-align: right;\">\n      <th></th>\n      <th>Vert. Speed</th>\n      <th>Groundspeed</th>\n      <th>Altitude(AGL)</th>\n      <th>DateTime</th>\n      <th>Phase</th>\n    </tr>\n  </thead>\n  <tbody>\n    <tr>\n      <th>0</th>\n      <td>-0.001</td>\n      <td>0.041</td>\n      <td>0.06</td>\n      <td>2022-07-28 14:07:52.445</td>\n      <td>Hover In Ground Effect</td>\n    </tr>\n    <tr>\n      <th>1</th>\n      <td>0.004</td>\n      <td>0.038</td>\n      <td>0.06</td>\n      <td>2022-07-28 14:07:52.467</td>\n      <td>Hover In Ground Effect</td>\n    </tr>\n    <tr>\n      <th>2</th>\n      <td>0.008</td>\n      <td>0.032</td>\n      <td>0.06</td>\n      <td>2022-07-28 14:07:52.485</td>\n      <td>Hover In Ground Effect</td>\n    </tr>\n    <tr>\n      <th>3</th>\n      <td>0.011</td>\n      <td>0.019</td>\n      <td>0.06</td>\n      <td>2022-07-28 14:07:52.523</td>\n      <td>Hover In Ground Effect</td>\n    </tr>\n    <tr>\n      <th>4</th>\n      <td>0.013</td>\n      <td>0.010</td>\n      <td>0.06</td>\n      <td>2022-07-28 14:07:52.546</td>\n      <td>Hover In Ground Effect</td>\n    </tr>\n    <tr>\n      <th>5</th>\n      <td>0.015</td>\n      <td>0.004</td>\n      <td>0.06</td>\n      <td>2022-07-28 14:07:52.569</td>\n      <td>Hover In Ground Effect</td>\n    </tr>\n    <tr>\n      <th>6</th>\n      <td>0.016</td>\n      <td>0.008</td>\n      <td>0.06</td>\n      <td>2022-07-28 14:07:52.593</td>\n      <td>Hover In Ground Effect</td>\n    </tr>\n    <tr>\n      <th>7</th>\n      <td>0.018</td>\n      <td>0.012</td>\n      <td>0.06</td>\n      <td>2022-07-28 14:07:52.616</td>\n      <td>Hover In Ground Effect</td>\n    </tr>\n    <tr>\n      <th>8</th>\n      <td>0.019</td>\n      <td>0.014</td>\n      <td>0.06</td>\n      <td>2022-07-28 14:07:52.639</td>\n      <td>Hover In Ground Effect</td>\n    </tr>\n    <tr>\n      <th>9</th>\n      <td>0.021</td>\n      <td>0.013</td>\n      <td>0.06</td>\n      <td>2022-07-28 14:07:52.663</td>\n      <td>Hover In Ground Effect</td>\n    </tr>\n  </tbody>\n</table>\n</div>"
     },
     "execution_count": 88,
     "metadata": {},
     "output_type": "execute_result"
    }
   ],
   "source": [
    "df = formatted_df\n",
    "print('number of training rows', len(df))\n",
    "df.head(10)"
   ],
   "metadata": {
    "collapsed": false,
    "ExecuteTime": {
     "end_time": "2023-11-12T17:32:12.390423800Z",
     "start_time": "2023-11-12T17:32:12.389426900Z"
    }
   }
  },
  {
   "cell_type": "code",
   "execution_count": 89,
   "outputs": [
    {
     "name": "stdout",
     "output_type": "stream",
     "text": [
      "Phase\n",
      "Descent                   782030\n",
      "Climb                     675334\n",
      "Cruise                    652723\n",
      "LandingOrTakeOff          470354\n",
      "Hover In Ground Effect    359419\n",
      "Standing                  124083\n",
      "Hover                      14940\n",
      "Hover Descent                995\n",
      "Hover Lift                   383\n",
      "Surface Taxi                   4\n",
      "Air Taxi                       1\n",
      "Hover Taxi                     1\n",
      "Name: count, dtype: int64\n"
     ]
    }
   ],
   "source": [
    "print(df['Phase'].value_counts())"
   ],
   "metadata": {
    "collapsed": false,
    "ExecuteTime": {
     "end_time": "2023-11-12T17:32:12.392515400Z",
     "start_time": "2023-11-12T17:32:12.390423800Z"
    }
   }
  },
  {
   "cell_type": "markdown",
   "source": [
    "#### Create sequences using sliding window and convert to torch tensor"
   ],
   "metadata": {
    "collapsed": false
   }
  },
  {
   "cell_type": "code",
   "execution_count": 90,
   "outputs": [],
   "source": [
    "import numpy as np\n",
    "import torch\n",
    "from sklearn.preprocessing import LabelEncoder\n",
    "\n",
    "device = torch.device(\"cuda\" if torch.cuda.is_available() else \"cpu\")\n",
    "\n",
    "sequence_length = 5000\n",
    "step_size = 1000\n",
    "\n",
    "X, y = utils.create_sliding_window_sequences(df, sequence_length, step_size)\n",
    "encoder = LabelEncoder()\n",
    "y = encoder.fit_transform(np.array(y))\n",
    "\n",
    "X_torch, y_torch = utils.torch_input_output(X, y, device)"
   ],
   "metadata": {
    "collapsed": false,
    "ExecuteTime": {
     "end_time": "2023-11-12T17:32:12.822175100Z",
     "start_time": "2023-11-12T17:32:12.410539600Z"
    }
   }
  },
  {
   "cell_type": "code",
   "execution_count": 91,
   "outputs": [
    {
     "name": "stdout",
     "output_type": "stream",
     "text": [
      "phase labels in training data\n"
     ]
    },
    {
     "data": {
      "text/plain": "array(['Climb', 'Cruise', 'Descent', 'Hover', 'Hover Descent',\n       'Hover In Ground Effect', 'Hover Lift', 'LandingOrTakeOff',\n       'Standing'], dtype='<U22')"
     },
     "execution_count": 91,
     "metadata": {},
     "output_type": "execute_result"
    }
   ],
   "source": [
    "print('phase labels in training data')\n",
    "encoder.classes_"
   ],
   "metadata": {
    "collapsed": false,
    "ExecuteTime": {
     "end_time": "2023-11-12T17:32:12.837185300Z",
     "start_time": "2023-11-12T17:32:12.823175Z"
    }
   }
  },
  {
   "cell_type": "code",
   "execution_count": 95,
   "outputs": [],
   "source": [
    "from sklearn.model_selection import train_test_split\n",
    "\n",
    "# Split data into training, validation, and testing sets\n",
    "X_train, X_test, y_train, y_test = train_test_split(X_torch, y_torch, test_size=0.2, random_state=42)\n",
    "X_train, X_val, y_train, y_val = train_test_split(X_train, y_train, test_size=0.1, random_state=42)"
   ],
   "metadata": {
    "collapsed": false,
    "ExecuteTime": {
     "end_time": "2023-11-12T17:33:41.316320600Z",
     "start_time": "2023-11-12T17:33:41.272766500Z"
    }
   }
  },
  {
   "cell_type": "markdown",
   "source": [
    "#### Define LSTM Model Architecture"
   ],
   "metadata": {
    "collapsed": false
   }
  },
  {
   "cell_type": "code",
   "execution_count": 96,
   "outputs": [],
   "source": [
    "import torch.nn as nn\n",
    "\n",
    "# Define your LSTM model\n",
    "class LSTMModel(nn.Module):\n",
    "    def __init__(self, input_size, hidden_size, output_size):\n",
    "        super(LSTMModel, self).__init__()\n",
    "        self.lstm = nn.LSTM(input_size, hidden_size)\n",
    "        self.fc = nn.Linear(hidden_size, output_size)\n",
    "\n",
    "    def forward(self, x):\n",
    "        out, _ = self.lstm(x)\n",
    "        out = self.fc(out[:, -1, :])  # Take the output at the last time step\n",
    "        return out"
   ],
   "metadata": {
    "collapsed": false,
    "ExecuteTime": {
     "end_time": "2023-11-12T17:33:43.966123500Z",
     "start_time": "2023-11-12T17:33:43.954122300Z"
    }
   }
  },
  {
   "cell_type": "markdown",
   "source": [
    "#### Setup model with parameters"
   ],
   "metadata": {
    "collapsed": false
   }
  },
  {
   "cell_type": "code",
   "execution_count": 135,
   "outputs": [],
   "source": [
    "import torch.optim as optim\n",
    "from torch.utils.data import DataLoader, TensorDataset\n",
    "\n",
    "input_size = X_train.shape[2]\n",
    "hidden_size = 50\n",
    "output_size = len(encoder.classes_)\n",
    "learning_rate = 0.001\n",
    "\n",
    "model = LSTMModel(input_size, hidden_size, output_size).to(device)\n",
    "\n",
    "# Define loss function and optimizer\n",
    "criterion = nn.CrossEntropyLoss()\n",
    "optimizer = optim.Adam(model.parameters(), lr=learning_rate)\n",
    "\n",
    "# Convert data to DataLoader\n",
    "train_data = TensorDataset(X_train, y_train)\n",
    "train_loader = DataLoader(train_data, batch_size=32, shuffle=True)\n",
    "\n",
    "val_data = TensorDataset(X_val, y_val)\n",
    "val_loader = DataLoader(val_data, batch_size=32, shuffle=True)"
   ],
   "metadata": {
    "collapsed": false,
    "ExecuteTime": {
     "end_time": "2023-11-12T22:37:01.477000400Z",
     "start_time": "2023-11-12T22:37:01.447833300Z"
    }
   }
  },
  {
   "cell_type": "markdown",
   "source": [
    "#### Model Training"
   ],
   "metadata": {
    "collapsed": false
   }
  },
  {
   "cell_type": "code",
   "execution_count": 136,
   "outputs": [
    {
     "name": "stdout",
     "output_type": "stream",
     "text": [
      "Epoch [1/1000] - Loss: 1.7930, Accuracy: 50.50%\n",
      "Epoch [2/1000] - Loss: 1.0251, Accuracy: 80.67%\n",
      "Epoch [3/1000] - Loss: 0.6232, Accuracy: 84.96%\n",
      "Epoch [4/1000] - Loss: 0.4629, Accuracy: 88.35%\n",
      "Epoch [5/1000] - Loss: 0.3833, Accuracy: 89.34%\n",
      "Epoch [6/1000] - Loss: 0.3438, Accuracy: 90.11%\n",
      "Epoch [7/1000] - Loss: 0.3070, Accuracy: 90.51%\n",
      "Epoch [8/1000] - Loss: 0.2855, Accuracy: 90.97%\n",
      "Epoch [9/1000] - Loss: 0.2787, Accuracy: 90.97%\n",
      "Epoch [10/1000] - Loss: 0.2609, Accuracy: 91.37%\n",
      "Epoch [11/1000] - Loss: 0.2582, Accuracy: 91.01%\n",
      "Epoch [12/1000] - Loss: 0.2481, Accuracy: 91.06%\n",
      "Epoch [13/1000] - Loss: 0.2345, Accuracy: 91.73%\n",
      "Epoch [14/1000] - Loss: 0.2220, Accuracy: 92.23%\n",
      "Epoch [15/1000] - Loss: 0.2169, Accuracy: 92.14%\n",
      "Epoch [16/1000] - Loss: 0.2180, Accuracy: 91.96%\n",
      "Epoch [17/1000] - Loss: 0.2110, Accuracy: 92.41%\n",
      "Epoch [18/1000] - Loss: 0.2089, Accuracy: 92.64%\n",
      "Epoch [19/1000] - Loss: 0.2122, Accuracy: 91.92%\n",
      "Epoch [20/1000] - Loss: 0.1977, Accuracy: 92.82%\n",
      "Epoch [21/1000] - Loss: 0.1967, Accuracy: 92.73%\n",
      "Epoch [22/1000] - Loss: 0.1942, Accuracy: 92.37%\n",
      "Epoch [23/1000] - Loss: 0.1890, Accuracy: 92.95%\n",
      "Epoch [24/1000] - Loss: 0.1839, Accuracy: 92.95%\n",
      "Epoch [25/1000] - Loss: 0.1915, Accuracy: 92.68%\n",
      "Epoch [26/1000] - Loss: 0.1821, Accuracy: 92.95%\n",
      "Epoch [27/1000] - Loss: 0.1940, Accuracy: 92.23%\n",
      "Epoch [28/1000] - Loss: 0.1836, Accuracy: 92.73%\n",
      "Epoch [29/1000] - Loss: 0.1814, Accuracy: 93.00%\n",
      "Epoch [30/1000] - Loss: 0.1919, Accuracy: 92.59%\n",
      "Epoch [31/1000] - Loss: 0.1745, Accuracy: 93.63%\n",
      "Epoch [32/1000] - Loss: 0.1726, Accuracy: 93.18%\n",
      "Epoch [33/1000] - Loss: 0.1699, Accuracy: 93.41%\n",
      "Epoch [34/1000] - Loss: 0.1722, Accuracy: 92.95%\n",
      "Epoch [35/1000] - Loss: 0.1662, Accuracy: 92.95%\n",
      "Epoch [36/1000] - Loss: 0.1774, Accuracy: 92.95%\n",
      "Epoch [37/1000] - Loss: 0.1660, Accuracy: 93.32%\n",
      "Epoch [38/1000] - Loss: 0.1670, Accuracy: 93.09%\n",
      "Epoch [39/1000] - Loss: 0.1545, Accuracy: 93.59%\n",
      "Epoch [40/1000] - Loss: 0.1632, Accuracy: 93.50%\n",
      "Epoch [41/1000] - Loss: 0.1581, Accuracy: 93.59%\n",
      "Epoch [42/1000] - Loss: 0.1604, Accuracy: 93.36%\n",
      "Epoch [43/1000] - Loss: 0.1591, Accuracy: 93.22%\n",
      "Epoch [44/1000] - Loss: 0.1524, Accuracy: 93.77%\n",
      "Epoch [45/1000] - Loss: 0.1712, Accuracy: 92.91%\n",
      "Epoch [46/1000] - Loss: 0.1584, Accuracy: 93.45%\n",
      "Epoch [47/1000] - Loss: 0.1577, Accuracy: 93.72%\n",
      "Epoch [48/1000] - Loss: 0.1574, Accuracy: 93.41%\n",
      "Epoch [49/1000] - Loss: 0.1550, Accuracy: 93.86%\n",
      "Epoch [50/1000] - Loss: 0.1625, Accuracy: 93.09%\n",
      "Epoch [51/1000] - Loss: 0.1607, Accuracy: 93.27%\n",
      "Epoch [52/1000] - Loss: 0.1616, Accuracy: 93.22%\n",
      "Epoch [53/1000] - Loss: 0.1575, Accuracy: 93.18%\n",
      "Epoch [54/1000] - Loss: 0.1602, Accuracy: 93.18%\n",
      "Epoch [55/1000] - Loss: 0.1534, Accuracy: 93.41%\n",
      "Epoch [56/1000] - Loss: 0.1516, Accuracy: 93.45%\n",
      "Epoch [57/1000] - Loss: 0.1468, Accuracy: 93.50%\n",
      "Epoch [58/1000] - Loss: 0.1492, Accuracy: 93.59%\n",
      "Epoch [59/1000] - Loss: 0.1554, Accuracy: 93.27%\n",
      "Epoch [60/1000] - Loss: 0.1497, Accuracy: 93.68%\n",
      "Epoch [61/1000] - Loss: 0.1440, Accuracy: 93.54%\n",
      "Epoch [62/1000] - Loss: 0.1422, Accuracy: 94.17%\n",
      "Epoch [63/1000] - Loss: 0.1396, Accuracy: 94.08%\n",
      "Epoch [64/1000] - Loss: 0.1482, Accuracy: 93.81%\n",
      "Epoch [65/1000] - Loss: 0.1460, Accuracy: 93.81%\n",
      "Epoch [66/1000] - Loss: 0.1497, Accuracy: 93.95%\n",
      "Epoch [67/1000] - Loss: 0.1480, Accuracy: 93.99%\n",
      "Epoch [68/1000] - Loss: 0.1504, Accuracy: 93.54%\n",
      "Epoch [69/1000] - Loss: 0.1482, Accuracy: 93.63%\n",
      "Epoch [70/1000] - Loss: 0.1406, Accuracy: 93.99%\n",
      "Epoch [71/1000] - Loss: 0.1473, Accuracy: 93.54%\n",
      "Epoch [72/1000] - Loss: 0.1400, Accuracy: 94.08%\n",
      "Epoch [73/1000] - Loss: 0.1500, Accuracy: 93.86%\n",
      "Epoch [74/1000] - Loss: 0.1479, Accuracy: 93.77%\n",
      "Epoch [75/1000] - Loss: 0.1513, Accuracy: 93.63%\n",
      "Epoch [76/1000] - Loss: 0.1398, Accuracy: 93.99%\n",
      "Epoch [77/1000] - Loss: 0.1474, Accuracy: 93.59%\n",
      "Epoch [78/1000] - Loss: 0.1441, Accuracy: 93.81%\n",
      "Epoch [79/1000] - Loss: 0.1376, Accuracy: 94.17%\n",
      "Epoch [80/1000] - Loss: 0.1462, Accuracy: 93.81%\n",
      "Epoch [81/1000] - Loss: 0.1528, Accuracy: 93.27%\n",
      "Epoch [82/1000] - Loss: 0.1508, Accuracy: 93.68%\n",
      "Epoch [83/1000] - Loss: 0.1467, Accuracy: 94.04%\n",
      "Epoch [84/1000] - Loss: 0.1404, Accuracy: 94.04%\n",
      "Epoch [85/1000] - Loss: 0.1370, Accuracy: 94.13%\n",
      "Epoch [86/1000] - Loss: 0.1416, Accuracy: 93.95%\n",
      "Epoch [87/1000] - Loss: 0.1524, Accuracy: 93.41%\n",
      "Epoch [88/1000] - Loss: 0.1364, Accuracy: 94.49%\n",
      "Epoch [89/1000] - Loss: 0.1408, Accuracy: 94.22%\n",
      "Epoch [90/1000] - Loss: 0.1382, Accuracy: 94.31%\n",
      "Epoch [91/1000] - Loss: 0.1415, Accuracy: 94.26%\n",
      "Epoch [92/1000] - Loss: 0.1446, Accuracy: 93.59%\n",
      "Epoch [93/1000] - Loss: 0.1451, Accuracy: 93.59%\n",
      "Epoch [94/1000] - Loss: 0.1477, Accuracy: 93.90%\n",
      "Epoch [95/1000] - Loss: 0.1444, Accuracy: 93.90%\n",
      "Epoch [96/1000] - Loss: 0.1422, Accuracy: 94.26%\n",
      "Epoch [97/1000] - Loss: 0.1378, Accuracy: 94.08%\n",
      "Epoch [98/1000] - Loss: 0.1381, Accuracy: 93.99%\n",
      "Epoch [99/1000] - Loss: 0.1331, Accuracy: 94.31%\n",
      "Epoch [100/1000] - Loss: 0.1346, Accuracy: 93.77%\n",
      "Epoch [101/1000] - Loss: 0.1358, Accuracy: 94.22%\n",
      "Epoch [102/1000] - Loss: 0.1383, Accuracy: 93.86%\n",
      "Epoch [103/1000] - Loss: 0.1388, Accuracy: 94.26%\n",
      "Epoch [104/1000] - Loss: 0.1385, Accuracy: 93.99%\n",
      "Epoch [105/1000] - Loss: 0.1320, Accuracy: 94.44%\n",
      "Epoch [106/1000] - Loss: 0.1376, Accuracy: 93.81%\n",
      "Epoch [107/1000] - Loss: 0.1364, Accuracy: 93.99%\n",
      "Epoch [108/1000] - Loss: 0.1406, Accuracy: 93.59%\n",
      "Epoch [109/1000] - Loss: 0.1471, Accuracy: 93.99%\n",
      "Epoch [110/1000] - Loss: 0.1372, Accuracy: 94.04%\n",
      "Epoch [111/1000] - Loss: 0.1482, Accuracy: 93.68%\n",
      "Epoch [112/1000] - Loss: 0.1333, Accuracy: 94.22%\n",
      "Epoch [113/1000] - Loss: 0.1373, Accuracy: 93.77%\n",
      "Epoch [114/1000] - Loss: 0.1302, Accuracy: 94.31%\n",
      "Epoch [115/1000] - Loss: 0.1371, Accuracy: 94.04%\n",
      "Epoch [116/1000] - Loss: 0.1371, Accuracy: 93.90%\n",
      "Epoch [117/1000] - Loss: 0.1413, Accuracy: 93.63%\n",
      "Epoch [118/1000] - Loss: 0.1431, Accuracy: 93.86%\n",
      "Epoch [119/1000] - Loss: 0.1438, Accuracy: 93.68%\n",
      "Epoch [120/1000] - Loss: 0.1382, Accuracy: 93.86%\n",
      "Epoch [121/1000] - Loss: 0.1302, Accuracy: 94.22%\n",
      "Epoch [122/1000] - Loss: 0.1446, Accuracy: 94.31%\n",
      "Epoch [123/1000] - Loss: 0.1402, Accuracy: 93.95%\n",
      "Epoch [124/1000] - Loss: 0.1446, Accuracy: 93.50%\n",
      "Epoch [125/1000] - Loss: 0.1278, Accuracy: 94.35%\n",
      "Epoch [126/1000] - Loss: 0.1372, Accuracy: 93.77%\n",
      "Epoch [127/1000] - Loss: 0.1382, Accuracy: 93.86%\n",
      "Epoch [128/1000] - Loss: 0.1331, Accuracy: 93.95%\n",
      "Epoch [129/1000] - Loss: 0.1277, Accuracy: 94.08%\n",
      "Epoch [130/1000] - Loss: 0.1341, Accuracy: 94.26%\n",
      "Epoch [131/1000] - Loss: 0.1272, Accuracy: 94.49%\n",
      "Epoch [132/1000] - Loss: 0.1297, Accuracy: 94.13%\n",
      "Epoch [133/1000] - Loss: 0.1233, Accuracy: 94.76%\n",
      "Epoch [134/1000] - Loss: 0.1304, Accuracy: 93.77%\n",
      "Epoch [135/1000] - Loss: 0.1360, Accuracy: 94.08%\n",
      "Epoch [136/1000] - Loss: 0.1366, Accuracy: 93.50%\n",
      "Epoch [137/1000] - Loss: 0.1314, Accuracy: 94.22%\n",
      "Epoch [138/1000] - Loss: 0.1332, Accuracy: 94.31%\n",
      "Epoch [139/1000] - Loss: 0.1230, Accuracy: 94.49%\n",
      "Epoch [140/1000] - Loss: 0.1306, Accuracy: 93.90%\n",
      "Epoch [141/1000] - Loss: 0.1456, Accuracy: 93.72%\n",
      "Epoch [142/1000] - Loss: 0.1371, Accuracy: 93.99%\n",
      "Epoch [143/1000] - Loss: 0.1360, Accuracy: 94.08%\n",
      "Epoch [144/1000] - Loss: 0.1247, Accuracy: 94.49%\n",
      "Epoch [145/1000] - Loss: 0.1359, Accuracy: 94.13%\n",
      "Epoch [146/1000] - Loss: 0.1275, Accuracy: 94.08%\n",
      "Epoch [147/1000] - Loss: 0.1309, Accuracy: 94.13%\n",
      "Epoch [148/1000] - Loss: 0.1287, Accuracy: 94.04%\n",
      "Epoch [149/1000] - Loss: 0.1329, Accuracy: 93.95%\n",
      "Epoch [150/1000] - Loss: 0.1324, Accuracy: 94.17%\n",
      "Epoch [151/1000] - Loss: 0.1310, Accuracy: 93.86%\n",
      "Epoch [152/1000] - Loss: 0.1315, Accuracy: 94.08%\n",
      "Epoch [153/1000] - Loss: 0.1234, Accuracy: 94.26%\n",
      "Epoch [154/1000] - Loss: 0.1361, Accuracy: 94.08%\n",
      "Epoch [155/1000] - Loss: 0.1315, Accuracy: 94.13%\n",
      "Epoch [156/1000] - Loss: 0.1287, Accuracy: 93.54%\n",
      "Epoch [157/1000] - Loss: 0.1314, Accuracy: 93.77%\n",
      "Epoch [158/1000] - Loss: 0.1361, Accuracy: 93.72%\n",
      "Epoch [159/1000] - Loss: 0.1365, Accuracy: 94.04%\n",
      "Epoch [160/1000] - Loss: 0.1241, Accuracy: 94.44%\n",
      "Epoch [161/1000] - Loss: 0.1525, Accuracy: 93.50%\n",
      "Epoch [162/1000] - Loss: 0.1363, Accuracy: 94.13%\n",
      "Epoch [163/1000] - Loss: 0.1420, Accuracy: 93.86%\n",
      "Epoch [164/1000] - Loss: 0.1376, Accuracy: 94.13%\n",
      "Epoch [165/1000] - Loss: 0.1298, Accuracy: 94.35%\n",
      "Epoch [166/1000] - Loss: 0.1417, Accuracy: 93.59%\n",
      "Epoch [167/1000] - Loss: 0.1419, Accuracy: 93.68%\n",
      "Epoch [168/1000] - Loss: 0.1308, Accuracy: 93.99%\n",
      "Epoch [169/1000] - Loss: 0.1236, Accuracy: 94.49%\n",
      "Epoch [170/1000] - Loss: 0.1271, Accuracy: 94.31%\n",
      "Epoch [171/1000] - Loss: 0.1344, Accuracy: 93.99%\n",
      "Epoch [172/1000] - Loss: 0.1343, Accuracy: 93.95%\n",
      "Epoch [173/1000] - Loss: 0.1353, Accuracy: 94.08%\n",
      "Epoch [174/1000] - Loss: 0.1244, Accuracy: 94.08%\n",
      "Epoch [175/1000] - Loss: 0.1390, Accuracy: 93.99%\n",
      "Epoch [176/1000] - Loss: 0.1289, Accuracy: 94.35%\n",
      "Epoch [177/1000] - Loss: 0.1255, Accuracy: 94.31%\n",
      "Epoch [178/1000] - Loss: 0.1242, Accuracy: 94.26%\n",
      "Epoch [179/1000] - Loss: 0.1184, Accuracy: 94.26%\n",
      "Epoch [180/1000] - Loss: 0.1178, Accuracy: 94.58%\n",
      "Epoch [181/1000] - Loss: 0.1208, Accuracy: 94.72%\n",
      "Epoch [182/1000] - Loss: 0.1261, Accuracy: 94.08%\n",
      "Epoch [183/1000] - Loss: 0.1234, Accuracy: 94.26%\n",
      "Epoch [184/1000] - Loss: 0.1246, Accuracy: 94.35%\n",
      "Epoch [185/1000] - Loss: 0.1269, Accuracy: 94.26%\n",
      "Epoch [186/1000] - Loss: 0.1234, Accuracy: 94.31%\n",
      "Epoch [187/1000] - Loss: 0.1274, Accuracy: 94.31%\n",
      "Epoch [188/1000] - Loss: 0.1389, Accuracy: 93.86%\n",
      "Epoch [189/1000] - Loss: 0.1291, Accuracy: 93.81%\n",
      "Epoch [190/1000] - Loss: 0.1311, Accuracy: 94.26%\n",
      "Epoch [191/1000] - Loss: 0.1240, Accuracy: 94.17%\n",
      "Epoch [192/1000] - Loss: 0.1363, Accuracy: 93.72%\n",
      "Epoch [193/1000] - Loss: 0.1267, Accuracy: 94.22%\n",
      "Epoch [194/1000] - Loss: 0.1242, Accuracy: 94.17%\n",
      "Epoch [195/1000] - Loss: 0.1314, Accuracy: 93.99%\n",
      "Epoch [196/1000] - Loss: 0.1282, Accuracy: 93.90%\n",
      "Epoch [197/1000] - Loss: 0.1231, Accuracy: 94.35%\n",
      "Epoch [198/1000] - Loss: 0.1234, Accuracy: 94.17%\n",
      "Epoch [199/1000] - Loss: 0.1198, Accuracy: 94.26%\n",
      "Epoch [200/1000] - Loss: 0.1223, Accuracy: 94.49%\n",
      "Epoch [201/1000] - Loss: 0.1177, Accuracy: 94.17%\n",
      "Epoch [202/1000] - Loss: 0.1264, Accuracy: 94.04%\n",
      "Epoch [203/1000] - Loss: 0.1306, Accuracy: 93.95%\n",
      "Epoch [204/1000] - Loss: 0.1300, Accuracy: 94.04%\n",
      "Epoch [205/1000] - Loss: 0.1324, Accuracy: 93.77%\n",
      "Epoch [206/1000] - Loss: 0.1301, Accuracy: 94.44%\n",
      "Epoch [207/1000] - Loss: 0.1194, Accuracy: 94.31%\n",
      "Epoch [208/1000] - Loss: 0.1313, Accuracy: 94.04%\n",
      "Epoch [209/1000] - Loss: 0.1304, Accuracy: 93.95%\n",
      "Epoch [210/1000] - Loss: 0.1356, Accuracy: 93.63%\n",
      "Epoch [211/1000] - Loss: 0.1251, Accuracy: 94.35%\n",
      "Epoch [212/1000] - Loss: 0.1334, Accuracy: 93.77%\n",
      "Epoch [213/1000] - Loss: 0.1235, Accuracy: 94.26%\n",
      "Epoch [214/1000] - Loss: 0.1190, Accuracy: 94.53%\n",
      "Epoch [215/1000] - Loss: 0.1249, Accuracy: 93.86%\n",
      "Epoch [216/1000] - Loss: 0.1292, Accuracy: 93.99%\n",
      "Epoch [217/1000] - Loss: 0.1325, Accuracy: 93.99%\n",
      "Epoch [218/1000] - Loss: 0.1362, Accuracy: 93.36%\n",
      "Epoch [219/1000] - Loss: 0.1254, Accuracy: 94.26%\n",
      "Epoch [220/1000] - Loss: 0.1447, Accuracy: 93.77%\n",
      "Epoch [221/1000] - Loss: 0.1177, Accuracy: 94.31%\n",
      "Epoch [222/1000] - Loss: 0.1239, Accuracy: 94.58%\n",
      "Epoch [223/1000] - Loss: 0.1210, Accuracy: 94.22%\n",
      "Epoch [224/1000] - Loss: 0.1153, Accuracy: 94.67%\n",
      "Epoch [225/1000] - Loss: 0.1270, Accuracy: 94.08%\n",
      "Epoch [226/1000] - Loss: 0.1184, Accuracy: 94.53%\n",
      "Epoch [227/1000] - Loss: 0.1238, Accuracy: 94.35%\n",
      "Epoch [228/1000] - Loss: 0.1300, Accuracy: 94.17%\n",
      "Epoch [229/1000] - Loss: 0.1342, Accuracy: 94.13%\n",
      "Epoch [230/1000] - Loss: 0.1228, Accuracy: 94.40%\n",
      "Epoch [231/1000] - Loss: 0.1172, Accuracy: 94.81%\n",
      "Epoch [232/1000] - Loss: 0.1327, Accuracy: 93.77%\n",
      "Epoch [233/1000] - Loss: 0.1158, Accuracy: 94.44%\n",
      "Epoch [234/1000] - Loss: 0.1202, Accuracy: 94.67%\n",
      "Epoch [235/1000] - Loss: 0.1206, Accuracy: 94.49%\n",
      "Epoch [236/1000] - Loss: 0.1173, Accuracy: 94.40%\n",
      "Epoch [237/1000] - Loss: 0.1154, Accuracy: 94.63%\n",
      "Epoch [238/1000] - Loss: 0.1214, Accuracy: 94.40%\n",
      "Epoch [239/1000] - Loss: 0.1194, Accuracy: 94.63%\n",
      "Epoch [240/1000] - Loss: 0.1269, Accuracy: 93.72%\n",
      "Epoch [241/1000] - Loss: 0.1137, Accuracy: 94.90%\n",
      "Epoch [242/1000] - Loss: 0.1147, Accuracy: 94.53%\n",
      "Epoch [243/1000] - Loss: 0.1254, Accuracy: 94.08%\n",
      "Epoch [244/1000] - Loss: 0.1195, Accuracy: 94.40%\n",
      "Epoch [245/1000] - Loss: 0.1314, Accuracy: 94.13%\n",
      "Epoch [246/1000] - Loss: 0.1267, Accuracy: 93.81%\n",
      "Epoch [247/1000] - Loss: 0.1196, Accuracy: 94.76%\n",
      "Epoch [248/1000] - Loss: 0.1336, Accuracy: 94.13%\n",
      "Epoch [249/1000] - Loss: 0.1360, Accuracy: 93.77%\n",
      "Epoch [250/1000] - Loss: 0.1182, Accuracy: 94.35%\n",
      "Epoch [251/1000] - Loss: 0.1238, Accuracy: 94.08%\n",
      "Epoch [252/1000] - Loss: 0.1151, Accuracy: 94.49%\n",
      "Epoch [253/1000] - Loss: 0.1210, Accuracy: 94.31%\n",
      "Epoch [254/1000] - Loss: 0.1103, Accuracy: 94.76%\n",
      "Epoch [255/1000] - Loss: 0.1216, Accuracy: 94.31%\n",
      "Epoch [256/1000] - Loss: 0.1379, Accuracy: 93.81%\n",
      "Epoch [257/1000] - Loss: 0.1331, Accuracy: 93.86%\n",
      "Epoch [258/1000] - Loss: 0.1225, Accuracy: 94.13%\n",
      "Epoch [259/1000] - Loss: 0.1197, Accuracy: 94.35%\n",
      "Epoch [260/1000] - Loss: 0.1177, Accuracy: 94.31%\n",
      "Epoch [261/1000] - Loss: 0.1122, Accuracy: 94.49%\n",
      "Epoch [262/1000] - Loss: 0.1149, Accuracy: 94.67%\n",
      "Epoch [263/1000] - Loss: 0.1268, Accuracy: 93.77%\n",
      "Epoch [264/1000] - Loss: 0.1139, Accuracy: 94.49%\n",
      "Epoch [265/1000] - Loss: 0.1263, Accuracy: 93.99%\n",
      "Epoch [266/1000] - Loss: 0.1278, Accuracy: 94.04%\n",
      "Epoch [267/1000] - Loss: 0.1279, Accuracy: 94.13%\n",
      "Epoch [268/1000] - Loss: 0.1299, Accuracy: 93.59%\n",
      "Epoch [269/1000] - Loss: 0.1294, Accuracy: 93.95%\n",
      "Epoch [270/1000] - Loss: 0.1313, Accuracy: 93.81%\n",
      "Epoch [271/1000] - Loss: 0.1241, Accuracy: 94.35%\n",
      "Epoch [272/1000] - Loss: 0.1286, Accuracy: 94.22%\n",
      "Epoch [273/1000] - Loss: 0.1128, Accuracy: 94.76%\n",
      "Epoch [274/1000] - Loss: 0.1222, Accuracy: 94.04%\n",
      "Epoch [275/1000] - Loss: 0.1153, Accuracy: 93.99%\n",
      "Epoch [276/1000] - Loss: 0.1108, Accuracy: 94.72%\n",
      "Epoch [277/1000] - Loss: 0.1201, Accuracy: 94.13%\n",
      "Epoch [278/1000] - Loss: 0.1149, Accuracy: 94.63%\n",
      "Epoch [279/1000] - Loss: 0.1263, Accuracy: 93.50%\n",
      "Epoch [280/1000] - Loss: 0.1283, Accuracy: 94.08%\n",
      "Epoch [281/1000] - Loss: 0.1198, Accuracy: 94.35%\n",
      "Epoch [282/1000] - Loss: 0.1206, Accuracy: 94.26%\n",
      "Epoch [283/1000] - Loss: 0.1413, Accuracy: 93.45%\n",
      "Epoch [284/1000] - Loss: 0.1229, Accuracy: 93.99%\n",
      "Epoch [285/1000] - Loss: 0.1349, Accuracy: 93.54%\n",
      "Epoch [286/1000] - Loss: 0.1269, Accuracy: 93.86%\n",
      "Epoch [287/1000] - Loss: 0.1374, Accuracy: 93.77%\n",
      "Epoch [288/1000] - Loss: 0.1301, Accuracy: 94.44%\n",
      "Epoch [289/1000] - Loss: 0.1084, Accuracy: 94.81%\n",
      "Epoch [290/1000] - Loss: 0.1131, Accuracy: 94.49%\n",
      "Epoch [291/1000] - Loss: 0.1204, Accuracy: 94.22%\n",
      "Epoch [292/1000] - Loss: 0.1235, Accuracy: 94.22%\n",
      "Epoch [293/1000] - Loss: 0.1156, Accuracy: 94.44%\n",
      "Epoch [294/1000] - Loss: 0.1237, Accuracy: 94.31%\n",
      "Epoch [295/1000] - Loss: 0.1201, Accuracy: 94.26%\n",
      "Epoch [296/1000] - Loss: 0.1176, Accuracy: 94.40%\n",
      "Epoch [297/1000] - Loss: 0.1197, Accuracy: 94.26%\n",
      "Epoch [298/1000] - Loss: 0.1183, Accuracy: 94.40%\n",
      "Epoch [299/1000] - Loss: 0.1312, Accuracy: 93.77%\n",
      "Epoch [300/1000] - Loss: 0.1181, Accuracy: 94.31%\n",
      "Epoch [301/1000] - Loss: 0.1196, Accuracy: 94.22%\n",
      "Epoch [302/1000] - Loss: 0.1328, Accuracy: 93.86%\n",
      "Epoch [303/1000] - Loss: 0.1233, Accuracy: 94.17%\n",
      "Epoch [304/1000] - Loss: 0.1201, Accuracy: 94.40%\n",
      "Epoch [305/1000] - Loss: 0.1322, Accuracy: 93.90%\n",
      "Epoch [306/1000] - Loss: 0.1119, Accuracy: 94.72%\n",
      "Epoch [307/1000] - Loss: 0.1237, Accuracy: 94.40%\n",
      "Epoch [308/1000] - Loss: 0.1141, Accuracy: 94.63%\n",
      "Epoch [309/1000] - Loss: 0.1141, Accuracy: 94.08%\n",
      "Epoch [310/1000] - Loss: 0.1117, Accuracy: 94.13%\n",
      "Epoch [311/1000] - Loss: 0.1252, Accuracy: 94.44%\n",
      "Epoch [312/1000] - Loss: 0.1212, Accuracy: 94.35%\n",
      "Epoch [313/1000] - Loss: 0.1200, Accuracy: 94.26%\n",
      "Epoch [314/1000] - Loss: 0.1138, Accuracy: 94.81%\n",
      "Epoch [315/1000] - Loss: 0.1095, Accuracy: 95.03%\n",
      "Epoch [316/1000] - Loss: 0.1222, Accuracy: 94.08%\n",
      "Epoch [317/1000] - Loss: 0.1140, Accuracy: 94.58%\n",
      "Epoch [318/1000] - Loss: 0.1269, Accuracy: 93.99%\n",
      "Epoch [319/1000] - Loss: 0.1214, Accuracy: 94.17%\n",
      "Epoch [320/1000] - Loss: 0.1152, Accuracy: 94.49%\n",
      "Epoch [321/1000] - Loss: 0.1287, Accuracy: 93.90%\n",
      "Epoch [322/1000] - Loss: 0.1304, Accuracy: 94.49%\n",
      "Epoch [323/1000] - Loss: 0.1260, Accuracy: 93.86%\n",
      "Epoch [324/1000] - Loss: 0.1210, Accuracy: 94.22%\n",
      "Epoch [325/1000] - Loss: 0.1165, Accuracy: 94.31%\n",
      "Epoch [326/1000] - Loss: 0.1188, Accuracy: 94.13%\n",
      "Epoch [327/1000] - Loss: 0.1074, Accuracy: 94.49%\n",
      "Epoch [328/1000] - Loss: 0.1174, Accuracy: 94.31%\n",
      "Epoch [329/1000] - Loss: 0.1237, Accuracy: 94.17%\n",
      "Epoch [330/1000] - Loss: 0.1255, Accuracy: 94.35%\n",
      "Epoch [331/1000] - Loss: 0.1309, Accuracy: 93.77%\n",
      "Epoch [332/1000] - Loss: 0.1185, Accuracy: 94.40%\n",
      "Epoch [333/1000] - Loss: 0.1159, Accuracy: 94.58%\n",
      "Epoch [334/1000] - Loss: 0.1225, Accuracy: 94.04%\n",
      "Epoch [335/1000] - Loss: 0.1233, Accuracy: 94.22%\n",
      "Epoch [336/1000] - Loss: 0.1201, Accuracy: 94.31%\n",
      "Epoch [337/1000] - Loss: 0.1260, Accuracy: 94.22%\n",
      "Epoch [338/1000] - Loss: 0.1158, Accuracy: 94.67%\n",
      "Epoch [339/1000] - Loss: 0.1335, Accuracy: 93.86%\n",
      "Epoch [340/1000] - Loss: 0.1226, Accuracy: 94.35%\n",
      "Epoch [341/1000] - Loss: 0.1310, Accuracy: 93.90%\n",
      "Epoch [342/1000] - Loss: 0.1328, Accuracy: 93.45%\n",
      "Epoch [343/1000] - Loss: 0.1322, Accuracy: 93.81%\n",
      "Epoch [344/1000] - Loss: 0.1156, Accuracy: 94.08%\n",
      "Epoch [345/1000] - Loss: 0.1136, Accuracy: 94.53%\n",
      "Epoch [346/1000] - Loss: 0.1271, Accuracy: 93.90%\n",
      "Epoch [347/1000] - Loss: 0.1244, Accuracy: 94.13%\n",
      "Epoch [348/1000] - Loss: 0.1222, Accuracy: 94.04%\n",
      "Epoch [349/1000] - Loss: 0.1198, Accuracy: 94.17%\n",
      "Epoch [350/1000] - Loss: 0.1227, Accuracy: 94.08%\n",
      "Epoch [351/1000] - Loss: 0.1128, Accuracy: 94.72%\n",
      "Epoch [352/1000] - Loss: 0.1238, Accuracy: 94.13%\n",
      "Epoch [353/1000] - Loss: 0.1230, Accuracy: 94.08%\n",
      "Epoch [354/1000] - Loss: 0.1237, Accuracy: 93.95%\n",
      "Epoch [355/1000] - Loss: 0.1265, Accuracy: 93.95%\n",
      "Epoch [356/1000] - Loss: 0.1218, Accuracy: 94.22%\n",
      "Epoch [357/1000] - Loss: 0.1206, Accuracy: 94.08%\n",
      "Epoch [358/1000] - Loss: 0.1159, Accuracy: 94.63%\n",
      "Epoch [359/1000] - Loss: 0.1121, Accuracy: 94.76%\n",
      "Epoch [360/1000] - Loss: 0.1109, Accuracy: 94.58%\n",
      "Epoch [361/1000] - Loss: 0.1196, Accuracy: 94.17%\n",
      "Epoch [362/1000] - Loss: 0.1177, Accuracy: 94.31%\n",
      "Epoch [363/1000] - Loss: 0.1152, Accuracy: 94.67%\n",
      "Epoch [364/1000] - Loss: 0.1213, Accuracy: 94.17%\n",
      "Epoch [365/1000] - Loss: 0.1128, Accuracy: 94.44%\n",
      "Epoch [366/1000] - Loss: 0.1180, Accuracy: 94.35%\n",
      "Epoch [367/1000] - Loss: 0.1133, Accuracy: 94.31%\n",
      "Epoch [368/1000] - Loss: 0.1138, Accuracy: 94.58%\n",
      "Epoch [369/1000] - Loss: 0.1206, Accuracy: 93.81%\n",
      "Epoch [370/1000] - Loss: 0.1193, Accuracy: 94.13%\n",
      "Epoch [371/1000] - Loss: 0.1170, Accuracy: 94.31%\n",
      "Epoch [372/1000] - Loss: 0.1335, Accuracy: 94.13%\n",
      "Epoch [373/1000] - Loss: 0.1226, Accuracy: 94.04%\n",
      "Epoch [374/1000] - Loss: 0.1092, Accuracy: 94.58%\n",
      "Epoch [375/1000] - Loss: 0.1030, Accuracy: 94.90%\n",
      "Epoch [376/1000] - Loss: 0.1084, Accuracy: 94.67%\n",
      "Epoch [377/1000] - Loss: 0.1226, Accuracy: 94.04%\n",
      "Epoch [378/1000] - Loss: 0.1125, Accuracy: 94.49%\n",
      "Epoch [379/1000] - Loss: 0.1115, Accuracy: 94.31%\n",
      "Epoch [380/1000] - Loss: 0.1125, Accuracy: 94.58%\n",
      "Epoch [381/1000] - Loss: 0.1120, Accuracy: 94.26%\n",
      "Epoch [382/1000] - Loss: 0.1160, Accuracy: 94.35%\n",
      "Epoch [383/1000] - Loss: 0.1149, Accuracy: 94.31%\n",
      "Epoch [384/1000] - Loss: 0.1144, Accuracy: 94.40%\n",
      "Epoch [385/1000] - Loss: 0.1073, Accuracy: 94.63%\n",
      "Epoch [386/1000] - Loss: 0.1167, Accuracy: 94.26%\n",
      "Epoch [387/1000] - Loss: 0.1113, Accuracy: 94.49%\n",
      "Epoch [388/1000] - Loss: 0.1170, Accuracy: 94.22%\n",
      "Epoch [389/1000] - Loss: 0.1302, Accuracy: 93.63%\n",
      "Epoch [390/1000] - Loss: 0.1109, Accuracy: 94.72%\n",
      "Epoch [391/1000] - Loss: 0.1037, Accuracy: 94.67%\n",
      "Epoch [392/1000] - Loss: 0.1127, Accuracy: 94.13%\n",
      "Epoch [393/1000] - Loss: 0.1154, Accuracy: 94.08%\n",
      "Epoch [394/1000] - Loss: 0.1138, Accuracy: 94.26%\n",
      "Epoch [395/1000] - Loss: 0.1149, Accuracy: 94.17%\n",
      "Epoch [396/1000] - Loss: 0.1053, Accuracy: 94.63%\n",
      "Epoch [397/1000] - Loss: 0.1152, Accuracy: 94.53%\n",
      "Epoch [398/1000] - Loss: 0.1129, Accuracy: 94.53%\n",
      "Epoch [399/1000] - Loss: 0.1129, Accuracy: 94.40%\n",
      "Epoch [400/1000] - Loss: 0.1128, Accuracy: 94.44%\n",
      "Epoch [401/1000] - Loss: 0.1041, Accuracy: 94.85%\n",
      "Epoch [402/1000] - Loss: 0.1112, Accuracy: 94.72%\n",
      "Epoch [403/1000] - Loss: 0.1189, Accuracy: 94.58%\n",
      "Epoch [404/1000] - Loss: 0.1147, Accuracy: 94.08%\n",
      "Epoch [405/1000] - Loss: 0.1075, Accuracy: 94.81%\n",
      "Epoch [406/1000] - Loss: 0.1097, Accuracy: 94.81%\n",
      "Epoch [407/1000] - Loss: 0.1069, Accuracy: 94.76%\n",
      "Epoch [408/1000] - Loss: 0.0978, Accuracy: 95.30%\n",
      "Epoch [409/1000] - Loss: 0.1145, Accuracy: 94.40%\n",
      "Epoch [410/1000] - Loss: 0.1095, Accuracy: 94.72%\n",
      "Epoch [411/1000] - Loss: 0.1073, Accuracy: 94.72%\n",
      "Epoch [412/1000] - Loss: 0.1110, Accuracy: 94.40%\n",
      "Epoch [413/1000] - Loss: 0.1039, Accuracy: 94.76%\n",
      "Epoch [414/1000] - Loss: 0.1120, Accuracy: 94.35%\n",
      "Epoch [415/1000] - Loss: 0.1153, Accuracy: 94.35%\n",
      "Epoch [416/1000] - Loss: 0.1157, Accuracy: 94.58%\n",
      "Epoch [417/1000] - Loss: 0.1132, Accuracy: 94.53%\n",
      "Epoch [418/1000] - Loss: 0.1259, Accuracy: 94.17%\n",
      "Epoch [419/1000] - Loss: 0.1186, Accuracy: 94.17%\n",
      "Epoch [420/1000] - Loss: 0.1095, Accuracy: 94.67%\n",
      "Epoch [421/1000] - Loss: 0.1138, Accuracy: 94.26%\n",
      "Epoch [422/1000] - Loss: 0.1106, Accuracy: 94.58%\n",
      "Epoch [423/1000] - Loss: 0.1087, Accuracy: 94.31%\n",
      "Epoch [424/1000] - Loss: 0.1159, Accuracy: 94.53%\n",
      "Epoch [425/1000] - Loss: 0.1112, Accuracy: 94.72%\n",
      "Epoch [426/1000] - Loss: 0.1157, Accuracy: 94.31%\n",
      "Epoch [427/1000] - Loss: 0.1102, Accuracy: 94.26%\n",
      "Epoch [428/1000] - Loss: 0.1068, Accuracy: 94.58%\n",
      "Epoch [429/1000] - Loss: 0.1122, Accuracy: 94.49%\n",
      "Epoch [430/1000] - Loss: 0.1122, Accuracy: 94.67%\n",
      "Epoch [431/1000] - Loss: 0.1169, Accuracy: 94.08%\n",
      "Epoch [432/1000] - Loss: 0.1173, Accuracy: 93.95%\n",
      "Epoch [433/1000] - Loss: 0.1184, Accuracy: 93.72%\n",
      "Epoch [434/1000] - Loss: 0.1078, Accuracy: 94.72%\n",
      "Epoch [435/1000] - Loss: 0.1069, Accuracy: 94.35%\n",
      "Epoch [436/1000] - Loss: 0.1133, Accuracy: 94.40%\n",
      "Epoch [437/1000] - Loss: 0.1182, Accuracy: 94.49%\n",
      "Epoch [438/1000] - Loss: 0.1060, Accuracy: 94.94%\n",
      "Epoch [439/1000] - Loss: 0.1049, Accuracy: 94.81%\n",
      "Epoch [440/1000] - Loss: 0.1048, Accuracy: 94.85%\n",
      "Epoch [441/1000] - Loss: 0.1116, Accuracy: 94.72%\n",
      "Epoch [442/1000] - Loss: 0.1295, Accuracy: 94.35%\n",
      "Epoch [443/1000] - Loss: 0.1138, Accuracy: 94.40%\n",
      "Epoch [444/1000] - Loss: 0.1060, Accuracy: 94.63%\n",
      "Epoch [445/1000] - Loss: 0.1062, Accuracy: 94.35%\n",
      "Epoch [446/1000] - Loss: 0.1042, Accuracy: 94.67%\n",
      "Epoch [447/1000] - Loss: 0.1111, Accuracy: 94.58%\n",
      "Epoch [448/1000] - Loss: 0.1233, Accuracy: 93.86%\n",
      "Epoch [449/1000] - Loss: 0.1105, Accuracy: 94.58%\n",
      "Epoch [450/1000] - Loss: 0.1198, Accuracy: 93.95%\n",
      "Epoch [451/1000] - Loss: 0.1241, Accuracy: 93.90%\n",
      "Epoch [452/1000] - Loss: 0.1234, Accuracy: 94.17%\n",
      "Epoch [453/1000] - Loss: 0.1235, Accuracy: 94.04%\n",
      "Epoch [454/1000] - Loss: 0.1277, Accuracy: 93.63%\n",
      "Epoch [455/1000] - Loss: 0.1158, Accuracy: 94.53%\n",
      "Epoch [456/1000] - Loss: 0.1134, Accuracy: 94.13%\n",
      "Epoch [457/1000] - Loss: 0.1071, Accuracy: 94.85%\n",
      "Epoch [458/1000] - Loss: 0.1135, Accuracy: 94.22%\n",
      "Epoch [459/1000] - Loss: 0.1123, Accuracy: 94.49%\n",
      "Epoch [460/1000] - Loss: 0.1243, Accuracy: 93.63%\n",
      "Epoch [461/1000] - Loss: 0.1069, Accuracy: 94.72%\n",
      "Epoch [462/1000] - Loss: 0.1148, Accuracy: 94.49%\n",
      "Epoch [463/1000] - Loss: 0.1185, Accuracy: 94.26%\n",
      "Epoch [464/1000] - Loss: 0.1110, Accuracy: 94.22%\n",
      "Epoch [465/1000] - Loss: 0.1059, Accuracy: 94.76%\n",
      "Epoch [466/1000] - Loss: 0.1127, Accuracy: 94.40%\n",
      "Epoch [467/1000] - Loss: 0.1112, Accuracy: 94.53%\n",
      "Epoch [468/1000] - Loss: 0.1056, Accuracy: 94.72%\n",
      "Epoch [469/1000] - Loss: 0.1076, Accuracy: 94.81%\n",
      "Epoch [470/1000] - Loss: 0.1097, Accuracy: 94.53%\n",
      "Epoch [471/1000] - Loss: 0.1121, Accuracy: 94.53%\n",
      "Epoch [472/1000] - Loss: 0.1039, Accuracy: 94.90%\n",
      "Epoch [473/1000] - Loss: 0.1119, Accuracy: 94.53%\n",
      "Epoch [474/1000] - Loss: 0.1042, Accuracy: 94.81%\n",
      "Epoch [475/1000] - Loss: 0.1042, Accuracy: 94.40%\n",
      "Epoch [476/1000] - Loss: 0.1075, Accuracy: 94.63%\n",
      "Epoch [477/1000] - Loss: 0.1085, Accuracy: 94.49%\n",
      "Epoch [478/1000] - Loss: 0.1101, Accuracy: 94.08%\n",
      "Epoch [479/1000] - Loss: 0.1170, Accuracy: 94.04%\n",
      "Epoch [480/1000] - Loss: 0.1099, Accuracy: 94.76%\n",
      "Epoch [481/1000] - Loss: 0.1120, Accuracy: 94.58%\n",
      "Epoch [482/1000] - Loss: 0.1119, Accuracy: 94.67%\n",
      "Epoch [483/1000] - Loss: 0.1091, Accuracy: 94.53%\n",
      "Epoch [484/1000] - Loss: 0.1149, Accuracy: 94.17%\n",
      "Epoch [485/1000] - Loss: 0.1088, Accuracy: 94.81%\n",
      "Epoch [486/1000] - Loss: 0.1131, Accuracy: 94.31%\n",
      "Epoch [487/1000] - Loss: 0.1146, Accuracy: 94.58%\n",
      "Epoch [488/1000] - Loss: 0.1101, Accuracy: 93.99%\n",
      "Epoch [489/1000] - Loss: 0.1054, Accuracy: 94.76%\n",
      "Epoch [490/1000] - Loss: 0.1196, Accuracy: 94.44%\n",
      "Epoch [491/1000] - Loss: 0.1076, Accuracy: 94.40%\n",
      "Epoch [492/1000] - Loss: 0.1151, Accuracy: 94.04%\n",
      "Epoch [493/1000] - Loss: 0.1077, Accuracy: 94.44%\n",
      "Epoch [494/1000] - Loss: 0.1144, Accuracy: 94.40%\n",
      "Epoch [495/1000] - Loss: 0.1196, Accuracy: 94.08%\n",
      "Epoch [496/1000] - Loss: 0.1259, Accuracy: 94.08%\n",
      "Epoch [497/1000] - Loss: 0.1281, Accuracy: 93.81%\n",
      "Epoch [498/1000] - Loss: 0.1191, Accuracy: 94.35%\n",
      "Epoch [499/1000] - Loss: 0.1205, Accuracy: 94.22%\n",
      "Epoch [500/1000] - Loss: 0.1213, Accuracy: 94.35%\n",
      "Epoch [501/1000] - Loss: 0.1147, Accuracy: 94.35%\n",
      "Epoch [502/1000] - Loss: 0.1132, Accuracy: 94.40%\n",
      "Epoch [503/1000] - Loss: 0.1110, Accuracy: 94.40%\n",
      "Epoch [504/1000] - Loss: 0.1287, Accuracy: 94.17%\n",
      "Epoch [505/1000] - Loss: 0.1259, Accuracy: 93.95%\n",
      "Epoch [506/1000] - Loss: 0.1281, Accuracy: 94.31%\n",
      "Epoch [507/1000] - Loss: 0.1153, Accuracy: 94.58%\n",
      "Epoch [508/1000] - Loss: 0.1278, Accuracy: 93.63%\n",
      "Epoch [509/1000] - Loss: 0.1246, Accuracy: 94.31%\n",
      "Epoch [510/1000] - Loss: 0.1146, Accuracy: 94.67%\n",
      "Epoch [511/1000] - Loss: 0.1161, Accuracy: 94.44%\n",
      "Epoch [512/1000] - Loss: 0.1177, Accuracy: 94.53%\n",
      "Epoch [513/1000] - Loss: 0.1121, Accuracy: 94.94%\n",
      "Epoch [514/1000] - Loss: 0.1164, Accuracy: 94.72%\n",
      "Epoch [515/1000] - Loss: 0.1178, Accuracy: 94.58%\n",
      "Epoch [516/1000] - Loss: 0.1206, Accuracy: 94.35%\n",
      "Epoch [517/1000] - Loss: 0.1184, Accuracy: 94.44%\n",
      "Epoch [518/1000] - Loss: 0.1244, Accuracy: 94.31%\n",
      "Epoch [519/1000] - Loss: 0.1115, Accuracy: 94.63%\n",
      "Epoch [520/1000] - Loss: 0.1206, Accuracy: 94.67%\n",
      "Epoch [521/1000] - Loss: 0.1182, Accuracy: 94.22%\n",
      "Epoch [522/1000] - Loss: 0.1154, Accuracy: 94.26%\n",
      "Epoch [523/1000] - Loss: 0.1060, Accuracy: 94.49%\n",
      "Epoch [524/1000] - Loss: 0.1099, Accuracy: 94.72%\n",
      "Epoch [525/1000] - Loss: 0.1136, Accuracy: 94.44%\n",
      "Epoch [526/1000] - Loss: 0.1148, Accuracy: 94.53%\n",
      "Epoch [527/1000] - Loss: 0.1114, Accuracy: 94.58%\n",
      "Epoch [528/1000] - Loss: 0.1140, Accuracy: 94.49%\n",
      "Epoch [529/1000] - Loss: 0.1103, Accuracy: 94.99%\n",
      "Epoch [530/1000] - Loss: 0.1174, Accuracy: 93.86%\n",
      "Epoch [531/1000] - Loss: 0.1093, Accuracy: 94.76%\n",
      "Epoch [532/1000] - Loss: 0.1159, Accuracy: 94.22%\n",
      "Epoch [533/1000] - Loss: 0.1060, Accuracy: 94.26%\n",
      "Epoch [534/1000] - Loss: 0.0963, Accuracy: 94.72%\n",
      "Epoch [535/1000] - Loss: 0.1032, Accuracy: 94.76%\n",
      "Epoch [536/1000] - Loss: 0.1111, Accuracy: 94.58%\n",
      "Epoch [537/1000] - Loss: 0.1197, Accuracy: 94.26%\n",
      "Epoch [538/1000] - Loss: 0.1314, Accuracy: 93.68%\n",
      "Epoch [539/1000] - Loss: 0.1221, Accuracy: 94.04%\n",
      "Epoch [540/1000] - Loss: 0.1270, Accuracy: 93.36%\n",
      "Epoch [541/1000] - Loss: 0.1361, Accuracy: 93.27%\n",
      "Epoch [542/1000] - Loss: 0.1150, Accuracy: 94.26%\n",
      "Epoch [543/1000] - Loss: 0.1104, Accuracy: 94.31%\n",
      "Epoch [544/1000] - Loss: 0.1052, Accuracy: 94.40%\n",
      "Epoch [545/1000] - Loss: 0.1065, Accuracy: 94.63%\n",
      "Epoch [546/1000] - Loss: 0.1200, Accuracy: 94.26%\n",
      "Epoch [547/1000] - Loss: 0.1145, Accuracy: 94.31%\n",
      "Epoch [548/1000] - Loss: 0.1015, Accuracy: 94.85%\n",
      "Epoch [549/1000] - Loss: 0.0973, Accuracy: 94.63%\n",
      "Epoch [550/1000] - Loss: 0.1138, Accuracy: 94.58%\n",
      "Epoch [551/1000] - Loss: 0.1127, Accuracy: 94.31%\n",
      "Epoch [552/1000] - Loss: 0.1178, Accuracy: 94.35%\n",
      "Epoch [553/1000] - Loss: 0.1158, Accuracy: 94.22%\n",
      "Epoch [554/1000] - Loss: 0.1151, Accuracy: 94.49%\n",
      "Epoch [555/1000] - Loss: 0.1021, Accuracy: 94.76%\n",
      "Epoch [556/1000] - Loss: 0.1060, Accuracy: 94.76%\n",
      "Epoch [557/1000] - Loss: 0.1134, Accuracy: 93.99%\n",
      "Epoch [558/1000] - Loss: 0.1030, Accuracy: 94.67%\n",
      "Epoch [559/1000] - Loss: 0.1150, Accuracy: 94.40%\n",
      "Epoch [560/1000] - Loss: 0.1141, Accuracy: 93.99%\n",
      "Epoch [561/1000] - Loss: 0.1105, Accuracy: 93.95%\n",
      "Epoch [562/1000] - Loss: 0.1134, Accuracy: 94.40%\n",
      "Epoch [563/1000] - Loss: 0.0987, Accuracy: 94.94%\n",
      "Epoch [564/1000] - Loss: 0.1175, Accuracy: 94.13%\n",
      "Epoch [565/1000] - Loss: 0.1119, Accuracy: 94.49%\n",
      "Epoch [566/1000] - Loss: 0.1008, Accuracy: 94.99%\n",
      "Epoch [567/1000] - Loss: 0.1020, Accuracy: 94.99%\n",
      "Epoch [568/1000] - Loss: 0.1275, Accuracy: 93.95%\n",
      "Epoch [569/1000] - Loss: 0.1172, Accuracy: 94.26%\n",
      "Epoch [570/1000] - Loss: 0.1052, Accuracy: 94.90%\n",
      "Epoch [571/1000] - Loss: 0.1035, Accuracy: 94.81%\n",
      "Epoch [572/1000] - Loss: 0.1024, Accuracy: 94.58%\n",
      "Epoch [573/1000] - Loss: 0.1125, Accuracy: 94.22%\n",
      "Epoch [574/1000] - Loss: 0.1154, Accuracy: 94.17%\n",
      "Epoch [575/1000] - Loss: 0.1208, Accuracy: 94.22%\n",
      "Epoch [576/1000] - Loss: 0.1121, Accuracy: 94.26%\n",
      "Epoch [577/1000] - Loss: 0.1075, Accuracy: 94.76%\n",
      "Epoch [578/1000] - Loss: 0.1201, Accuracy: 94.26%\n",
      "Epoch [579/1000] - Loss: 0.1062, Accuracy: 94.81%\n",
      "Epoch [580/1000] - Loss: 0.1131, Accuracy: 94.22%\n",
      "Epoch [581/1000] - Loss: 0.1232, Accuracy: 94.26%\n",
      "Epoch [582/1000] - Loss: 0.1241, Accuracy: 93.99%\n",
      "Epoch [583/1000] - Loss: 0.1205, Accuracy: 93.90%\n",
      "Epoch [584/1000] - Loss: 0.1053, Accuracy: 94.81%\n",
      "Epoch [585/1000] - Loss: 0.1101, Accuracy: 94.53%\n",
      "Epoch [586/1000] - Loss: 0.1097, Accuracy: 94.49%\n",
      "Epoch [587/1000] - Loss: 0.1104, Accuracy: 94.90%\n",
      "Epoch [588/1000] - Loss: 0.1122, Accuracy: 94.58%\n",
      "Epoch [589/1000] - Loss: 0.1200, Accuracy: 93.90%\n",
      "Epoch [590/1000] - Loss: 0.1169, Accuracy: 93.86%\n",
      "Epoch [591/1000] - Loss: 0.1135, Accuracy: 94.22%\n",
      "Epoch [592/1000] - Loss: 0.1110, Accuracy: 94.67%\n",
      "Epoch [593/1000] - Loss: 0.1148, Accuracy: 94.31%\n",
      "Epoch [594/1000] - Loss: 0.1190, Accuracy: 94.17%\n",
      "Epoch [595/1000] - Loss: 0.1058, Accuracy: 94.85%\n",
      "Epoch [596/1000] - Loss: 0.1073, Accuracy: 94.31%\n",
      "Epoch [597/1000] - Loss: 0.1035, Accuracy: 94.63%\n",
      "Epoch [598/1000] - Loss: 0.1063, Accuracy: 94.76%\n",
      "Epoch [599/1000] - Loss: 0.1141, Accuracy: 94.31%\n",
      "Epoch [600/1000] - Loss: 0.1131, Accuracy: 94.13%\n",
      "Epoch [601/1000] - Loss: 0.1080, Accuracy: 94.72%\n",
      "Epoch [602/1000] - Loss: 0.1005, Accuracy: 94.53%\n",
      "Epoch [603/1000] - Loss: 0.1011, Accuracy: 94.63%\n",
      "Epoch [604/1000] - Loss: 0.1078, Accuracy: 94.90%\n",
      "Epoch [605/1000] - Loss: 0.1160, Accuracy: 93.90%\n",
      "Epoch [606/1000] - Loss: 0.1064, Accuracy: 94.31%\n",
      "Epoch [607/1000] - Loss: 0.1089, Accuracy: 94.63%\n",
      "Epoch [608/1000] - Loss: 0.1149, Accuracy: 94.44%\n",
      "Epoch [609/1000] - Loss: 0.1113, Accuracy: 94.08%\n",
      "Epoch [610/1000] - Loss: 0.1026, Accuracy: 94.94%\n",
      "Epoch [611/1000] - Loss: 0.1094, Accuracy: 94.40%\n",
      "Epoch [612/1000] - Loss: 0.1066, Accuracy: 94.81%\n",
      "Epoch [613/1000] - Loss: 0.1056, Accuracy: 94.67%\n",
      "Epoch [614/1000] - Loss: 0.0979, Accuracy: 95.12%\n",
      "Epoch [615/1000] - Loss: 0.1072, Accuracy: 94.44%\n",
      "Epoch [616/1000] - Loss: 0.1053, Accuracy: 94.76%\n",
      "Epoch [617/1000] - Loss: 0.1077, Accuracy: 94.81%\n",
      "Epoch [618/1000] - Loss: 0.1058, Accuracy: 94.58%\n",
      "Epoch [619/1000] - Loss: 0.1054, Accuracy: 94.49%\n",
      "Epoch [620/1000] - Loss: 0.1028, Accuracy: 94.85%\n",
      "Epoch [621/1000] - Loss: 0.1145, Accuracy: 94.17%\n",
      "Epoch [622/1000] - Loss: 0.1134, Accuracy: 94.26%\n",
      "Epoch [623/1000] - Loss: 0.1053, Accuracy: 94.76%\n",
      "Epoch [624/1000] - Loss: 0.1146, Accuracy: 94.58%\n",
      "Epoch [625/1000] - Loss: 0.1116, Accuracy: 94.17%\n",
      "Epoch [626/1000] - Loss: 0.1128, Accuracy: 94.26%\n",
      "Epoch [627/1000] - Loss: 0.1128, Accuracy: 94.22%\n",
      "Epoch [628/1000] - Loss: 0.1032, Accuracy: 94.44%\n",
      "Epoch [629/1000] - Loss: 0.1154, Accuracy: 93.81%\n",
      "Epoch [630/1000] - Loss: 0.1097, Accuracy: 94.76%\n",
      "Epoch [631/1000] - Loss: 0.1057, Accuracy: 94.44%\n",
      "Epoch [632/1000] - Loss: 0.0956, Accuracy: 95.21%\n",
      "Epoch [633/1000] - Loss: 0.1094, Accuracy: 94.58%\n",
      "Epoch [634/1000] - Loss: 0.1095, Accuracy: 94.76%\n",
      "Epoch [635/1000] - Loss: 0.1143, Accuracy: 93.77%\n",
      "Epoch [636/1000] - Loss: 0.1029, Accuracy: 94.72%\n",
      "Epoch [637/1000] - Loss: 0.1120, Accuracy: 94.44%\n",
      "Epoch [638/1000] - Loss: 0.1010, Accuracy: 94.44%\n",
      "Epoch [639/1000] - Loss: 0.1049, Accuracy: 94.94%\n",
      "Epoch [640/1000] - Loss: 0.1113, Accuracy: 94.40%\n",
      "Epoch [641/1000] - Loss: 0.0978, Accuracy: 95.03%\n",
      "Epoch [642/1000] - Loss: 0.1247, Accuracy: 93.63%\n",
      "Epoch [643/1000] - Loss: 0.1097, Accuracy: 94.58%\n",
      "Epoch [644/1000] - Loss: 0.0980, Accuracy: 94.63%\n",
      "Epoch [645/1000] - Loss: 0.1226, Accuracy: 93.95%\n",
      "Epoch [646/1000] - Loss: 0.1142, Accuracy: 94.13%\n",
      "Epoch [647/1000] - Loss: 0.1125, Accuracy: 93.77%\n",
      "Epoch [648/1000] - Loss: 0.1077, Accuracy: 94.76%\n",
      "Epoch [649/1000] - Loss: 0.1107, Accuracy: 94.53%\n",
      "Epoch [650/1000] - Loss: 0.1144, Accuracy: 93.95%\n",
      "Epoch [651/1000] - Loss: 0.1128, Accuracy: 94.72%\n",
      "Epoch [652/1000] - Loss: 0.1040, Accuracy: 94.63%\n",
      "Epoch [653/1000] - Loss: 0.0995, Accuracy: 94.85%\n",
      "Epoch [654/1000] - Loss: 0.1227, Accuracy: 94.26%\n",
      "Epoch [655/1000] - Loss: 0.1023, Accuracy: 94.94%\n",
      "Epoch [656/1000] - Loss: 0.1070, Accuracy: 94.40%\n",
      "Epoch [657/1000] - Loss: 0.1048, Accuracy: 94.49%\n",
      "Epoch [658/1000] - Loss: 0.1103, Accuracy: 94.04%\n",
      "Epoch [659/1000] - Loss: 0.1048, Accuracy: 94.67%\n",
      "Epoch [660/1000] - Loss: 0.1031, Accuracy: 94.94%\n",
      "Epoch [661/1000] - Loss: 0.1058, Accuracy: 94.26%\n",
      "Epoch [662/1000] - Loss: 0.1165, Accuracy: 93.81%\n",
      "Epoch [663/1000] - Loss: 0.0981, Accuracy: 94.99%\n",
      "Epoch [664/1000] - Loss: 0.1085, Accuracy: 94.49%\n",
      "Epoch [665/1000] - Loss: 0.1029, Accuracy: 94.94%\n",
      "Epoch [666/1000] - Loss: 0.1170, Accuracy: 94.04%\n",
      "Epoch [667/1000] - Loss: 0.1087, Accuracy: 94.22%\n",
      "Epoch [668/1000] - Loss: 0.1144, Accuracy: 93.95%\n",
      "Epoch [669/1000] - Loss: 0.1097, Accuracy: 94.44%\n",
      "Epoch [670/1000] - Loss: 0.1136, Accuracy: 94.40%\n",
      "Epoch [671/1000] - Loss: 0.1041, Accuracy: 94.49%\n",
      "Epoch [672/1000] - Loss: 0.1077, Accuracy: 94.49%\n",
      "Epoch [673/1000] - Loss: 0.1078, Accuracy: 94.40%\n",
      "Epoch [674/1000] - Loss: 0.1124, Accuracy: 94.13%\n",
      "Epoch [675/1000] - Loss: 0.1013, Accuracy: 94.90%\n",
      "Epoch [676/1000] - Loss: 0.1043, Accuracy: 94.35%\n",
      "Epoch [677/1000] - Loss: 0.1030, Accuracy: 94.63%\n",
      "Epoch [678/1000] - Loss: 0.1005, Accuracy: 93.95%\n",
      "Epoch [679/1000] - Loss: 0.1167, Accuracy: 93.99%\n",
      "Epoch [680/1000] - Loss: 0.1000, Accuracy: 94.99%\n",
      "Epoch [681/1000] - Loss: 0.1057, Accuracy: 94.44%\n",
      "Epoch [682/1000] - Loss: 0.1047, Accuracy: 94.63%\n",
      "Epoch [683/1000] - Loss: 0.0936, Accuracy: 94.76%\n",
      "Epoch [684/1000] - Loss: 0.1091, Accuracy: 94.53%\n",
      "Epoch [685/1000] - Loss: 0.1125, Accuracy: 94.35%\n",
      "Epoch [686/1000] - Loss: 0.1094, Accuracy: 94.26%\n",
      "Epoch [687/1000] - Loss: 0.1126, Accuracy: 94.53%\n",
      "Epoch [688/1000] - Loss: 0.1146, Accuracy: 94.17%\n",
      "Epoch [689/1000] - Loss: 0.0946, Accuracy: 94.76%\n",
      "Epoch [690/1000] - Loss: 0.1104, Accuracy: 94.49%\n",
      "Epoch [691/1000] - Loss: 0.1026, Accuracy: 94.63%\n",
      "Epoch [692/1000] - Loss: 0.1105, Accuracy: 94.26%\n",
      "Epoch [693/1000] - Loss: 0.1148, Accuracy: 94.22%\n",
      "Epoch [694/1000] - Loss: 0.1169, Accuracy: 94.26%\n",
      "Epoch [695/1000] - Loss: 0.1318, Accuracy: 93.68%\n",
      "Epoch [696/1000] - Loss: 0.1254, Accuracy: 93.86%\n",
      "Epoch [697/1000] - Loss: 0.1275, Accuracy: 94.22%\n",
      "Epoch [698/1000] - Loss: 0.1002, Accuracy: 94.72%\n",
      "Epoch [699/1000] - Loss: 0.1121, Accuracy: 94.22%\n",
      "Epoch [700/1000] - Loss: 0.1067, Accuracy: 94.49%\n",
      "Epoch [701/1000] - Loss: 0.1085, Accuracy: 94.26%\n",
      "Epoch [702/1000] - Loss: 0.1051, Accuracy: 94.67%\n",
      "Epoch [703/1000] - Loss: 0.1112, Accuracy: 94.53%\n",
      "Epoch [704/1000] - Loss: 0.1109, Accuracy: 94.58%\n",
      "Epoch [705/1000] - Loss: 0.1172, Accuracy: 94.17%\n",
      "Epoch [706/1000] - Loss: 0.1088, Accuracy: 94.76%\n",
      "Epoch [707/1000] - Loss: 0.1118, Accuracy: 93.99%\n",
      "Epoch [708/1000] - Loss: 0.1360, Accuracy: 93.99%\n",
      "Epoch [709/1000] - Loss: 0.1110, Accuracy: 94.67%\n",
      "Epoch [710/1000] - Loss: 0.1048, Accuracy: 94.85%\n",
      "Epoch [711/1000] - Loss: 0.1047, Accuracy: 94.72%\n",
      "Epoch [712/1000] - Loss: 0.1039, Accuracy: 94.72%\n",
      "Epoch [713/1000] - Loss: 0.1088, Accuracy: 94.17%\n",
      "Epoch [714/1000] - Loss: 0.1092, Accuracy: 94.35%\n",
      "Epoch [715/1000] - Loss: 0.0974, Accuracy: 94.94%\n",
      "Epoch [716/1000] - Loss: 0.1040, Accuracy: 95.08%\n",
      "Epoch [717/1000] - Loss: 0.1059, Accuracy: 94.67%\n",
      "Epoch [718/1000] - Loss: 0.1037, Accuracy: 94.58%\n",
      "Epoch [719/1000] - Loss: 0.0996, Accuracy: 94.85%\n",
      "Epoch [720/1000] - Loss: 0.1184, Accuracy: 93.54%\n",
      "Epoch [721/1000] - Loss: 0.0992, Accuracy: 94.99%\n",
      "Epoch [722/1000] - Loss: 0.1034, Accuracy: 94.44%\n",
      "Epoch [723/1000] - Loss: 0.1005, Accuracy: 94.99%\n",
      "Epoch [724/1000] - Loss: 0.1022, Accuracy: 94.26%\n",
      "Epoch [725/1000] - Loss: 0.0915, Accuracy: 94.99%\n",
      "Epoch [726/1000] - Loss: 0.1034, Accuracy: 94.90%\n",
      "Epoch [727/1000] - Loss: 0.0991, Accuracy: 94.90%\n",
      "Epoch [728/1000] - Loss: 0.1079, Accuracy: 94.63%\n",
      "Epoch [729/1000] - Loss: 0.1001, Accuracy: 94.72%\n",
      "Epoch [730/1000] - Loss: 0.1027, Accuracy: 94.58%\n",
      "Epoch [731/1000] - Loss: 0.1069, Accuracy: 94.35%\n",
      "Epoch [732/1000] - Loss: 0.1049, Accuracy: 94.44%\n",
      "Epoch [733/1000] - Loss: 0.1098, Accuracy: 94.72%\n",
      "Epoch [734/1000] - Loss: 0.1106, Accuracy: 94.13%\n",
      "Epoch [735/1000] - Loss: 0.1017, Accuracy: 94.58%\n",
      "Epoch [736/1000] - Loss: 0.0935, Accuracy: 95.30%\n",
      "Epoch [737/1000] - Loss: 0.0966, Accuracy: 94.94%\n",
      "Epoch [738/1000] - Loss: 0.1090, Accuracy: 94.26%\n",
      "Epoch [739/1000] - Loss: 0.1034, Accuracy: 94.58%\n",
      "Epoch [740/1000] - Loss: 0.1045, Accuracy: 94.53%\n",
      "Epoch [741/1000] - Loss: 0.1147, Accuracy: 94.53%\n",
      "Epoch [742/1000] - Loss: 0.1103, Accuracy: 94.31%\n",
      "Epoch [743/1000] - Loss: 0.1066, Accuracy: 94.44%\n",
      "Epoch [744/1000] - Loss: 0.1104, Accuracy: 94.04%\n",
      "Epoch [745/1000] - Loss: 0.1047, Accuracy: 94.53%\n",
      "Epoch [746/1000] - Loss: 0.0927, Accuracy: 95.17%\n",
      "Epoch [747/1000] - Loss: 0.1029, Accuracy: 94.58%\n",
      "Epoch [748/1000] - Loss: 0.1029, Accuracy: 94.67%\n",
      "Epoch [749/1000] - Loss: 0.1065, Accuracy: 94.13%\n",
      "Epoch [750/1000] - Loss: 0.0936, Accuracy: 94.94%\n",
      "Epoch [751/1000] - Loss: 0.0976, Accuracy: 94.85%\n",
      "Epoch [752/1000] - Loss: 0.0984, Accuracy: 94.58%\n",
      "Epoch [753/1000] - Loss: 0.1039, Accuracy: 94.26%\n",
      "Epoch [754/1000] - Loss: 0.1002, Accuracy: 94.49%\n",
      "Epoch [755/1000] - Loss: 0.1173, Accuracy: 93.95%\n",
      "Epoch [756/1000] - Loss: 0.0925, Accuracy: 95.26%\n",
      "Epoch [757/1000] - Loss: 0.0995, Accuracy: 94.76%\n",
      "Epoch [758/1000] - Loss: 0.0995, Accuracy: 94.67%\n",
      "Epoch [759/1000] - Loss: 0.1081, Accuracy: 94.49%\n",
      "Epoch [760/1000] - Loss: 0.0964, Accuracy: 94.63%\n",
      "Epoch [761/1000] - Loss: 0.1010, Accuracy: 94.35%\n",
      "Epoch [762/1000] - Loss: 0.1077, Accuracy: 94.13%\n",
      "Epoch [763/1000] - Loss: 0.1048, Accuracy: 94.26%\n",
      "Epoch [764/1000] - Loss: 0.1004, Accuracy: 94.76%\n",
      "Epoch [765/1000] - Loss: 0.0977, Accuracy: 94.85%\n",
      "Epoch [766/1000] - Loss: 0.1026, Accuracy: 94.35%\n",
      "Epoch [767/1000] - Loss: 0.0981, Accuracy: 94.58%\n",
      "Epoch [768/1000] - Loss: 0.1103, Accuracy: 93.86%\n",
      "Epoch [769/1000] - Loss: 0.1019, Accuracy: 94.76%\n",
      "Epoch [770/1000] - Loss: 0.0920, Accuracy: 94.90%\n",
      "Epoch [771/1000] - Loss: 0.1022, Accuracy: 94.94%\n",
      "Epoch [772/1000] - Loss: 0.1022, Accuracy: 94.44%\n",
      "Epoch [773/1000] - Loss: 0.1049, Accuracy: 94.53%\n",
      "Epoch [774/1000] - Loss: 0.1015, Accuracy: 94.53%\n",
      "Epoch [775/1000] - Loss: 0.1008, Accuracy: 94.94%\n",
      "Epoch [776/1000] - Loss: 0.1021, Accuracy: 94.85%\n",
      "Epoch [777/1000] - Loss: 0.1063, Accuracy: 94.31%\n",
      "Epoch [778/1000] - Loss: 0.1013, Accuracy: 94.31%\n",
      "Epoch [779/1000] - Loss: 0.1096, Accuracy: 94.85%\n",
      "Epoch [780/1000] - Loss: 0.1005, Accuracy: 94.99%\n",
      "Epoch [781/1000] - Loss: 0.0979, Accuracy: 94.90%\n",
      "Epoch [782/1000] - Loss: 0.1112, Accuracy: 94.08%\n",
      "Epoch [783/1000] - Loss: 0.0961, Accuracy: 95.12%\n",
      "Epoch [784/1000] - Loss: 0.1029, Accuracy: 94.58%\n",
      "Epoch [785/1000] - Loss: 0.1111, Accuracy: 94.17%\n",
      "Epoch [786/1000] - Loss: 0.1067, Accuracy: 94.63%\n",
      "Epoch [787/1000] - Loss: 0.1158, Accuracy: 94.17%\n",
      "Epoch [788/1000] - Loss: 0.1071, Accuracy: 94.49%\n",
      "Epoch [789/1000] - Loss: 0.0965, Accuracy: 94.94%\n",
      "Epoch [790/1000] - Loss: 0.0998, Accuracy: 94.49%\n",
      "Epoch [791/1000] - Loss: 0.0986, Accuracy: 94.72%\n",
      "Epoch [792/1000] - Loss: 0.0994, Accuracy: 94.76%\n",
      "Epoch [793/1000] - Loss: 0.0948, Accuracy: 95.12%\n",
      "Epoch [794/1000] - Loss: 0.1022, Accuracy: 94.67%\n",
      "Epoch [795/1000] - Loss: 0.1072, Accuracy: 94.49%\n",
      "Epoch [796/1000] - Loss: 0.1018, Accuracy: 94.31%\n",
      "Epoch [797/1000] - Loss: 0.1063, Accuracy: 94.72%\n",
      "Epoch [798/1000] - Loss: 0.0966, Accuracy: 95.17%\n",
      "Epoch [799/1000] - Loss: 0.0942, Accuracy: 94.81%\n",
      "Epoch [800/1000] - Loss: 0.0994, Accuracy: 94.90%\n",
      "Epoch [801/1000] - Loss: 0.0994, Accuracy: 94.81%\n",
      "Epoch [802/1000] - Loss: 0.0974, Accuracy: 94.44%\n",
      "Epoch [803/1000] - Loss: 0.0985, Accuracy: 94.94%\n",
      "Epoch [804/1000] - Loss: 0.0992, Accuracy: 95.08%\n",
      "Epoch [805/1000] - Loss: 0.0956, Accuracy: 94.81%\n",
      "Epoch [806/1000] - Loss: 0.0998, Accuracy: 94.35%\n",
      "Epoch [807/1000] - Loss: 0.1024, Accuracy: 94.63%\n",
      "Epoch [808/1000] - Loss: 0.1079, Accuracy: 94.53%\n",
      "Epoch [809/1000] - Loss: 0.1005, Accuracy: 94.72%\n",
      "Epoch [810/1000] - Loss: 0.0965, Accuracy: 94.85%\n",
      "Epoch [811/1000] - Loss: 0.0983, Accuracy: 94.53%\n",
      "Epoch [812/1000] - Loss: 0.0967, Accuracy: 95.03%\n",
      "Epoch [813/1000] - Loss: 0.0962, Accuracy: 94.90%\n",
      "Epoch [814/1000] - Loss: 0.0897, Accuracy: 95.03%\n",
      "Epoch [815/1000] - Loss: 0.0944, Accuracy: 94.81%\n",
      "Epoch [816/1000] - Loss: 0.0928, Accuracy: 94.81%\n",
      "Epoch [817/1000] - Loss: 0.0970, Accuracy: 94.94%\n",
      "Epoch [818/1000] - Loss: 0.1111, Accuracy: 94.40%\n",
      "Epoch [819/1000] - Loss: 0.1077, Accuracy: 94.49%\n",
      "Epoch [820/1000] - Loss: 0.1011, Accuracy: 94.26%\n",
      "Epoch [821/1000] - Loss: 0.1073, Accuracy: 94.67%\n",
      "Epoch [822/1000] - Loss: 0.1084, Accuracy: 94.31%\n",
      "Epoch [823/1000] - Loss: 0.1098, Accuracy: 94.40%\n",
      "Epoch [824/1000] - Loss: 0.1116, Accuracy: 94.76%\n",
      "Epoch [825/1000] - Loss: 0.1106, Accuracy: 94.40%\n",
      "Epoch [826/1000] - Loss: 0.1071, Accuracy: 94.58%\n",
      "Epoch [827/1000] - Loss: 0.1056, Accuracy: 95.12%\n",
      "Epoch [828/1000] - Loss: 0.1098, Accuracy: 94.63%\n",
      "Epoch [829/1000] - Loss: 0.1093, Accuracy: 94.31%\n",
      "Epoch [830/1000] - Loss: 0.1124, Accuracy: 94.26%\n",
      "Epoch [831/1000] - Loss: 0.1093, Accuracy: 94.44%\n",
      "Epoch [832/1000] - Loss: 0.1066, Accuracy: 94.58%\n",
      "Epoch [833/1000] - Loss: 0.1103, Accuracy: 94.40%\n",
      "Epoch [834/1000] - Loss: 0.1005, Accuracy: 94.72%\n",
      "Epoch [835/1000] - Loss: 0.1262, Accuracy: 94.13%\n",
      "Epoch [836/1000] - Loss: 0.1107, Accuracy: 94.90%\n",
      "Epoch [837/1000] - Loss: 0.1116, Accuracy: 94.35%\n",
      "Epoch [838/1000] - Loss: 0.1053, Accuracy: 94.58%\n",
      "Epoch [839/1000] - Loss: 0.1114, Accuracy: 94.81%\n",
      "Epoch [840/1000] - Loss: 0.0973, Accuracy: 95.12%\n",
      "Epoch [841/1000] - Loss: 0.1000, Accuracy: 94.99%\n",
      "Epoch [842/1000] - Loss: 0.1004, Accuracy: 95.03%\n",
      "Epoch [843/1000] - Loss: 0.1063, Accuracy: 94.58%\n",
      "Epoch [844/1000] - Loss: 0.1126, Accuracy: 94.72%\n",
      "Epoch [845/1000] - Loss: 0.1056, Accuracy: 94.72%\n",
      "Epoch [846/1000] - Loss: 0.0998, Accuracy: 95.03%\n",
      "Epoch [847/1000] - Loss: 0.1022, Accuracy: 95.03%\n",
      "Epoch [848/1000] - Loss: 0.1200, Accuracy: 93.81%\n",
      "Epoch [849/1000] - Loss: 0.1066, Accuracy: 94.58%\n",
      "Epoch [850/1000] - Loss: 0.1057, Accuracy: 94.49%\n",
      "Epoch [851/1000] - Loss: 0.1090, Accuracy: 93.99%\n",
      "Epoch [852/1000] - Loss: 0.1064, Accuracy: 94.53%\n",
      "Epoch [853/1000] - Loss: 0.1022, Accuracy: 94.53%\n",
      "Epoch [854/1000] - Loss: 0.1097, Accuracy: 94.26%\n",
      "Epoch [855/1000] - Loss: 0.1131, Accuracy: 94.08%\n",
      "Epoch [856/1000] - Loss: 0.1081, Accuracy: 94.81%\n",
      "Epoch [857/1000] - Loss: 0.0993, Accuracy: 94.94%\n",
      "Epoch [858/1000] - Loss: 0.1089, Accuracy: 94.49%\n",
      "Epoch [859/1000] - Loss: 0.1320, Accuracy: 93.72%\n",
      "Epoch [860/1000] - Loss: 0.1168, Accuracy: 94.31%\n",
      "Epoch [861/1000] - Loss: 0.1077, Accuracy: 94.58%\n",
      "Epoch [862/1000] - Loss: 0.1167, Accuracy: 94.17%\n",
      "Epoch [863/1000] - Loss: 0.1006, Accuracy: 95.03%\n",
      "Epoch [864/1000] - Loss: 0.1017, Accuracy: 94.49%\n",
      "Epoch [865/1000] - Loss: 0.0998, Accuracy: 94.85%\n",
      "Epoch [866/1000] - Loss: 0.1003, Accuracy: 94.81%\n",
      "Epoch [867/1000] - Loss: 0.1002, Accuracy: 94.49%\n",
      "Epoch [868/1000] - Loss: 0.1075, Accuracy: 94.35%\n",
      "Epoch [869/1000] - Loss: 0.1003, Accuracy: 94.58%\n",
      "Epoch [870/1000] - Loss: 0.0999, Accuracy: 94.76%\n",
      "Epoch [871/1000] - Loss: 0.1167, Accuracy: 94.13%\n",
      "Epoch [872/1000] - Loss: 0.1003, Accuracy: 94.85%\n",
      "Epoch [873/1000] - Loss: 0.1018, Accuracy: 94.72%\n",
      "Epoch [874/1000] - Loss: 0.1080, Accuracy: 94.63%\n",
      "Epoch [875/1000] - Loss: 0.1127, Accuracy: 94.08%\n",
      "Epoch [876/1000] - Loss: 0.1120, Accuracy: 94.04%\n",
      "Epoch [877/1000] - Loss: 0.1106, Accuracy: 94.04%\n",
      "Epoch [878/1000] - Loss: 0.0944, Accuracy: 95.48%\n",
      "Epoch [879/1000] - Loss: 0.1007, Accuracy: 95.12%\n",
      "Epoch [880/1000] - Loss: 0.1090, Accuracy: 94.17%\n",
      "Epoch [881/1000] - Loss: 0.0980, Accuracy: 95.17%\n",
      "Epoch [882/1000] - Loss: 0.1111, Accuracy: 94.49%\n",
      "Epoch [883/1000] - Loss: 0.1061, Accuracy: 94.99%\n",
      "Epoch [884/1000] - Loss: 0.1082, Accuracy: 94.49%\n",
      "Epoch [885/1000] - Loss: 0.1023, Accuracy: 94.63%\n",
      "Epoch [886/1000] - Loss: 0.1153, Accuracy: 94.13%\n",
      "Epoch [887/1000] - Loss: 0.1010, Accuracy: 94.94%\n",
      "Epoch [888/1000] - Loss: 0.1004, Accuracy: 94.81%\n",
      "Epoch [889/1000] - Loss: 0.1094, Accuracy: 94.35%\n",
      "Epoch [890/1000] - Loss: 0.1022, Accuracy: 94.26%\n",
      "Epoch [891/1000] - Loss: 0.1056, Accuracy: 94.13%\n",
      "Epoch [892/1000] - Loss: 0.1080, Accuracy: 94.08%\n",
      "Epoch [893/1000] - Loss: 0.1026, Accuracy: 94.40%\n",
      "Epoch [894/1000] - Loss: 0.0974, Accuracy: 94.90%\n",
      "Epoch [895/1000] - Loss: 0.0925, Accuracy: 95.08%\n",
      "Epoch [896/1000] - Loss: 0.0956, Accuracy: 94.94%\n",
      "Epoch [897/1000] - Loss: 0.0977, Accuracy: 94.40%\n",
      "Epoch [898/1000] - Loss: 0.1036, Accuracy: 95.03%\n",
      "Epoch [899/1000] - Loss: 0.1041, Accuracy: 94.90%\n",
      "Epoch [900/1000] - Loss: 0.1078, Accuracy: 94.35%\n",
      "Epoch [901/1000] - Loss: 0.0943, Accuracy: 95.03%\n",
      "Epoch [902/1000] - Loss: 0.0971, Accuracy: 94.63%\n",
      "Epoch [903/1000] - Loss: 0.0973, Accuracy: 94.49%\n",
      "Epoch [904/1000] - Loss: 0.1080, Accuracy: 94.31%\n",
      "Epoch [905/1000] - Loss: 0.1066, Accuracy: 94.26%\n",
      "Epoch [906/1000] - Loss: 0.1145, Accuracy: 93.90%\n",
      "Epoch [907/1000] - Loss: 0.1144, Accuracy: 94.04%\n",
      "Epoch [908/1000] - Loss: 0.1009, Accuracy: 94.94%\n",
      "Epoch [909/1000] - Loss: 0.1040, Accuracy: 94.63%\n",
      "Epoch [910/1000] - Loss: 0.1029, Accuracy: 94.63%\n",
      "Epoch [911/1000] - Loss: 0.0973, Accuracy: 94.99%\n",
      "Epoch [912/1000] - Loss: 0.1068, Accuracy: 94.63%\n",
      "Epoch [913/1000] - Loss: 0.1002, Accuracy: 94.72%\n",
      "Epoch [914/1000] - Loss: 0.1077, Accuracy: 94.13%\n",
      "Epoch [915/1000] - Loss: 0.1169, Accuracy: 94.13%\n",
      "Epoch [916/1000] - Loss: 0.1014, Accuracy: 94.76%\n",
      "Epoch [917/1000] - Loss: 0.1052, Accuracy: 94.99%\n",
      "Epoch [918/1000] - Loss: 0.0967, Accuracy: 94.81%\n",
      "Epoch [919/1000] - Loss: 0.1006, Accuracy: 95.03%\n",
      "Epoch [920/1000] - Loss: 0.0962, Accuracy: 94.90%\n",
      "Epoch [921/1000] - Loss: 0.1067, Accuracy: 94.58%\n",
      "Epoch [922/1000] - Loss: 0.0987, Accuracy: 94.94%\n",
      "Epoch [923/1000] - Loss: 0.1056, Accuracy: 94.81%\n",
      "Epoch [924/1000] - Loss: 0.1045, Accuracy: 94.40%\n",
      "Epoch [925/1000] - Loss: 0.1115, Accuracy: 94.13%\n",
      "Epoch [926/1000] - Loss: 0.1038, Accuracy: 94.85%\n",
      "Epoch [927/1000] - Loss: 0.0953, Accuracy: 94.53%\n",
      "Epoch [928/1000] - Loss: 0.0956, Accuracy: 94.76%\n",
      "Epoch [929/1000] - Loss: 0.0906, Accuracy: 94.81%\n",
      "Epoch [930/1000] - Loss: 0.1004, Accuracy: 94.63%\n",
      "Epoch [931/1000] - Loss: 0.0976, Accuracy: 94.99%\n",
      "Epoch [932/1000] - Loss: 0.0918, Accuracy: 95.08%\n",
      "Epoch [933/1000] - Loss: 0.0977, Accuracy: 94.67%\n",
      "Epoch [934/1000] - Loss: 0.1068, Accuracy: 94.40%\n",
      "Epoch [935/1000] - Loss: 0.0958, Accuracy: 94.67%\n",
      "Epoch [936/1000] - Loss: 0.0946, Accuracy: 94.58%\n",
      "Epoch [937/1000] - Loss: 0.0938, Accuracy: 94.53%\n",
      "Epoch [938/1000] - Loss: 0.0926, Accuracy: 95.12%\n",
      "Epoch [939/1000] - Loss: 0.0973, Accuracy: 94.63%\n",
      "Epoch [940/1000] - Loss: 0.0954, Accuracy: 95.12%\n",
      "Epoch [941/1000] - Loss: 0.0986, Accuracy: 94.44%\n",
      "Epoch [942/1000] - Loss: 0.0980, Accuracy: 94.63%\n",
      "Epoch [943/1000] - Loss: 0.0961, Accuracy: 94.90%\n",
      "Epoch [944/1000] - Loss: 0.1086, Accuracy: 94.40%\n",
      "Epoch [945/1000] - Loss: 0.1237, Accuracy: 94.40%\n",
      "Epoch [946/1000] - Loss: 0.0964, Accuracy: 94.63%\n",
      "Epoch [947/1000] - Loss: 0.1008, Accuracy: 94.31%\n",
      "Epoch [948/1000] - Loss: 0.1101, Accuracy: 94.13%\n",
      "Epoch [949/1000] - Loss: 0.1063, Accuracy: 94.08%\n",
      "Epoch [950/1000] - Loss: 0.0948, Accuracy: 95.12%\n",
      "Epoch [951/1000] - Loss: 0.0941, Accuracy: 95.12%\n",
      "Epoch [952/1000] - Loss: 0.0967, Accuracy: 95.03%\n",
      "Epoch [953/1000] - Loss: 0.1008, Accuracy: 95.62%\n",
      "Epoch [954/1000] - Loss: 0.0997, Accuracy: 94.58%\n",
      "Epoch [955/1000] - Loss: 0.0962, Accuracy: 94.94%\n",
      "Epoch [956/1000] - Loss: 0.1008, Accuracy: 94.22%\n",
      "Epoch [957/1000] - Loss: 0.0959, Accuracy: 94.72%\n",
      "Epoch [958/1000] - Loss: 0.0948, Accuracy: 94.94%\n",
      "Epoch [959/1000] - Loss: 0.0931, Accuracy: 94.90%\n",
      "Epoch [960/1000] - Loss: 0.0916, Accuracy: 94.99%\n",
      "Epoch [961/1000] - Loss: 0.1068, Accuracy: 94.63%\n",
      "Epoch [962/1000] - Loss: 0.1071, Accuracy: 94.58%\n",
      "Epoch [963/1000] - Loss: 0.0980, Accuracy: 94.81%\n",
      "Epoch [964/1000] - Loss: 0.0960, Accuracy: 94.81%\n",
      "Epoch [965/1000] - Loss: 0.0991, Accuracy: 94.72%\n",
      "Epoch [966/1000] - Loss: 0.0946, Accuracy: 94.90%\n",
      "Epoch [967/1000] - Loss: 0.0951, Accuracy: 95.12%\n",
      "Epoch [968/1000] - Loss: 0.1011, Accuracy: 94.90%\n",
      "Epoch [969/1000] - Loss: 0.1013, Accuracy: 94.53%\n",
      "Epoch [970/1000] - Loss: 0.1029, Accuracy: 94.53%\n",
      "Epoch [971/1000] - Loss: 0.0955, Accuracy: 94.44%\n",
      "Epoch [972/1000] - Loss: 0.1001, Accuracy: 94.85%\n",
      "Epoch [973/1000] - Loss: 0.0934, Accuracy: 95.03%\n",
      "Epoch [974/1000] - Loss: 0.0958, Accuracy: 94.63%\n",
      "Epoch [975/1000] - Loss: 0.1097, Accuracy: 94.31%\n",
      "Epoch [976/1000] - Loss: 0.1074, Accuracy: 94.35%\n",
      "Epoch [977/1000] - Loss: 0.0947, Accuracy: 95.26%\n",
      "Epoch [978/1000] - Loss: 0.1001, Accuracy: 94.90%\n",
      "Epoch [979/1000] - Loss: 0.0944, Accuracy: 94.76%\n",
      "Epoch [980/1000] - Loss: 0.1045, Accuracy: 94.40%\n",
      "Epoch [981/1000] - Loss: 0.0997, Accuracy: 94.44%\n",
      "Epoch [982/1000] - Loss: 0.0931, Accuracy: 95.08%\n",
      "Epoch [983/1000] - Loss: 0.0960, Accuracy: 94.81%\n",
      "Epoch [984/1000] - Loss: 0.1046, Accuracy: 94.40%\n",
      "Epoch [985/1000] - Loss: 0.0908, Accuracy: 94.99%\n",
      "Epoch [986/1000] - Loss: 0.0994, Accuracy: 94.53%\n",
      "Epoch [987/1000] - Loss: 0.1116, Accuracy: 94.44%\n",
      "Epoch [988/1000] - Loss: 0.1103, Accuracy: 94.31%\n",
      "Epoch [989/1000] - Loss: 0.1074, Accuracy: 94.17%\n",
      "Epoch [990/1000] - Loss: 0.1208, Accuracy: 94.31%\n",
      "Epoch [991/1000] - Loss: 0.1009, Accuracy: 94.85%\n",
      "Epoch [992/1000] - Loss: 0.1159, Accuracy: 93.32%\n",
      "Epoch [993/1000] - Loss: 0.1079, Accuracy: 94.72%\n",
      "Epoch [994/1000] - Loss: 0.0949, Accuracy: 95.03%\n",
      "Epoch [995/1000] - Loss: 0.0984, Accuracy: 94.85%\n",
      "Epoch [996/1000] - Loss: 0.0980, Accuracy: 94.94%\n",
      "Epoch [997/1000] - Loss: 0.0946, Accuracy: 94.85%\n",
      "Epoch [998/1000] - Loss: 0.1018, Accuracy: 94.76%\n",
      "Epoch [999/1000] - Loss: 0.0920, Accuracy: 95.03%\n",
      "Epoch [1000/1000] - Loss: 0.1168, Accuracy: 94.67%\n"
     ]
    },
    {
     "data": {
      "text/plain": "<All keys matched successfully>"
     },
     "execution_count": 136,
     "metadata": {},
     "output_type": "execute_result"
    }
   ],
   "source": [
    "# Training loop\n",
    "num_epochs = 1000\n",
    "best_loss = float('inf')\n",
    "best_model = None\n",
    "\n",
    "train_losses = []\n",
    "val_losses = []\n",
    "\n",
    "for epoch in range(num_epochs):\n",
    "    total_loss = 0\n",
    "    correct_predictions = 0\n",
    "    total_samples = 0\n",
    "\n",
    "    for inputs, labels in train_loader:\n",
    "        labels = labels.long()\n",
    "        optimizer.zero_grad()\n",
    "        outputs = model(inputs)\n",
    "        loss = criterion(outputs, labels)\n",
    "        loss.backward()\n",
    "        optimizer.step()\n",
    "\n",
    "        total_loss += loss.item()\n",
    "        _, predicted = torch.max(outputs, 1)\n",
    "        correct_predictions += (predicted == labels).sum().item()\n",
    "        total_samples += labels.size(0)\n",
    "\n",
    "    epoch_loss = total_loss / len(train_loader)\n",
    "    epoch_accuracy = correct_predictions / total_samples\n",
    "\n",
    "    print(f'Epoch [{epoch + 1}/{num_epochs}] - Loss: {epoch_loss:.4f}, Accuracy: {epoch_accuracy:.2%}')\n",
    "\n",
    "    train_losses.append(epoch_loss)\n",
    "\n",
    "    # Validation for saving the best model\n",
    "    model.eval()\n",
    "    with torch.no_grad():\n",
    "        total_val_loss = 0\n",
    "        for val_inputs, val_labels in val_loader:\n",
    "            val_labels = val_labels.long()\n",
    "            val_outputs = model(val_inputs)\n",
    "            val_loss = criterion(val_outputs, val_labels)\n",
    "            total_val_loss += val_loss.item()\n",
    "\n",
    "        avg_val_loss = total_val_loss / len(val_loader)\n",
    "        val_losses.append(avg_val_loss)\n",
    "        # Save the best model\n",
    "        if avg_val_loss < best_loss:\n",
    "            best_loss = avg_val_loss\n",
    "            best_model = model.state_dict()\n",
    "\n",
    "    model.train()\n",
    "\n",
    "# After training loop, save the best model\n",
    "torch.save(best_model, 'best_lstm_model.pth')\n",
    "model.load_state_dict(torch.load('best_lstm_model.pth'))"
   ],
   "metadata": {
    "collapsed": false,
    "ExecuteTime": {
     "end_time": "2023-11-12T22:43:39.337018400Z",
     "start_time": "2023-11-12T22:37:04.026717800Z"
    }
   }
  },
  {
   "cell_type": "code",
   "execution_count": 138,
   "outputs": [
    {
     "data": {
      "text/plain": "<Figure size 800x600 with 1 Axes>",
      "image/png": "[encoded data removed]"
     },
     "metadata": {},
     "output_type": "display_data"
    }
   ],
   "source": [
    "import matplotlib.pyplot as plt\n",
    "# Plotting the loss curve\n",
    "plt.figure(figsize=(8, 6))\n",
    "plt.plot(train_losses, label='Training Loss')\n",
    "plt.plot(val_losses, label='Validation Loss')\n",
    "plt.xlabel('Epoch')\n",
    "plt.ylabel('Loss')\n",
    "plt.legend()\n",
    "plt.show()\n"
   ],
   "metadata": {
    "collapsed": false,
    "ExecuteTime": {
     "end_time": "2023-11-12T22:47:00.566326Z",
     "start_time": "2023-11-12T22:47:00.464916100Z"
    }
   }
  },
  {
   "cell_type": "markdown",
   "source": [
    "#### Evaluate Model"
   ],
   "metadata": {
    "collapsed": false
   }
  },
  {
   "cell_type": "code",
   "execution_count": 122,
   "outputs": [
    {
     "name": "stdout",
     "output_type": "stream",
     "text": [
      "Test accuracy: 94.48%\n",
      "                        precision    recall  f1-score   support\n",
      "\n",
      "                 Climb       0.99      0.98      0.98       134\n",
      "                Cruise       0.96      0.98      0.97       137\n",
      "               Descent       0.99      1.00      1.00       149\n",
      "                 Hover       0.75      0.75      0.75         4\n",
      "Hover In Ground Effect       0.75      0.96      0.84        70\n",
      "      LandingOrTakeOff       1.00      0.98      0.99        98\n",
      "              Standing       0.40      0.08      0.14        24\n",
      "\n",
      "              accuracy                           0.94       616\n",
      "             macro avg       0.84      0.82      0.81       616\n",
      "          weighted avg       0.93      0.94      0.93       616\n",
      "\n"
     ]
    }
   ],
   "source": [
    "from sklearn.metrics import classification_report\n",
    "\n",
    "# Evaluate the model\n",
    "# Convert data to DataLoader for test set\n",
    "test_data = TensorDataset(X_test, y_test)\n",
    "test_loader = DataLoader(test_data, batch_size=32, shuffle=False)\n",
    "\n",
    "model.eval()\n",
    "\n",
    "predicted_labels, actual_labels = utils.model_predict(test_loader, model, encoder)\n",
    "# Calculate and print the classification report\n",
    "report = classification_report(actual_labels, predicted_labels)\n",
    "print(report)"
   ],
   "metadata": {
    "collapsed": false,
    "ExecuteTime": {
     "end_time": "2023-11-12T22:18:03.862002Z",
     "start_time": "2023-11-12T22:18:03.475618500Z"
    }
   }
  },
  {
   "cell_type": "code",
   "execution_count": 161,
   "outputs": [
    {
     "data": {
      "text/plain": "<Figure size 800x600 with 2 Axes>",
      "image/png": "[encoded data removed]"
     },
     "metadata": {},
     "output_type": "display_data"
    }
   ],
   "source": [
    "from sklearn.metrics import confusion_matrix\n",
    "import utils\n",
    "\n",
    "utils.plot_confusion_matrix_heatmap(actual_labels, predicted_labels)"
   ],
   "metadata": {
    "collapsed": false,
    "ExecuteTime": {
     "end_time": "2023-11-12T23:06:27.538884400Z",
     "start_time": "2023-11-12T23:06:27.350717800Z"
    }
   }
  },
  {
   "cell_type": "code",
   "execution_count": 159,
   "outputs": [
    {
     "data": {
      "text/plain": "<Figure size 1200x500 with 1 Axes>",
      "image/png": "[encoded data removed]"
     },
     "metadata": {},
     "output_type": "display_data"
    }
   ],
   "source": [
    "from sklearn.metrics import precision_recall_fscore_support\n",
    "import utils\n",
    "import importlib\n",
    "importlib.reload(utils)\n",
    "\n",
    "unique_labels = list(set(actual_labels))\n",
    "precision, recall, f1_score, _ = precision_recall_fscore_support(actual_labels, predicted_labels,\n",
    "                                                                 average=None, labels=unique_labels)\n",
    "utils.plot_class_wise_prf(unique_labels, precision, recall, f1_score)"
   ],
   "metadata": {
    "collapsed": false,
    "ExecuteTime": {
     "end_time": "2023-11-12T23:03:48.519023800Z",
     "start_time": "2023-11-12T23:03:48.373829700Z"
    }
   }
  },
  {
   "cell_type": "markdown",
   "source": [
    "#### Test with second data set"
   ],
   "metadata": {
    "collapsed": false
   }
  },
  {
   "cell_type": "code",
   "execution_count": 111,
   "outputs": [
    {
     "name": "stdout",
     "output_type": "stream",
     "text": [
      "reading file data/test_data\\SimData_2022.03.31_09.14.40.csv\n",
      "reading file data/test_data\\SimData_2022.03.31_09.38.42.csv\n",
      "reading file data/test_data\\SimData_2022.03.31_10.57.22.csv\n",
      "reading file data/test_data\\SimData_2022.03.31_12.57.00.csv\n",
      "reading file data/test_data\\SimData_2022.03.31_13.47.24.csv\n",
      "reading file data/test_data\\SimData_2022.03.31_15.21.35.csv\n",
      "reading file data/test_data\\SimData_2022.03.31_16.51.42.csv\n",
      "reading file data/test_data\\SimData_2023.01.12_09.00.50.csv\n",
      "reading file data/test_data\\SimData_2023.01.12_09.28.10.csv\n",
      "reading file data/test_data\\SimData_2023.01.12_10.41.08.csv\n",
      "reading file data/test_data\\SimData_2023.01.12_10.45.38.csv\n",
      "reading file data/test_data\\SimData_2023.01.12_12.36.17.csv\n",
      "reading file data/test_data\\SimData_2023.01.12_12.36.37.csv\n",
      "reading file data/test_data\\SimData_2023.01.12_12.37.48.csv\n",
      "reading file data/test_data\\SimData_2023.01.12_12.43.44.csv\n",
      "reading file data/test_data\\SimData_2023.01.12_12.48.49.csv\n",
      "reading file data/test_data\\SimData_2023.01.12_14.13.00.csv\n",
      "reading file data/test_data\\SimData_2023.01.12_14.25.14.csv\n",
      "reading file data/test_data\\SimData_2023.01.12_14.47.00.csv\n",
      "reading file data/test_data\\SimData_2023.01.12_15.24.58.csv\n",
      "reading file data/test_data\\SimData_2023.01.12_15.53.14.csv\n",
      "reading file data/test_data\\SimData_2023.02.02_09.48.27.csv\n",
      "reading file data/test_data\\SimData_2023.02.02_10.44.37.csv\n",
      "reading file data/test_data\\SimData_2023.02.02_10.51.22.csv\n",
      "reading file data/test_data\\SimData_2023.02.02_10.57.00.csv\n",
      "reading file data/test_data\\SimData_2023.02.02_10.57.51.csv\n",
      "reading file data/test_data\\SimData_2023.02.02_11.01.54.csv\n",
      "reading file data/test_data\\SimData_2023.02.02_11.51.50.csv\n",
      "reading file data/test_data\\SimData_2023.02.02_12.05.37.csv\n",
      "reading file data/test_data\\SimData_2023.02.02_14.17.34.csv\n",
      "reading file data/test_data\\SimData_2023.02.02_15.33.23.csv\n",
      "reading file data/test_data\\SimData_2023.02.23_09.24.48.csv\n",
      "reading file data/test_data\\SimData_2023.02.23_09.38.14.csv\n",
      "reading file data/test_data\\SimData_2023.02.23_09.42.34.csv\n",
      "reading file data/test_data\\SimData_2023.02.23_09.45.03.csv\n",
      "reading file data/test_data\\SimData_2023.02.23_09.48.33.csv\n",
      "reading file data/test_data\\SimData_2023.02.23_09.56.15.csv\n",
      "reading file data/test_data\\SimData_2023.02.23_10.00.49.csv\n",
      "reading file data/test_data\\SimData_2023.02.23_10.08.22.csv\n",
      "reading file data/test_data\\SimData_2023.02.23_10.18.35.csv\n",
      "reading file data/test_data\\SimData_2023.02.23_10.24.53.csv\n",
      "reading file data/test_data\\SimData_2023.02.23_10.30.34.csv\n",
      "reading file data/test_data\\SimData_2023.02.23_10.38.09.csv\n",
      "reading file data/test_data\\SimData_2023.02.23_10.42.37.csv\n",
      "reading file data/test_data\\SimData_2023.02.23_10.48.33.csv\n",
      "reading file data/test_data\\SimData_2023.02.23_10.53.25.csv\n",
      "reading file data/test_data\\SimData_2023.02.23_11.07.05.csv\n",
      "reading file data/test_data\\SimData_2023.02.23_11.19.15.csv\n",
      "reading file data/test_data\\SimData_2023.02.23_11.38.44.csv\n",
      "reading file data/test_data\\SimData_2023.02.23_11.46.40.csv\n",
      "reading file data/test_data\\SimData_2023.02.23_11.49.21.csv\n",
      "reading file data/test_data\\SimData_2023.02.23_11.51.38.csv\n",
      "reading file data/test_data\\SimData_2023.02.23_11.54.00.csv\n",
      "reading file data/test_data\\SimData_2023.02.23_11.56.39.csv\n",
      "reading file data/test_data\\SimData_2023.02.23_13.18.29.csv\n",
      "reading file data/test_data\\SimData_2023.02.23_13.39.26.csv\n",
      "reading file data/test_data\\SimData_2023.02.23_14.37.09.csv\n",
      "reading file data/test_data\\SimData_2023.02.23_15.31.18.csv\n",
      "reading file data/test_data\\SimData_2023.02.23_15.53.06.csv\n",
      "reading file data/test_data\\SimData_2023.02.23_15.53.13.csv\n",
      "reading file data/test_data\\SimData_2023.02.23_15.56.05.csv\n",
      "reading file data/test_data\\SimData_2023.02.23_15.56.11.csv\n",
      "reading file data/test_data\\SimData_2023.02.23_15.58.34.csv\n",
      "reading file data/test_data\\SimData_2023.02.23_16.01.21.csv\n",
      "reading file data/test_data\\SimData_2023.02.23_16.03.39.csv\n",
      "reading file data/test_data\\SimData_2023.02.23_16.06.38.csv\n",
      "reading file data/test_data\\SimData_2023.02.23_16.15.44.csv\n",
      "reading file data/test_data\\SimData_2023.05.11_09.23.32.csv\n",
      "reading file data/test_data\\SimData_2023.05.11_09.29.18.csv\n",
      "reading file data/test_data\\SimData_2023.05.11_09.44.24.csv\n",
      "reading file data/test_data\\SimData_2023.05.11_11.12.13.csv\n"
     ]
    }
   ],
   "source": [
    "import utils\n",
    "\n",
    "test_csv_directory = 'data/test_data'\n",
    "test_df = utils.load_data_from_dir(test_csv_directory)"
   ],
   "metadata": {
    "collapsed": false,
    "ExecuteTime": {
     "end_time": "2023-11-12T22:12:37.161205Z",
     "start_time": "2023-11-12T22:11:35.744122800Z"
    }
   }
  },
  {
   "cell_type": "code",
   "execution_count": 112,
   "outputs": [
    {
     "name": "stdout",
     "output_type": "stream",
     "text": [
      "number of test data rows 2838392\n"
     ]
    },
    {
     "data": {
      "text/plain": "   Vert. Speed  Groundspeed  Altitude(AGL)                DateTime  Phase\n0     1774.112       90.055        1079.71 2022-03-31 13:14:40.712  Climb\n1     1773.997       90.063        1080.13 2022-03-31 13:14:40.732  Climb\n2     1773.840       90.075        1080.70 2022-03-31 13:14:40.750  Climb\n3     1773.695       90.086        1081.24 2022-03-31 13:14:40.768  Climb\n4     1773.561       90.096        1081.76 2022-03-31 13:14:40.785  Climb\n5     1773.433       90.106        1082.26 2022-03-31 13:14:40.801  Climb\n6     1773.311       90.116        1082.74 2022-03-31 13:14:40.819  Climb\n7     1773.079       90.135        1083.71 2022-03-31 13:14:40.849  Climb\n8     1772.976       90.144        1084.15 2022-03-31 13:14:40.868  Climb\n9     1772.750       90.165        1085.17 2022-03-31 13:14:40.899  Climb",
      "text/html": "<div>\n<style scoped>\n    .dataframe tbody tr th:only-of-type {\n        vertical-align: middle;\n    }\n\n    .dataframe tbody tr th {\n        vertical-align: top;\n    }\n\n    .dataframe thead th {\n        text-align: right;\n    }\n</style>\n<table border=\"1\" class=\"dataframe\">\n  <thead>\n    <tr style=\"text-align: right;\">\n      <th></th>\n      <th>Vert. Speed</th>\n      <th>Groundspeed</th>\n      <th>Altitude(AGL)</th>\n      <th>DateTime</th>\n      <th>Phase</th>\n    </tr>\n  </thead>\n  <tbody>\n    <tr>\n      <th>0</th>\n      <td>1774.112</td>\n      <td>90.055</td>\n      <td>1079.71</td>\n      <td>2022-03-31 13:14:40.712</td>\n      <td>Climb</td>\n    </tr>\n    <tr>\n      <th>1</th>\n      <td>1773.997</td>\n      <td>90.063</td>\n      <td>1080.13</td>\n      <td>2022-03-31 13:14:40.732</td>\n      <td>Climb</td>\n    </tr>\n    <tr>\n      <th>2</th>\n      <td>1773.840</td>\n      <td>90.075</td>\n      <td>1080.70</td>\n      <td>2022-03-31 13:14:40.750</td>\n      <td>Climb</td>\n    </tr>\n    <tr>\n      <th>3</th>\n      <td>1773.695</td>\n      <td>90.086</td>\n      <td>1081.24</td>\n      <td>2022-03-31 13:14:40.768</td>\n      <td>Climb</td>\n    </tr>\n    <tr>\n      <th>4</th>\n      <td>1773.561</td>\n      <td>90.096</td>\n      <td>1081.76</td>\n      <td>2022-03-31 13:14:40.785</td>\n      <td>Climb</td>\n    </tr>\n    <tr>\n      <th>5</th>\n      <td>1773.433</td>\n      <td>90.106</td>\n      <td>1082.26</td>\n      <td>2022-03-31 13:14:40.801</td>\n      <td>Climb</td>\n    </tr>\n    <tr>\n      <th>6</th>\n      <td>1773.311</td>\n      <td>90.116</td>\n      <td>1082.74</td>\n      <td>2022-03-31 13:14:40.819</td>\n      <td>Climb</td>\n    </tr>\n    <tr>\n      <th>7</th>\n      <td>1773.079</td>\n      <td>90.135</td>\n      <td>1083.71</td>\n      <td>2022-03-31 13:14:40.849</td>\n      <td>Climb</td>\n    </tr>\n    <tr>\n      <th>8</th>\n      <td>1772.976</td>\n      <td>90.144</td>\n      <td>1084.15</td>\n      <td>2022-03-31 13:14:40.868</td>\n      <td>Climb</td>\n    </tr>\n    <tr>\n      <th>9</th>\n      <td>1772.750</td>\n      <td>90.165</td>\n      <td>1085.17</td>\n      <td>2022-03-31 13:14:40.899</td>\n      <td>Climb</td>\n    </tr>\n  </tbody>\n</table>\n</div>"
     },
     "execution_count": 112,
     "metadata": {},
     "output_type": "execute_result"
    }
   ],
   "source": [
    "test_formatted_df = utils.format_data(test_df)\n",
    "test_formatted_df['Phase'] = test_formatted_df.apply(lambda row: identify_phase(row['Vert. Speed'], row['Groundspeed'], row['Altitude(AGL)']), axis=1)\n",
    "print('number of test data rows', len(test_formatted_df))\n",
    "test_formatted_df.head(10)"
   ],
   "metadata": {
    "collapsed": false,
    "ExecuteTime": {
     "end_time": "2023-11-12T22:13:35.566798900Z",
     "start_time": "2023-11-12T22:13:10.433970300Z"
    }
   }
  },
  {
   "cell_type": "markdown",
   "source": [],
   "metadata": {
    "collapsed": false
   }
  },
  {
   "cell_type": "markdown",
   "source": [
    "#### Create sequences from test data"
   ],
   "metadata": {
    "collapsed": false
   }
  },
  {
   "cell_type": "code",
   "execution_count": 113,
   "outputs": [],
   "source": [
    "X_test2, y_test2 = utils.create_sliding_window_sequences(test_formatted_df, sequence_length, step_size)"
   ],
   "metadata": {
    "collapsed": false,
    "ExecuteTime": {
     "end_time": "2023-11-12T22:13:42.825181300Z",
     "start_time": "2023-11-12T22:13:42.494491900Z"
    }
   }
  },
  {
   "cell_type": "code",
   "execution_count": 114,
   "outputs": [],
   "source": [
    "import numpy as np\n",
    "# use same encoder. created a new encoder by accident and that caused issues vey difficult to debug\n",
    "# cuda library will complain with GPU on with no direct association of underlying label mismatch\n",
    "y_test2 = encoder.transform(np.array(y_test2))\n",
    "X_test2_torch, y_test2_torch = utils.torch_input_output(X_test2, y_test2, device)"
   ],
   "metadata": {
    "collapsed": false,
    "ExecuteTime": {
     "end_time": "2023-11-12T22:13:44.798335400Z",
     "start_time": "2023-11-12T22:13:44.617230600Z"
    }
   }
  },
  {
   "cell_type": "code",
   "execution_count": 140,
   "outputs": [
    {
     "name": "stdout",
     "output_type": "stream",
     "text": [
      "Test accuracy: 90.08%\n",
      "                        precision    recall  f1-score   support\n",
      "\n",
      "                 Climb       0.99      0.98      0.99       640\n",
      "                Cruise       0.94      0.98      0.96       560\n",
      "               Descent       0.99      0.99      0.99       763\n",
      "                 Hover       0.00      0.00      0.00        13\n",
      "Hover In Ground Effect       0.59      0.96      0.73       325\n",
      "      LandingOrTakeOff       0.98      0.99      0.98       315\n",
      "              Standing       0.11      0.00      0.01       218\n",
      "\n",
      "              accuracy                           0.90      2834\n",
      "             macro avg       0.66      0.70      0.67      2834\n",
      "          weighted avg       0.86      0.90      0.87      2834\n",
      "\n"
     ]
    },
    {
     "name": "stderr",
     "output_type": "stream",
     "text": [
      "D:\\yaraf\\softwares\\miniconda3\\envs\\daen690-win\\lib\\site-packages\\sklearn\\metrics\\_classification.py:1469: UndefinedMetricWarning: Precision and F-score are ill-defined and being set to 0.0 in labels with no predicted samples. Use `zero_division` parameter to control this behavior.\n",
      "  _warn_prf(average, modifier, msg_start, len(result))\n",
      "D:\\yaraf\\softwares\\miniconda3\\envs\\daen690-win\\lib\\site-packages\\sklearn\\metrics\\_classification.py:1469: UndefinedMetricWarning: Precision and F-score are ill-defined and being set to 0.0 in labels with no predicted samples. Use `zero_division` parameter to control this behavior.\n",
      "  _warn_prf(average, modifier, msg_start, len(result))\n",
      "D:\\yaraf\\softwares\\miniconda3\\envs\\daen690-win\\lib\\site-packages\\sklearn\\metrics\\_classification.py:1469: UndefinedMetricWarning: Precision and F-score are ill-defined and being set to 0.0 in labels with no predicted samples. Use `zero_division` parameter to control this behavior.\n",
      "  _warn_prf(average, modifier, msg_start, len(result))\n"
     ]
    }
   ],
   "source": [
    "from torch.utils.data import DataLoader, TensorDataset\n",
    "from sklearn.metrics import classification_report\n",
    "\n",
    "test_data2 = TensorDataset(X_test2_torch, y_test2_torch)\n",
    "test_loader2 = DataLoader(test_data2, batch_size=32, shuffle=False)\n",
    "\n",
    "model.eval()\n",
    "\n",
    "predicted_labels2, actual_labels2 = utils.model_predict(test_loader2, model, encoder)\n",
    "# Calculate and print the classification report\n",
    "report2 = classification_report(actual_labels2, predicted_labels2)\n",
    "print(report2)"
   ],
   "metadata": {
    "collapsed": false,
    "ExecuteTime": {
     "end_time": "2023-11-12T22:48:20.074012500Z",
     "start_time": "2023-11-12T22:48:19.581260900Z"
    }
   }
  },
  {
   "cell_type": "code",
   "execution_count": 162,
   "outputs": [
    {
     "data": {
      "text/plain": "<Figure size 800x600 with 2 Axes>",
      "image/png": "[encoded data removed]"
     },
     "metadata": {},
     "output_type": "display_data"
    }
   ],
   "source": [
    "import utils\n",
    "\n",
    "utils.plot_confusion_matrix_heatmap(actual_labels2, predicted_labels2)"
   ],
   "metadata": {
    "collapsed": false,
    "ExecuteTime": {
     "end_time": "2023-11-12T23:06:57.516849300Z",
     "start_time": "2023-11-12T23:06:57.025879600Z"
    }
   }
  },
  {
   "cell_type": "code",
   "execution_count": 163,
   "outputs": [
    {
     "name": "stderr",
     "output_type": "stream",
     "text": [
      "D:\\yaraf\\softwares\\miniconda3\\envs\\daen690-win\\lib\\site-packages\\sklearn\\metrics\\_classification.py:1469: UndefinedMetricWarning: Precision and F-score are ill-defined and being set to 0.0 in labels with no predicted samples. Use `zero_division` parameter to control this behavior.\n",
      "  _warn_prf(average, modifier, msg_start, len(result))\n"
     ]
    },
    {
     "data": {
      "text/plain": "<Figure size 1200x500 with 1 Axes>",
      "image/png": "[encoded data removed]"
     },
     "metadata": {},
     "output_type": "display_data"
    }
   ],
   "source": [
    "from sklearn.metrics import precision_recall_fscore_support\n",
    "import utils\n",
    "\n",
    "unique_labels2 = list(set(actual_labels2))\n",
    "precision2, recall2, f1_score2, _ = precision_recall_fscore_support(actual_labels2, predicted_labels2,\n",
    "                                                                 average=None, labels=unique_labels2)\n",
    "utils.plot_class_wise_prf(unique_labels2, precision2, recall2, f1_score2)"
   ],
   "metadata": {
    "collapsed": false,
    "ExecuteTime": {
     "end_time": "2023-11-12T23:07:51.120171600Z",
     "start_time": "2023-11-12T23:07:50.974504900Z"
    }
   }
  },
  {
   "cell_type": "markdown",
   "source": [],
   "metadata": {
    "collapsed": false
   }
  }
 ],
 "metadata": {
  "kernelspec": {
   "display_name": "Python 3",
   "language": "python",
   "name": "python3"
  },
  "language_info": {
   "codemirror_mode": {
    "name": "ipython",
    "version": 2
   },
   "file_extension": ".py",
   "mimetype": "text/x-python",
   "name": "python",
   "nbconvert_exporter": "python",
   "pygments_lexer": "ipython2",
   "version": "2.7.6"
  }
 },
 "nbformat": 4,
 "nbformat_minor": 0
}
