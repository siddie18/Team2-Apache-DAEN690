{
 "nbformat": 4,
 "nbformat_minor": 0,
 "metadata": {
  "colab": {
   "provenance": []
  },
  "kernelspec": {
   "name": "python3",
   "display_name": "Python 3"
  },
  "language_info": {
   "name": "python"
  }
 },
 "cells": [
  {
   "cell_type": "markdown",
   "source": [
    "<h4>Auto ML Features Importance</h4>\n",
    "\n",
    "<p>Employing AutoML to identify which features have the most impact on the outcome of the model. To improve the final model accuracy and validate the physical model performance.</p>"
   ],
   "metadata": {
    "collapsed": false
   }
  },
  {
   "cell_type": "code",
   "execution_count": null,
   "outputs": [],
   "source": [
    "from flaml import AutoML\n",
    "import pandas as pd\n",
    "from sklearn.model_selection import train_test_split\n",
    "from sklearn.metrics import accuracy_score"
   ],
   "metadata": {
    "collapsed": false
   }
  },
  {
   "cell_type": "code",
   "source": [
    "file_path = 'data_with_all_columns.csv'"
   ],
   "metadata": {
    "id": "xNKlHDvowgRu"
   },
   "execution_count": null,
   "outputs": []
  },
  {
   "cell_type": "code",
   "source": [
    "# Load your dataset\n",
    "data = pd.read_csv(file_path)"
   ],
   "metadata": {
    "colab": {
     "base_uri": "https://localhost:8080/"
    },
    "id": "y2BXdqmEj0Ii",
    "outputId": "9c3da704-095e-477f-9d24-0c11203fe01f"
   },
   "execution_count": null,
   "outputs": [
    {
     "output_type": "stream",
     "name": "stderr",
     "text": [
      "<ipython-input-6-4f39b08df17e>:3: DtypeWarning: Columns (143) have mixed types. Specify dtype option on import or set low_memory=False.\n",
      "  data = pd.read_csv(file_path)\n"
     ]
    }
   ]
  },
  {
   "cell_type": "code",
   "source": [
    "import numpy as np\n",
    "is_inf_any_column = data.isin([np.inf, -np.inf]).any()\n",
    "columns_with_inf = is_inf_any_column[is_inf_any_column].index.tolist()\n",
    "print(f\"Columns with infinite values: {columns_with_inf}\")\n",
    "data.drop(columns=columns_with_inf, inplace=True)"
   ],
   "metadata": {
    "colab": {
     "base_uri": "https://localhost:8080/"
    },
    "id": "LKmmN3k1kidA",
    "outputId": "47a37190-34a1-466f-f931-bd3617c43de1"
   },
   "execution_count": null,
   "outputs": [
    {
     "output_type": "stream",
     "name": "stdout",
     "text": [
      "Columns with infinite values: ['GPS 1 DME Time']\n"
     ]
    }
   ]
  },
  {
   "cell_type": "code",
   "source": [
    "# Check for special characters in column names\n",
    "columns_with_special_chars = [col for col in data.columns if any(char in col for char in ['$', '#', ' '])]\n",
    "\n",
    "# Print columns with special characters\n",
    "print(f\"Columns with special characters: {columns_with_special_chars}\")"
   ],
   "metadata": {
    "colab": {
     "base_uri": "https://localhost:8080/"
    },
    "id": "J1_d-2zWmWef",
    "outputId": "cb09ce7c-c9e8-4c59-964a-deeb0105d9b9"
   },
   "execution_count": null,
   "outputs": [
    {
     "output_type": "stream",
     "name": "stdout",
     "text": [
      "Columns with special characters: ['Elapsed Time', 'Vert. Speed', 'Baro Altitude Pilot', 'Baro Setting Pilot', 'Baro Altitude Copilot', 'Baro Setting Copilot', 'Radio Altitude Pilot', 'Radio Altitude Copilot', 'Wheels On Ground-[0]', 'Wheels On Ground-[1]', 'Wheels On Ground-[2]', 'Compass Heading', 'Ground Track Pilot', 'Ground Track Copilot', 'Roll Rate', 'Pitch Rate', 'Yaw Rate', 'Turn Rate', 'Sideslip Angle', 'Angle of Attack', 'FMS Vert Flight Path Angle', 'Pitch Path', 'Heading Path', 'Flight Path Angle - VV-[0]', 'Flight Path Angle - VV-[1]', 'Flight Path Angle - VV-[2]', 'Ground Track - VV-[0]', 'Ground Track - VV-[1]', 'Ground Track - VV-[2]', 'Roll Acceleration', 'Pitch Acceleration', 'Yaw Acceleration', 'Acceleration in Latitude', 'Acceleration in Normal', 'Acceleration in Longitudinal', 'Cyclic Pitch Pos-[0]', 'Cyclic Roll Pos-[0]', 'Collective Pos-[0]', 'Pedal Pos', 'Left Brake Pos', 'Right Brake Pos', 'Throttle Position', 'Wheel Brake', 'Gear Position (Down)', 'Rotor Brake', 'Fuel Weight', 'Gross Weight', 'Fuel Flow-[0]', 'Fuel Flow-[1]', 'Fuel Pressure-[0]', 'Fuel Pressure-[1]', 'Oil Pressure-[0]', 'Oil Pressure-[1]', 'Oil Temp', 'Engine Temp-[0]', 'Engine Temp-[1]', 'Engine Torque (N1)', 'Engine Torque (N2)', 'Engine speeds (N1)-[0]', 'Engine speeds (N1)-[1]', 'Engine speeds (N2)-[0]', 'Engine speeds (N2)-[1]', 'Engine speeds (NG2)', 'Engine speeds (NG1)', 'Engine speeds (NP2)-[0]', 'Engine speeds (NP2)-[1]', 'Engine speeds (NP1)-[0]', 'Engine speeds (NP1)-[1]', 'Rotor RPM-[0]', 'Rotor RPM Value-[0]', 'Rotor RPM Value-[1]', 'Rotor Torque-[0]', 'Engine Power-[0]', 'Engine Power-[1]', 'T5 Temp ITT-[0]', 'T5 Temp ITT-[1]', 'Lateral Cyclic Eng Rotor-Disc-[0]', 'Longitudinal Cyclic Eng Rotor-Disc-[0]', 'Lateral Disc Tilt Cyclic Deflection-[0]', 'Lateral Disc Tilt Cyclic Deflection-[1]', 'Lateral Disc Tilt Cyclic Deflection-[2]', 'Lateral Disc Tilt Cyclic Deflection-[3]', 'Longitudinal Disc Tilt Cyclic Deflection-[0]', 'Longitudinal Disc Tilt Cyclic Deflection-[1]', 'Longitudinal Disc Tilt Cyclic Deflection-[2]', 'Longitudinal Disc Tilt Cyclic Deflection-[3]', 'Induced Velo Behind Disc-[0]', 'Induced Velo Behind Disc-[1]', 'Total Engine Thrust-[0]', 'Total Engine Thrust-[1]', 'Main Rotor Pos', 'Main Rotor Angle Slow', 'Swashplate Blade Gain', 'Swashplate Rotor 000', 'Swashplate Rotor 072', 'Swashplate Rotor 144', 'Swashplate Rotor 216', 'Swashplate Rotor 288', 'Swashplate Phase', 'FD pitch', 'FD roll', 'ATT Status', 'SAS Status', 'Autopilot Modes', 'Autopilot Engaged', 'ALTP Status', 'ALT Status', 'HDG Status', 'IAS Status', 'VS Status', 'APPR Status', 'NAV Status', 'VNAV Status', 'RALT Status', 'VHLD Status', 'DECEL Status', 'BC Status', 'TOGA Status', 'STBY Status', 'CPL Status', 'AP1 Status', 'AP2 Status', 'Flight ID', 'GPS 1 NAV ID', 'GPS 1 DME Time', 'GPS 1 DME Distance', 'GPS 1 DME Speed', 'NAV 1 NAV ID', 'NAV 1 DME Time', 'NAV 1 DME Distance', 'NAV 1 DME Speed', 'NAV 2 NAV ID', 'NAV 2 DME Time', 'NAV 2 DME Distance', 'NAV 2 DME Speed', 'FMS Waypoints', 'HSI Source Selection', 'Nav1 Hor Deviation', 'Nav1 Ver Deviation', 'Nav2 Hor Deviation', 'Nav2 Ver Deviation', 'GPS Hor Deviation', 'GPS Ver Deviation', 'VHF Com1 Freq', 'VHF Com2 Freq', 'VHF Nav1 Freq', 'VHF Nav2 Freq', 'Cyclic Float', 'Cyclic Cargo', 'Outside Air Temp', 'Wind Speed(True)', 'Wind Direction(Mag)', 'Actual Visibility', 'Cloud Type 0', 'Cloud Type 1', 'Cloud Type 2', 'Cloud Coverage 0', 'Cloud Coverage 1', 'Cloud Coverage 2', 'Cloud Base MSL 0', 'Cloud Base MSL 1', 'Cloud Base MSL 2', 'Cloud Tops MSL 0', 'Cloud Tops MSL 1', 'Cloud Tops MSL 2', 'Altimeter Indicator Failure', 'Airspeed Indicator Failure', 'Battery Low Volt Warning', 'EGPWS Alert', 'Engine Chip Detected', 'Fuel Pump 0 Failure Warning', 'Fuel Pump 1 Failure Warning', 'Fuel Low Warning', 'Generator 0 Failure Warning', 'Generator 1 Failure Warning', 'Hydraulic System Warning', 'Rotor Low RPM Warning', 'Rotor High RPM Warning', 'Tail Rotor Chip Warning', 'Transmission Chip Warning', 'Transmission Oil Temp Warning', 'Transmission Oil Pressure Warning']\n"
     ]
    }
   ]
  },
  {
   "cell_type": "code",
   "source": [
    "# Replace special characters in column names\n",
    "data.columns = data.columns.str.replace('[^a-zA-Z0-9_]', '_')"
   ],
   "metadata": {
    "colab": {
     "base_uri": "https://localhost:8080/"
    },
    "id": "qylzHVN0nIyZ",
    "outputId": "09fd1067-ecf2-498a-fc04-5a4459ec2295"
   },
   "execution_count": null,
   "outputs": [
    {
     "output_type": "stream",
     "name": "stdout",
     "text": [
      "        Elapsed_Time   Latitude  Longitude  Altitude_MSL_  Altitude_AGL_  \\\n",
      "0              0.028  39.358996 -74.434699         162.31           0.05   \n",
      "1              0.047  39.358996 -74.434699         162.31           0.05   \n",
      "2              0.071  39.358996 -74.434699         162.31           0.05   \n",
      "3              0.096  39.358996 -74.434699         162.31           0.05   \n",
      "4              0.119  39.358996 -74.434699         162.31           0.05   \n",
      "...              ...        ...        ...            ...            ...   \n",
      "691747      2431.729  39.450844 -74.562160          61.14           0.17   \n",
      "691748      2431.748  39.450844 -74.562160          61.14           0.17   \n",
      "691749      2431.777  39.450844 -74.562160          61.14           0.17   \n",
      "691750      2431.807  39.450844 -74.562160          61.14           0.17   \n",
      "691751      2431.827  39.450844 -74.562160          61.14           0.17   \n",
      "\n",
      "        Heading_mag_  Heading_true_  Pitch   Roll      Yaw  ...  \\\n",
      "0            164.885        152.547 -0.392 -0.273  152.189  ...   \n",
      "1            164.885        152.547 -0.392 -0.273  152.189  ...   \n",
      "2            164.885        152.547 -0.392 -0.273  152.189  ...   \n",
      "3            164.885        152.547 -0.392 -0.273  152.189  ...   \n",
      "4            164.885        152.547 -0.392 -0.273  152.189  ...   \n",
      "...              ...            ...    ...    ...      ...  ...   \n",
      "691747       314.485        302.186 -0.380  2.274  301.906  ...   \n",
      "691748       314.485        302.186 -0.379  2.274  301.906  ...   \n",
      "691749       314.485        302.186 -0.379  2.273  301.906  ...   \n",
      "691750       314.486        302.186 -0.378  2.272  301.906  ...   \n",
      "691751       314.486        302.186 -0.378  2.272  301.906  ...   \n",
      "\n",
      "        Generator_1_Failure_Warning  Hydraulic_System_Warning  \\\n",
      "0                               0.0                       0.0   \n",
      "1                               0.0                       0.0   \n",
      "2                               0.0                       0.0   \n",
      "3                               0.0                       0.0   \n",
      "4                               0.0                       0.0   \n",
      "...                             ...                       ...   \n",
      "691747                          0.0                       0.0   \n",
      "691748                          0.0                       0.0   \n",
      "691749                          0.0                       0.0   \n",
      "691750                          0.0                       0.0   \n",
      "691751                          0.0                       0.0   \n",
      "\n",
      "        Rotor_Low_RPM_Warning  Rotor_High_RPM_Warning  \\\n",
      "0                         0.0                     0.0   \n",
      "1                         0.0                     0.0   \n",
      "2                         0.0                     0.0   \n",
      "3                         0.0                     0.0   \n",
      "4                         0.0                     0.0   \n",
      "...                       ...                     ...   \n",
      "691747                    0.0                     0.0   \n",
      "691748                    0.0                     0.0   \n",
      "691749                    0.0                     0.0   \n",
      "691750                    0.0                     0.0   \n",
      "691751                    0.0                     0.0   \n",
      "\n",
      "        Tail_Rotor_Chip_Warning  Transmission_Chip_Warning  \\\n",
      "0                           0.0                        0.0   \n",
      "1                           0.0                        0.0   \n",
      "2                           0.0                        0.0   \n",
      "3                           0.0                        0.0   \n",
      "4                           0.0                        0.0   \n",
      "...                         ...                        ...   \n",
      "691747                      0.0                        0.0   \n",
      "691748                      0.0                        0.0   \n",
      "691749                      0.0                        0.0   \n",
      "691750                      0.0                        0.0   \n",
      "691751                      0.0                        0.0   \n",
      "\n",
      "        Transmission_Oil_Temp_Warning  Transmission_Oil_Pressure_Warning  \\\n",
      "0                                 0.0                                0.0   \n",
      "1                                 0.0                                0.0   \n",
      "2                                 0.0                                0.0   \n",
      "3                                 0.0                                0.0   \n",
      "4                                 0.0                                0.0   \n",
      "...                               ...                                ...   \n",
      "691747                            0.0                                0.0   \n",
      "691748                            0.0                                0.0   \n",
      "691749                            0.0                                0.0   \n",
      "691750                            0.0                                0.0   \n",
      "691751                            0.0                                0.0   \n",
      "\n",
      "                       DateTime                   Phase  \n",
      "0       2023-01-26 16:10:42.914  Hover In Ground Effect  \n",
      "1       2023-01-26 16:10:42.933  Hover In Ground Effect  \n",
      "2       2023-01-26 16:10:42.957  Hover In Ground Effect  \n",
      "3       2023-01-26 16:10:42.982  Hover In Ground Effect  \n",
      "4       2023-01-26 16:10:43.005  Hover In Ground Effect  \n",
      "...                         ...                     ...  \n",
      "691747  2023-01-26 15:03:06.318  Hover In Ground Effect  \n",
      "691748  2023-01-26 15:03:06.337  Hover In Ground Effect  \n",
      "691749  2023-01-26 15:03:06.366  Hover In Ground Effect  \n",
      "691750  2023-01-26 15:03:06.396  Hover In Ground Effect  \n",
      "691751  2023-01-26 15:03:06.416  Hover In Ground Effect  \n",
      "\n",
      "[691752 rows x 201 columns]\n"
     ]
    },
    {
     "output_type": "stream",
     "name": "stderr",
     "text": [
      "<ipython-input-20-930d134aaadb>:2: FutureWarning: The default value of regex will change from True to False in a future version.\n",
      "  data.columns = data.columns.str.replace('[^a-zA-Z0-9_]', '_')\n"
     ]
    }
   ]
  },
  {
   "cell_type": "code",
   "source": [
    "# Training a model with all the columns to find the features importance\n",
    "X = data.drop(columns=['Phase'])\n",
    "y = data['Phase']\n",
    "\n",
    "\n",
    "# Split the data into training and testing sets\n",
    "X_train, X_test, y_train, y_test = train_test_split(X, y, test_size=0.2, random_state=42)\n",
    "\n",
    "\n",
    "\n",
    "# Initialize the AutoML model\n",
    "automl = AutoML()\n",
    "\n",
    "# Specify the task as 'classification' and let FLAML search for the best model and hyperparameters\n",
    "automl_settings = {\n",
    "    \"time_budget\": 120,  # Time budget in seconds for FLAML to search for the best model\n",
    "    \"metric\": 'accuracy',  # Metric to optimize for, in this case, accuracy\n",
    "    \"task\": 'classification',  # Type of task, 'classification' for classification tasks\n",
    "    \"log_file_name\": \"training_log\"\n",
    "}\n",
    "automl.fit(X_train, y_train, **automl_settings)\n",
    "\n",
    "# Make predictions on the test set\n",
    "y_pred = automl.predict(X_test)\n",
    "\n",
    "# Calculate accuracy\n",
    "accuracy = accuracy_score(y_test, y_pred)\n",
    "print(f'Accuracy: {accuracy:.2f}')\n",
    "\n",
    "# Get the best model found by FLAML\n",
    "best_model = automl.model\n",
    "print(best_model)"
   ],
   "metadata": {
    "colab": {
     "base_uri": "https://localhost:8080/"
    },
    "id": "U7bF_Rq3wi8R",
    "outputId": "14ea7f90-f6d0-452f-b797-9a8909a4d9ac"
   },
   "execution_count": null,
   "outputs": [
    {
     "output_type": "stream",
     "name": "stdout",
     "text": [
      "[flaml.automl.logger: 11-14 02:18:59] {1679} INFO - task = classification\n",
      "[flaml.automl.logger: 11-14 02:18:59] {1690} INFO - Evaluation method: holdout\n"
     ]
    },
    {
     "output_type": "stream",
     "name": "stderr",
     "text": [
      "INFO:flaml.automl.task.generic_task:class 9 augmented from 1 to 20\n"
     ]
    },
    {
     "output_type": "stream",
     "name": "stdout",
     "text": [
      "[flaml.automl.logger: 11-14 02:19:05] {1788} INFO - Minimizing error metric: 1-accuracy\n",
      "[flaml.automl.logger: 11-14 02:19:05] {1900} INFO - List of ML learners in AutoML Run: ['lgbm', 'rf', 'xgboost', 'extra_tree', 'xgb_limitdepth', 'lrl1']\n",
      "[flaml.automl.logger: 11-14 02:19:05] {2218} INFO - iteration 0, current learner lgbm\n",
      "[flaml.automl.logger: 11-14 02:19:05] {2344} INFO - Estimated sufficient time budget=267071s. Estimated necessary time budget=6156s.\n",
      "[flaml.automl.logger: 11-14 02:19:05] {2391} INFO -  at 68.9s,\testimator lgbm's best error=0.0767,\tbest estimator lgbm's best error=0.0767\n",
      "[flaml.automl.logger: 11-14 02:19:05] {2218} INFO - iteration 1, current learner lgbm\n",
      "[flaml.automl.logger: 11-14 02:19:06] {2391} INFO -  at 69.5s,\testimator lgbm's best error=0.0767,\tbest estimator lgbm's best error=0.0767\n",
      "[flaml.automl.logger: 11-14 02:19:06] {2218} INFO - iteration 2, current learner lgbm\n",
      "[flaml.automl.logger: 11-14 02:19:06] {2391} INFO -  at 70.0s,\testimator lgbm's best error=0.0067,\tbest estimator lgbm's best error=0.0067\n",
      "[flaml.automl.logger: 11-14 02:19:06] {2218} INFO - iteration 3, current learner xgboost\n",
      "[flaml.automl.logger: 11-14 02:19:07] {2391} INFO -  at 70.4s,\testimator xgboost's best error=0.0554,\tbest estimator lgbm's best error=0.0067\n",
      "[flaml.automl.logger: 11-14 02:19:07] {2218} INFO - iteration 4, current learner lgbm\n",
      "[flaml.automl.logger: 11-14 02:19:07] {2391} INFO -  at 70.9s,\testimator lgbm's best error=0.0021,\tbest estimator lgbm's best error=0.0021\n",
      "[flaml.automl.logger: 11-14 02:19:07] {2218} INFO - iteration 5, current learner lgbm\n",
      "[flaml.automl.logger: 11-14 02:19:08] {2391} INFO -  at 71.4s,\testimator lgbm's best error=0.0021,\tbest estimator lgbm's best error=0.0021\n",
      "[flaml.automl.logger: 11-14 02:19:08] {2218} INFO - iteration 6, current learner lgbm\n",
      "[flaml.automl.logger: 11-14 02:19:08] {2391} INFO -  at 72.0s,\testimator lgbm's best error=0.0021,\tbest estimator lgbm's best error=0.0021\n",
      "[flaml.automl.logger: 11-14 02:19:08] {2218} INFO - iteration 7, current learner lgbm\n",
      "[flaml.automl.logger: 11-14 02:19:09] {2391} INFO -  at 72.5s,\testimator lgbm's best error=0.0021,\tbest estimator lgbm's best error=0.0021\n",
      "[flaml.automl.logger: 11-14 02:19:09] {2218} INFO - iteration 8, current learner lgbm\n",
      "[flaml.automl.logger: 11-14 02:19:11] {2391} INFO -  at 74.3s,\testimator lgbm's best error=0.0021,\tbest estimator lgbm's best error=0.0021\n",
      "[flaml.automl.logger: 11-14 02:19:11] {2218} INFO - iteration 9, current learner xgboost\n",
      "[flaml.automl.logger: 11-14 02:19:11] {2391} INFO -  at 75.1s,\testimator xgboost's best error=0.0554,\tbest estimator lgbm's best error=0.0021\n",
      "[flaml.automl.logger: 11-14 02:19:11] {2218} INFO - iteration 10, current learner extra_tree\n",
      "[flaml.automl.logger: 11-14 02:19:12] {2391} INFO -  at 75.3s,\testimator extra_tree's best error=0.3893,\tbest estimator lgbm's best error=0.0021\n",
      "[flaml.automl.logger: 11-14 02:19:12] {2218} INFO - iteration 11, current learner extra_tree\n",
      "[flaml.automl.logger: 11-14 02:19:12] {2391} INFO -  at 75.4s,\testimator extra_tree's best error=0.2896,\tbest estimator lgbm's best error=0.0021\n",
      "[flaml.automl.logger: 11-14 02:19:12] {2218} INFO - iteration 12, current learner extra_tree\n",
      "[flaml.automl.logger: 11-14 02:19:12] {2391} INFO -  at 75.6s,\testimator extra_tree's best error=0.2896,\tbest estimator lgbm's best error=0.0021\n",
      "[flaml.automl.logger: 11-14 02:19:12] {2218} INFO - iteration 13, current learner rf\n",
      "[flaml.automl.logger: 11-14 02:19:12] {2391} INFO -  at 75.9s,\testimator rf's best error=0.2531,\tbest estimator lgbm's best error=0.0021\n",
      "[flaml.automl.logger: 11-14 02:19:12] {2218} INFO - iteration 14, current learner rf\n",
      "[flaml.automl.logger: 11-14 02:19:12] {2391} INFO -  at 76.1s,\testimator rf's best error=0.1081,\tbest estimator lgbm's best error=0.0021\n",
      "[flaml.automl.logger: 11-14 02:19:12] {2218} INFO - iteration 15, current learner rf\n",
      "[flaml.automl.logger: 11-14 02:19:13] {2391} INFO -  at 76.4s,\testimator rf's best error=0.1081,\tbest estimator lgbm's best error=0.0021\n",
      "[flaml.automl.logger: 11-14 02:19:13] {2218} INFO - iteration 16, current learner rf\n",
      "[flaml.automl.logger: 11-14 02:19:13] {2391} INFO -  at 76.8s,\testimator rf's best error=0.0939,\tbest estimator lgbm's best error=0.0021\n",
      "[flaml.automl.logger: 11-14 02:19:13] {2218} INFO - iteration 17, current learner extra_tree\n",
      "[flaml.automl.logger: 11-14 02:19:13] {2391} INFO -  at 77.0s,\testimator extra_tree's best error=0.2896,\tbest estimator lgbm's best error=0.0021\n",
      "[flaml.automl.logger: 11-14 02:19:13] {2218} INFO - iteration 18, current learner lgbm\n",
      "[flaml.automl.logger: 11-14 02:19:15] {2391} INFO -  at 78.3s,\testimator lgbm's best error=0.0015,\tbest estimator lgbm's best error=0.0015\n",
      "[flaml.automl.logger: 11-14 02:19:15] {2218} INFO - iteration 19, current learner extra_tree\n",
      "[flaml.automl.logger: 11-14 02:19:15] {2391} INFO -  at 78.4s,\testimator extra_tree's best error=0.2500,\tbest estimator lgbm's best error=0.0015\n",
      "[flaml.automl.logger: 11-14 02:19:15] {2218} INFO - iteration 20, current learner xgboost\n",
      "[flaml.automl.logger: 11-14 02:19:15] {2391} INFO -  at 78.7s,\testimator xgboost's best error=0.0093,\tbest estimator lgbm's best error=0.0015\n",
      "[flaml.automl.logger: 11-14 02:19:15] {2218} INFO - iteration 21, current learner xgboost\n",
      "[flaml.automl.logger: 11-14 02:19:15] {2391} INFO -  at 79.0s,\testimator xgboost's best error=0.0074,\tbest estimator lgbm's best error=0.0015\n",
      "[flaml.automl.logger: 11-14 02:19:15] {2218} INFO - iteration 22, current learner lgbm\n",
      "[flaml.automl.logger: 11-14 02:19:16] {2391} INFO -  at 80.2s,\testimator lgbm's best error=0.0015,\tbest estimator lgbm's best error=0.0015\n",
      "[flaml.automl.logger: 11-14 02:19:16] {2218} INFO - iteration 23, current learner lgbm\n",
      "[flaml.automl.logger: 11-14 02:19:18] {2391} INFO -  at 81.3s,\testimator lgbm's best error=0.0015,\tbest estimator lgbm's best error=0.0015\n",
      "[flaml.automl.logger: 11-14 02:19:18] {2218} INFO - iteration 24, current learner xgboost\n",
      "[flaml.automl.logger: 11-14 02:19:18] {2391} INFO -  at 81.7s,\testimator xgboost's best error=0.0044,\tbest estimator lgbm's best error=0.0015\n",
      "[flaml.automl.logger: 11-14 02:19:18] {2218} INFO - iteration 25, current learner extra_tree\n",
      "[flaml.automl.logger: 11-14 02:19:18] {2391} INFO -  at 81.9s,\testimator extra_tree's best error=0.2500,\tbest estimator lgbm's best error=0.0015\n",
      "[flaml.automl.logger: 11-14 02:19:18] {2218} INFO - iteration 26, current learner xgboost\n",
      "[flaml.automl.logger: 11-14 02:19:19] {2391} INFO -  at 83.1s,\testimator xgboost's best error=0.0044,\tbest estimator lgbm's best error=0.0015\n",
      "[flaml.automl.logger: 11-14 02:19:19] {2218} INFO - iteration 27, current learner xgboost\n",
      "[flaml.automl.logger: 11-14 02:19:21] {2391} INFO -  at 84.9s,\testimator xgboost's best error=0.0044,\tbest estimator lgbm's best error=0.0015\n",
      "[flaml.automl.logger: 11-14 02:19:21] {2218} INFO - iteration 28, current learner extra_tree\n",
      "[flaml.automl.logger: 11-14 02:19:21] {2391} INFO -  at 85.0s,\testimator extra_tree's best error=0.1767,\tbest estimator lgbm's best error=0.0015\n",
      "[flaml.automl.logger: 11-14 02:19:21] {2218} INFO - iteration 29, current learner extra_tree\n",
      "[flaml.automl.logger: 11-14 02:19:22] {2391} INFO -  at 85.4s,\testimator extra_tree's best error=0.1755,\tbest estimator lgbm's best error=0.0015\n",
      "[flaml.automl.logger: 11-14 02:19:22] {2218} INFO - iteration 30, current learner lgbm\n",
      "[flaml.automl.logger: 11-14 02:19:23] {2391} INFO -  at 86.5s,\testimator lgbm's best error=0.0015,\tbest estimator lgbm's best error=0.0015\n",
      "[flaml.automl.logger: 11-14 02:19:23] {2218} INFO - iteration 31, current learner lgbm\n",
      "[flaml.automl.logger: 11-14 02:19:26] {2391} INFO -  at 89.5s,\testimator lgbm's best error=0.0015,\tbest estimator lgbm's best error=0.0015\n",
      "[flaml.automl.logger: 11-14 02:19:26] {2218} INFO - iteration 32, current learner lgbm\n",
      "[flaml.automl.logger: 11-14 02:19:45] {2391} INFO -  at 108.8s,\testimator lgbm's best error=0.0015,\tbest estimator lgbm's best error=0.0015\n",
      "[flaml.automl.logger: 11-14 02:19:45] {2218} INFO - iteration 33, current learner xgboost\n",
      "[flaml.automl.logger: 11-14 02:19:46] {2391} INFO -  at 109.6s,\testimator xgboost's best error=0.0026,\tbest estimator lgbm's best error=0.0015\n",
      "[flaml.automl.logger: 11-14 02:19:46] {2218} INFO - iteration 34, current learner lgbm\n",
      "[flaml.automl.logger: 11-14 02:19:57] {2391} INFO -  at 120.3s,\testimator lgbm's best error=0.0015,\tbest estimator lgbm's best error=0.0015\n",
      "[flaml.automl.logger: 11-14 02:20:17] {2627} INFO - retrain lgbm for 20.5s\n",
      "[flaml.automl.logger: 11-14 02:20:17] {2630} INFO - retrained model: LGBMClassifier(colsample_bytree=0.9285002286474459,\n",
      "               learning_rate=0.7260594590615893, max_bin=511,\n",
      "               min_child_samples=9, n_estimators=1, n_jobs=-1, num_leaves=4,\n",
      "               reg_alpha=0.0036840681931986645, reg_lambda=0.7532480505730402,\n",
      "               verbose=-1)\n",
      "[flaml.automl.logger: 11-14 02:20:17] {1930} INFO - fit succeeded\n",
      "[flaml.automl.logger: 11-14 02:20:17] {1931} INFO - Time taken to find the best model: 78.25098395347595\n",
      "Accuracy: 0.95\n",
      "<flaml.automl.model.LGBMEstimator object at 0x7d04f8096080>\n"
     ]
    }
   ]
  },
  {
   "cell_type": "markdown",
   "source": [],
   "metadata": {
    "id": "82UL3aOh220Z"
   }
  },
  {
   "cell_type": "markdown",
   "source": [],
   "metadata": {
    "id": "Z2TqHXfER1OM"
   }
  },
  {
   "cell_type": "code",
   "source": [
    "# Read the log file for detailed information\n",
    "with open(automl_settings[\"log_file_name\"], \"r\") as log_file:\n",
    "    log_content = log_file.read()\n",
    "\n",
    "# Print the content of the log file\n",
    "print(log_content)"
   ],
   "metadata": {
    "colab": {
     "base_uri": "https://localhost:8080/"
    },
    "id": "xHBoFmlEGcQT",
    "outputId": "7378f851-b63f-4309-aa7d-d11cb69449a3"
   },
   "execution_count": null,
   "outputs": [
    {
     "output_type": "stream",
     "name": "stdout",
     "text": [
      "{\"record_id\": 0, \"iter_per_learner\": 1, \"logged_metric\": {\"pred_time\": 2.2139877220369247e-06}, \"trial_time\": 0.5345993041992188, \"wall_clock_time\": 68.92504143714905, \"validation_loss\": 0.07674658091091402, \"config\": {\"n_estimators\": 4, \"num_leaves\": 4, \"min_child_samples\": 20, \"learning_rate\": 0.09999999999999995, \"log_max_bin\": 8, \"colsample_bytree\": 1.0, \"reg_alpha\": 0.0009765625, \"reg_lambda\": 1.0, \"FLAML_sample_size\": 10000}, \"learner\": \"lgbm\", \"sample_size\": 10000}\n",
      "{\"record_id\": 1, \"iter_per_learner\": 3, \"logged_metric\": {\"pred_time\": 2.3964230980783257e-06}, \"trial_time\": 0.5117146968841553, \"wall_clock_time\": 69.96973872184753, \"validation_loss\": 0.006666546223193848, \"config\": {\"n_estimators\": 4, \"num_leaves\": 4, \"min_child_samples\": 12, \"learning_rate\": 0.26770501231052046, \"log_max_bin\": 7, \"colsample_bytree\": 1.0, \"reg_alpha\": 0.001348364934537134, \"reg_lambda\": 1.4442580148221913, \"FLAML_sample_size\": 10000}, \"learner\": \"lgbm\", \"sample_size\": 10000}\n",
      "{\"record_id\": 2, \"iter_per_learner\": 4, \"logged_metric\": {\"pred_time\": 2.2723399919342864e-06}, \"trial_time\": 0.5393102169036865, \"wall_clock_time\": 70.90302968025208, \"validation_loss\": 0.0021318494697476487, \"config\": {\"n_estimators\": 12, \"num_leaves\": 4, \"min_child_samples\": 9, \"learning_rate\": 0.7260594590615893, \"log_max_bin\": 9, \"colsample_bytree\": 0.9285002286474459, \"reg_alpha\": 0.0036840681931986645, \"reg_lambda\": 0.7532480505730402, \"FLAML_sample_size\": 10000}, \"learner\": \"lgbm\", \"sample_size\": 10000}\n",
      "{\"record_id\": 3, \"iter_per_learner\": 9, \"logged_metric\": {\"pred_time\": 2.2571607345992083e-06}, \"trial_time\": 1.2303900718688965, \"wall_clock_time\": 78.25098395347595, \"validation_loss\": 0.0014633881953352024, \"config\": {\"n_estimators\": 12, \"num_leaves\": 4, \"min_child_samples\": 9, \"learning_rate\": 0.7260594590615893, \"log_max_bin\": 9, \"colsample_bytree\": 0.9285002286474459, \"reg_alpha\": 0.0036840681931986645, \"reg_lambda\": 0.7532480505730402, \"FLAML_sample_size\": 40000}, \"learner\": \"lgbm\", \"sample_size\": 40000}\n",
      "{\"curr_best_record_id\": 3}\n",
      "\n"
     ]
    }
   ]
  },
  {
   "cell_type": "code",
   "source": [
    "import matplotlib.pyplot as plt\n",
    "features_ = []\n",
    "importances_ = []\n",
    "for i in range(0, len(automl.model.estimator.feature_name_)):\n",
    "  if automl.model.estimator.feature_importances_[i]>5:\n",
    "    features_.append(automl.model.estimator.feature_name_[i])\n",
    "    importances_.append(automl.model.estimator.feature_importances_[i])\n",
    "\n",
    "plt.barh(features_, importances_)"
   ],
   "metadata": {
    "colab": {
     "base_uri": "https://localhost:8080/",
     "height": 447
    },
    "id": "2M7kaqJ0o9V0",
    "outputId": "ffeb260d-6c9b-4c4a-a800-41dd9469b110"
   },
   "execution_count": null,
   "outputs": [
    {
     "output_type": "execute_result",
     "data": {
      "text/plain": [
       "<BarContainer object of 14 artists>"
      ]
     },
     "metadata": {},
     "execution_count": 43
    },
    {
     "output_type": "display_data",
     "data": {
      "text/plain": [
       "<Figure size 640x480 with 1 Axes>"
      ],
      "image/png": "[encoded data removed]"
     },
     "metadata": {}
    }
   ]
  },
  {
   "cell_type": "code",
   "source": [
    "from flaml.automl.data import get_output_from_log\n",
    "\n",
    "time_history, best_valid_loss_history, valid_loss_history, config_history, metric_history = get_output_from_log(filename=\"training_log\", time_budget=120)"
   ],
   "metadata": {
    "id": "7lYUg2ooJMBu"
   },
   "execution_count": null,
   "outputs": []
  },
  {
   "cell_type": "code",
   "source": [
    "import matplotlib.pyplot as plt\n",
    "import numpy as np\n",
    "\n",
    "plt.title(\"Learning Curve\")\n",
    "plt.xlabel(\"Wall Clock Time (s)\")\n",
    "plt.ylabel(\"Validation Accuracy\")\n",
    "plt.step(time_history, 1 - np.array(best_valid_loss_history), where=\"post\")\n",
    "plt.show()"
   ],
   "metadata": {
    "colab": {
     "base_uri": "https://localhost:8080/",
     "height": 472
    },
    "id": "7jmPF4wrJpqo",
    "outputId": "545d2ba4-18cd-4c98-82ef-e7a70d773e33"
   },
   "execution_count": null,
   "outputs": [
    {
     "output_type": "display_data",
     "data": {
      "text/plain": [
       "<Figure size 640x480 with 1 Axes>"
      ],
      "image/png": "[encoded data removed]"
     },
     "metadata": {}
    }
   ]
  },
  {
   "cell_type": "code",
   "source": [
    "best_model = automl.model\n",
    "print(best_model)"
   ],
   "metadata": {
    "id": "b4DhP-0WykfS",
    "colab": {
     "base_uri": "https://localhost:8080/"
    },
    "outputId": "e99cb68b-5079-454a-f89a-fb87282e0f25"
   },
   "execution_count": null,
   "outputs": [
    {
     "output_type": "stream",
     "name": "stdout",
     "text": [
      "<flaml.automl.model.RandomForestEstimator object at 0x7985d018a530>\n"
     ]
    }
   ]
  }
 ]
}
